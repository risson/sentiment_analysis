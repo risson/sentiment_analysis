{
 "cells": [
  {
   "cell_type": "markdown",
   "metadata": {},
   "source": [
    "According to Kim Yoon's paper: https://arxiv.org/abs/1408.5882, sentence classification (including sentiment analysis) can be done using CNN. This notebook I will try to take it into practice."
   ]
  },
  {
   "cell_type": "markdown",
   "metadata": {},
   "source": [
    "## Install some packages"
   ]
  },
  {
   "cell_type": "code",
   "execution_count": 34,
   "metadata": {},
   "outputs": [],
   "source": [
    "import numpy as np\n",
    "import keras\n",
    "from keras.preprocessing import sequence\n",
    "from keras.preprocessing.text import Tokenizer\n",
    "from keras.preprocessing.sequence import sequence\n",
    "from keras import Sequential, Input, Model\n",
    "from keras.layers import Dense, Activation, Dropout, Embedding, Conv1D, GlobalMaxPool1D, concatenate\n",
    "from keras.callbacks import EarlyStopping, ModelCheckpoint\n",
    "from keras.models import load_model\n",
    "import matplotlib as mpl\n",
    "import matplotlib.pyplot as plt\n",
    "import tensorflow as tf\n",
    "from sklearn.metrics import classification_report,f1_score\n",
    "import pandas as pd\n",
    "import seaborn as sns\n",
    "\n",
    "import os"
   ]
  },
  {
   "cell_type": "markdown",
   "metadata": {},
   "source": [
    "## Take a sneak peek at the data\n",
    "I first planned to crawl data from autohome.com but it has very strong anti-spider technique. To save time and try to evaluate if it works, I crawled around 199k comments from 58che.com to see if the CNN method works. "
   ]
  },
  {
   "cell_type": "code",
   "execution_count": 24,
   "metadata": {},
   "outputs": [
    {
     "name": "stdout",
     "output_type": "stream",
     "text": [
      "Length of data set: 189139\n",
      "First few lines of x:\n",
      "['不过就是起步慢一点。', '一箱油才跑400多，严重怀疑行车电脑油耗的准确性', '前中央扶手储存空间太小,只能开车垫胳膊用.', '先介绍一下我的车，骐达手动最最最最低配。月光银，4000公里以前基本油耗是5.7-5.9没有超过6.0，不过4000公里以后感觉发动机明显声音变大，油耗也有点升高达到6.0 所以近期也比较着急拉车赶紧做二保。', '我跑过180KM有点飘', '再有一个就是风声大了点', '空调坏过一次', '空调我坐后面就比较吃亏了，开到3档前面喊冷，我刚感觉到不热，比较麻烦！', '我的DD是08年6月的，现在跑了3W6。今天上班的时候挂D档起步，听到右侧前轮有轻微的“吱吱”声，下车查看无果。继续开车前进，“吱吱”声依然，踩刹车时“吱吱”声就变的很大了，松开刹车，声响随着车子前进和提速慢慢变小。再踩一脚刹车“吱吱”声又出现了。不', '车内异响。有时在波棍座附近、有时在车顶灯附近、有时在左驾驶员车窗上方...确实有时很烦人，']\n",
      "First few lines of y:\n",
      "[0, 0, 0, 0, 0, 0, 0, 0, 0, 0]\n"
     ]
    }
   ],
   "source": [
    "DS_PATH = 'data/'\n",
    "LABELS = {0:'neg',1:'pos'}\n",
    "\n",
    "x = []\n",
    "y = []\n",
    "\n",
    "with open(os.path.join(DS_PATH, 'comment.txt'),'r',encoding='utf-8') as f:\n",
    "    for line in f:\n",
    "        row = line.split(' ', 1)\n",
    "        x.append(row[1].strip())\n",
    "        y.append(row[0])\n",
    "\n",
    "y = [1 if _=='v1' else 0 for _ in y]\n",
    "\n",
    "print('Length of data set: {}'.format(len(x)))\n",
    "print('First few lines of x:')\n",
    "print(x[:10])\n",
    "print('First few lines of y:')\n",
    "print(y[:10])"
   ]
  },
  {
   "cell_type": "markdown",
   "metadata": {},
   "source": [
    "## Preprocessing\n",
    "We will try preprocessing Chinese text in 2 ways\n",
    "1. Without word split\n",
    "2. With word split (like using jieba package)\n",
    "\n",
    "In this post I will explore the method without word split.\n",
    "We use keras Tokenizer to turn word(charactor) into index"
   ]
  },
  {
   "cell_type": "code",
   "execution_count": 25,
   "metadata": {},
   "outputs": [
    {
     "name": "stdout",
     "output_type": "stream",
     "text": [
      "Length of dictionary:\n",
      "4485\n",
      "First few items in dictionary:\n",
      "{'，': 1, '的': 2, '。': 3, '不': 4, '车': 5, '是': 6, '有': 7, '了': 8, '0': 9, ' ': 10}\n"
     ]
    }
   ],
   "source": [
    "tokenizer = Tokenizer(char_level=True, oov_token='UNK')\n",
    "tokenizer.fit_on_texts(x)\n",
    "DICTLEN = len(tokenizer.word_index)\n",
    "print('Length of dictionary:')\n",
    "print(DICTLEN)\n",
    "keys = [_[0] for _ in tokenizer.word_index.items()]\n",
    "values = [_[1] for _ in tokenizer.word_index.items()]\n",
    "print('First few items in dictionary:')\n",
    "print({k: v for k, v in zip(keys[:10],values[:10])})"
   ]
  },
  {
   "cell_type": "code",
   "execution_count": 26,
   "metadata": {},
   "outputs": [
    {
     "name": "stdout",
     "output_type": "stream",
     "text": [
      "First example after preprocessing:\n",
      "[4, 51, 29, 6, 79, 191, 299, 11, 32, 3]\n"
     ]
    }
   ],
   "source": [
    "x_seq = tokenizer.texts_to_sequences(x)\n",
    "print('First example after preprocessing:')\n",
    "print(x_seq[0])"
   ]
  },
  {
   "cell_type": "code",
   "execution_count": 27,
   "metadata": {},
   "outputs": [
    {
     "data": {
      "text/plain": [
       "[[22, 161, 51, 17, 92, 9, 352, 193, 7, 32, 692],\n",
       " [272, 7, 11, 27, 29, 6, 236, 83, 14, 8, 32],\n",
       " [33, 121, 621, 51, 11, 144]]"
      ]
     },
     "execution_count": 27,
     "metadata": {},
     "output_type": "execute_result"
    }
   ],
   "source": [
    "x_seq[4:7]"
   ]
  },
  {
   "cell_type": "markdown",
   "metadata": {},
   "source": [
    "### Padding sequence\n",
    "In order to train CNN easier, I make comments into same length. To do so, I use the pad_sequence function in Keras."
   ]
  },
  {
   "cell_type": "code",
   "execution_count": 6,
   "metadata": {},
   "outputs": [
    {
     "data": {
      "image/png": "[encoded data removed]",
      "text/plain": [
       "<Figure size 432x288 with 1 Axes>"
      ]
     },
     "metadata": {},
     "output_type": "display_data"
    }
   ],
   "source": [
    "plt.hist(x=[len(_) for _ in x_seq], bins=100);"
   ]
  },
  {
   "cell_type": "markdown",
   "metadata": {},
   "source": [
    "Let's set maxlen as 50 to be our first choice."
   ]
  },
  {
   "cell_type": "code",
   "execution_count": 28,
   "metadata": {},
   "outputs": [],
   "source": [
    "MAXLEN = 100\n",
    "x_idx = sequence.pad_sequences(x_seq, maxlen=MAXLEN, padding='post', value=0)\n",
    "#x_idx = x_idx.tolist()"
   ]
  },
  {
   "cell_type": "markdown",
   "metadata": {},
   "source": [
    "## Split the data into train set and val set"
   ]
  },
  {
   "cell_type": "code",
   "execution_count": 29,
   "metadata": {},
   "outputs": [],
   "source": [
    "np.random.seed(1)\n",
    "index = list(range(len(x)))\n",
    "np.random.shuffle(index)\n",
    "\n",
    "# set training length as 95%\n",
    "TRAINLEN = round(len(x)*0.95)\n",
    "train_index = index[:TRAINLEN]\n",
    "val_index = index[TRAINLEN:]"
   ]
  },
  {
   "cell_type": "code",
   "execution_count": 30,
   "metadata": {},
   "outputs": [],
   "source": [
    "x_train_raw = [x[i] for i in train_index]\n",
    "x_val_raw = [x[i] for i in val_index]\n",
    "\n",
    "x_train = [x_idx[i] for i in train_index]\n",
    "y_train = [y[i] for i in train_index]\n",
    "x_val = [x_idx[i] for i in val_index]\n",
    "y_val = [y[i] for i in val_index]"
   ]
  },
  {
   "cell_type": "code",
   "execution_count": 31,
   "metadata": {},
   "outputs": [
    {
     "name": "stdout",
     "output_type": "stream",
     "text": [
      "Positive count for whole data set:\n",
      "112515 (0.5948799560111876)\n",
      "Positive count for training set:\n",
      "106915 (0.5950234302823878)\n",
      "Positive count for validation set:\n",
      "5600 (0.5921539600296077)\n"
     ]
    }
   ],
   "source": [
    "print('Positive count for whole data set:')\n",
    "print('{} ({})'.format(sum(y), sum(y)/len(y)))\n",
    "print('Positive count for training set:')\n",
    "print('{} ({})'.format(sum(y_train), sum(y_train)/len(y_train)))\n",
    "print('Positive count for validation set:')\n",
    "print('{} ({})'.format(sum(y_val), sum(y_val)/len(y_val)))"
   ]
  },
  {
   "cell_type": "code",
   "execution_count": 11,
   "metadata": {},
   "outputs": [
    {
     "data": {
      "text/plain": [
       "'我喜欢宝马的前脸，尊贵时尚且不失霸气。'"
      ]
     },
     "execution_count": 11,
     "metadata": {},
     "output_type": "execute_result"
    }
   ],
   "source": [
    "x_train_raw[5]"
   ]
  },
  {
   "cell_type": "code",
   "execution_count": 12,
   "metadata": {},
   "outputs": [
    {
     "data": {
      "text/plain": [
       "array([  22,  156,  228,  495,  332,    2,   73,  555,    1, 1359,  469,\n",
       "         19,  244,  280,    4,  510,  637,   89,    3,    0,    0,    0,\n",
       "          0,    0,    0,    0,    0,    0,    0,    0,    0,    0,    0,\n",
       "          0,    0,    0,    0,    0,    0,    0,    0,    0,    0,    0,\n",
       "          0,    0,    0,    0,    0,    0])"
      ]
     },
     "execution_count": 12,
     "metadata": {},
     "output_type": "execute_result"
    }
   ],
   "source": [
    "x_train[5]"
   ]
  },
  {
   "cell_type": "code",
   "execution_count": 13,
   "metadata": {},
   "outputs": [
    {
     "data": {
      "text/plain": [
       "1"
      ]
     },
     "execution_count": 13,
     "metadata": {},
     "output_type": "execute_result"
    }
   ],
   "source": [
    "y_train[5]"
   ]
  },
  {
   "cell_type": "code",
   "execution_count": 14,
   "metadata": {},
   "outputs": [
    {
     "data": {
      "text/plain": [
       "'油耗:让人惊喜'"
      ]
     },
     "execution_count": 14,
     "metadata": {},
     "output_type": "execute_result"
    }
   ],
   "source": [
    "x_val_raw[1]"
   ]
  },
  {
   "cell_type": "code",
   "execution_count": 15,
   "metadata": {},
   "outputs": [
    {
     "data": {
      "text/plain": [
       "array([ 15,  54,  16, 185,  46, 391, 156,   0,   0,   0,   0,   0,   0,\n",
       "         0,   0,   0,   0,   0,   0,   0,   0,   0,   0,   0,   0,   0,\n",
       "         0,   0,   0,   0,   0,   0,   0,   0,   0,   0,   0,   0,   0,\n",
       "         0,   0,   0,   0,   0,   0,   0,   0,   0,   0,   0])"
      ]
     },
     "execution_count": 15,
     "metadata": {},
     "output_type": "execute_result"
    }
   ],
   "source": [
    "x_val[1]"
   ]
  },
  {
   "cell_type": "code",
   "execution_count": 16,
   "metadata": {},
   "outputs": [
    {
     "data": {
      "text/plain": [
       "1"
      ]
     },
     "execution_count": 16,
     "metadata": {},
     "output_type": "execute_result"
    }
   ],
   "source": [
    "y_val[1]"
   ]
  },
  {
   "cell_type": "markdown",
   "metadata": {},
   "source": [
    "### Train CNN model\n",
    "Set up some basic hyper parameters first. Based on CPU or GPU:"
   ]
  },
  {
   "cell_type": "code",
   "execution_count": 17,
   "metadata": {},
   "outputs": [],
   "source": [
    "if tf.test.is_gpu_available():\n",
    "    BATCH_SIZE = 128\n",
    "    EPOCHS = 8\n",
    "\n",
    "else:\n",
    "    BATCH_SIZE = 64\n",
    "    EPOCHS = 8"
   ]
  },
  {
   "cell_type": "code",
   "execution_count": 18,
   "metadata": {},
   "outputs": [],
   "source": [
    "EMBED_DIM = 40\n",
    "FILTERS = 128\n",
    "KERNEL_SIZE = 3\n",
    "HIDDEN_UNITS = 128\n",
    "VOCAB_SIZE = len(tokenizer.word_index)+1"
   ]
  },
  {
   "cell_type": "markdown",
   "metadata": {},
   "source": [
    "#### 1. without drop out layer"
   ]
  },
  {
   "cell_type": "code",
   "execution_count": 44,
   "metadata": {},
   "outputs": [
    {
     "name": "stdout",
     "output_type": "stream",
     "text": [
      "_________________________________________________________________\n",
      "Layer (type)                 Output Shape              Param #   \n",
      "=================================================================\n",
      "embedding_2 (Embedding)      (None, 50, 40)            179440    \n",
      "_________________________________________________________________\n",
      "conv1d_2 (Conv1D)            (None, 48, 128)           15488     \n",
      "_________________________________________________________________\n",
      "global_max_pooling1d_2 (Glob (None, 128)               0         \n",
      "_________________________________________________________________\n",
      "dense_3 (Dense)              (None, 128)               16512     \n",
      "_________________________________________________________________\n",
      "activation_3 (Activation)    (None, 128)               0         \n",
      "_________________________________________________________________\n",
      "dense_4 (Dense)              (None, 1)                 129       \n",
      "_________________________________________________________________\n",
      "activation_4 (Activation)    (None, 1)                 0         \n",
      "=================================================================\n",
      "Total params: 211,569\n",
      "Trainable params: 211,569\n",
      "Non-trainable params: 0\n",
      "_________________________________________________________________\n"
     ]
    }
   ],
   "source": [
    "model1 = Sequential()\n",
    "\n",
    "# Start off with embedding layer to map vocab ids into EMBED_DIM dimensions\n",
    "model1.add(Embedding(VOCAB_SIZE, EMBED_DIM, input_length=MAXLEN))\n",
    "#model.add(Dropout(0.2))\n",
    "\n",
    "# Add CNN\n",
    "model1.add(Conv1D(filters=FILTERS, kernel_size=KERNEL_SIZE, activation='relu'))\n",
    "\n",
    "# Add Max Pooling\n",
    "model1.add(GlobalMaxPool1D())\n",
    "\n",
    "# Add an MLP\n",
    "model1.add(Dense(HIDDEN_UNITS))\n",
    "#model.add(Dropout(0.2))\n",
    "model1.add(Activation('relu'))\n",
    "\n",
    "# Project into single unit output layer, and convert with sigmoid\n",
    "model1.add(Dense(1))\n",
    "model1.add(Activation('sigmoid'))\n",
    "\n",
    "model1.compile(optimizer='adam', loss='binary_crossentropy', metrics=['accuracy'])\n",
    "model1.summary()"
   ]
  },
  {
   "cell_type": "code",
   "execution_count": 21,
   "metadata": {},
   "outputs": [
    {
     "name": "stdout",
     "output_type": "stream",
     "text": [
      "Train on 161713 samples, validate on 17969 samples\n",
      "Epoch 1/8\n",
      "161713/161713 [==============================] - 69s 427us/step - loss: 0.2741 - acc: 0.8852 - val_loss: 0.2584 - val_acc: 0.8932\n",
      "\n",
      "Epoch 00001: val_loss improved from inf to 0.25837, saving model to model/model1_epoch01.h5\n",
      "Epoch 2/8\n",
      "161713/161713 [==============================] - 68s 420us/step - loss: 0.2124 - acc: 0.9172 - val_loss: 0.2434 - val_acc: 0.9026\n",
      "\n",
      "Epoch 00002: val_loss improved from 0.25837 to 0.24344, saving model to model/model1_epoch02.h5\n",
      "Epoch 3/8\n",
      "161713/161713 [==============================] - 69s 427us/step - loss: 0.1849 - acc: 0.9291 - val_loss: 0.2337 - val_acc: 0.9085\n",
      "\n",
      "Epoch 00003: val_loss improved from 0.24344 to 0.23367, saving model to model/model1_epoch03.h5\n",
      "Epoch 4/8\n",
      "161713/161713 [==============================] - 76s 469us/step - loss: 0.1619 - acc: 0.9389 - val_loss: 0.2373 - val_acc: 0.9076\n",
      "\n",
      "Epoch 00004: val_loss did not improve from 0.23367\n",
      "Epoch 5/8\n",
      "161713/161713 [==============================] - 72s 443us/step - loss: 0.1423 - acc: 0.9471 - val_loss: 0.2553 - val_acc: 0.9082\n",
      "\n",
      "Epoch 00005: val_loss did not improve from 0.23367\n",
      "Epoch 00005: early stopping\n"
     ]
    },
    {
     "data": {
      "text/plain": [
       "<keras.callbacks.History at 0x1bfbf96e048>"
      ]
     },
     "execution_count": 21,
     "metadata": {},
     "output_type": "execute_result"
    }
   ],
   "source": [
    "earlystopping = EarlyStopping(monitor='val_loss',patience=2,verbose=1,mode='min')\n",
    "checkpoint = ModelCheckpoint('model/model1_epoch.h5',verbose=1,monitor='val_loss',mode='min',save_best_only=True)\n",
    "\n",
    "model1.fit(np.array(x_train), np.array(y_train), \n",
    "          batch_size=BATCH_SIZE, \n",
    "          epochs=EPOCHS, \n",
    "          validation_split=0.1,\n",
    "          callbacks=[checkpoint,earlystopping])"
   ]
  },
  {
   "cell_type": "code",
   "execution_count": 27,
   "metadata": {},
   "outputs": [
    {
     "name": "stdout",
     "output_type": "stream",
     "text": [
      "9457/9457 [==============================] - 1s 84us/step\n",
      "Accuracy:\n",
      "0.9140319339604058\n"
     ]
    }
   ],
   "source": [
    "del model1\n",
    "model1 = load_model('model/model1.h5')\n",
    "\n",
    "score, acc = model1.evaluate(np.array(x_val), np.array(y_val), batch_size=BATCH_SIZE)\n",
    "print('Accuracy:')\n",
    "print(acc)"
   ]
  },
  {
   "cell_type": "markdown",
   "metadata": {},
   "source": [
    "Evaluation on validation set:"
   ]
  },
  {
   "cell_type": "code",
   "execution_count": 28,
   "metadata": {},
   "outputs": [
    {
     "name": "stdout",
     "output_type": "stream",
     "text": [
      "             precision    recall  f1-score   support\n",
      "\n",
      "        neg       0.88      0.91      0.90      3857\n",
      "        pos       0.93      0.92      0.93      5600\n",
      "\n",
      "avg / total       0.91      0.91      0.91      9457\n",
      "\n"
     ]
    }
   ],
   "source": [
    "pred = model1.predict_classes(np.array(x_val))\n",
    "report = classification_report(y_pred=pred, y_true=np.array(y_val), target_names=list(LABELS.values()))\n",
    "print(report)"
   ]
  },
  {
   "cell_type": "code",
   "execution_count": 29,
   "metadata": {
    "scrolled": true
   },
   "outputs": [
    {
     "data": {
      "image/png": "[encoded data removed]",
      "text/plain": [
       "<Figure size 432x288 with 2 Axes>"
      ]
     },
     "metadata": {},
     "output_type": "display_data"
    }
   ],
   "source": [
    "import pandas as pd\n",
    "import seaborn as sns\n",
    "\n",
    "predlist = [_[0] for _ in pred]\n",
    "df = pd.DataFrame(data={'Predict':predlist,\n",
    "                       'Actual': y_val})\n",
    "df_cm = df.groupby(['Predict','Actual']).count().reset_index()\n",
    "df_cm['Predict'] = df_cm['Predict'].map(LABELS)\n",
    "df_cm['Actual'] = df_cm['Actual'].map(LABELS)\n",
    "count = df.groupby(['Predict','Actual'])['Predict'].count().values\n",
    "df_cm['count'] = pd.Series(count)\n",
    "df_cm = df_cm.pivot(index='Predict', columns='Actual', values='count')\n",
    "sns.heatmap(df_cm, annot=True, annot_kws={'size':16}, fmt='g', cmap='Greens', xticklabels=True, yticklabels=True);"
   ]
  },
  {
   "cell_type": "markdown",
   "metadata": {},
   "source": [
    "Can we reduce class imbalance effect?"
   ]
  },
  {
   "cell_type": "code",
   "execution_count": 105,
   "metadata": {},
   "outputs": [
    {
     "name": "stdout",
     "output_type": "stream",
     "text": [
      "_________________________________________________________________\n",
      "Layer (type)                 Output Shape              Param #   \n",
      "=================================================================\n",
      "embedding_9 (Embedding)      (None, 100, 40)           179440    \n",
      "_________________________________________________________________\n",
      "conv1d_9 (Conv1D)            (None, 99, 50)            4050      \n",
      "_________________________________________________________________\n",
      "global_max_pooling1d_25 (Glo (None, 50)                0         \n",
      "_________________________________________________________________\n",
      "dense_25 (Dense)             (None, 128)               6528      \n",
      "_________________________________________________________________\n",
      "activation_17 (Activation)   (None, 128)               0         \n",
      "_________________________________________________________________\n",
      "dense_26 (Dense)             (None, 1)                 129       \n",
      "_________________________________________________________________\n",
      "activation_18 (Activation)   (None, 1)                 0         \n",
      "=================================================================\n",
      "Total params: 190,147\n",
      "Trainable params: 190,147\n",
      "Non-trainable params: 0\n",
      "_________________________________________________________________\n"
     ]
    }
   ],
   "source": [
    "del model1\n",
    "\n",
    "model1 = Sequential()\n",
    "\n",
    "# Start off with embedding layer to map vocab ids into EMBED_DIM dimensions\n",
    "model1.add(Embedding(VOCAB_SIZE, EMBED_DIM, input_length=MAXLEN))\n",
    "#model.add(Dropout(0.2))\n",
    "\n",
    "# Add CNN\n",
    "model1.add(Conv1D(filters=FILTERS, kernel_size=KERNEL_SIZE, activation='relu'))\n",
    "\n",
    "# Add Max Pooling\n",
    "model1.add(GlobalMaxPool1D())\n",
    "\n",
    "# Add an MLP\n",
    "model1.add(Dense(HIDDEN_UNITS))\n",
    "#model.add(Dropout(0.2))\n",
    "model1.add(Activation('relu'))\n",
    "\n",
    "# Project into single unit output layer, and convert with sigmoid\n",
    "model1.add(Dense(1))\n",
    "model1.add(Activation('sigmoid'))\n",
    "\n",
    "model1.compile(optimizer='adam', loss='binary_crossentropy', metrics=['accuracy'])\n",
    "model1.summary()"
   ]
  },
  {
   "cell_type": "code",
   "execution_count": 124,
   "metadata": {},
   "outputs": [],
   "source": [
    "from sklearn.utils import class_weight\n",
    "\n",
    "classweight = class_weight.compute_class_weight('balanced',np.unique(y_train), y_train)\n",
    "classweight = {cls: weight for cls, weight in enumerate(classweight)}"
   ]
  },
  {
   "cell_type": "code",
   "execution_count": 126,
   "metadata": {},
   "outputs": [
    {
     "name": "stdout",
     "output_type": "stream",
     "text": [
      "Train on 161713 samples, validate on 17969 samples\n",
      "Epoch 1/8\n",
      "161713/161713 [==============================] - 60s 373us/step - loss: 0.1487 - acc: 0.9446 - val_loss: 0.2539 - val_acc: 0.9083\n",
      "\n",
      "Epoch 00001: val_loss improved from inf to 0.25388, saving model to model/model1_classweight.h5\n",
      "Epoch 2/8\n",
      "161713/161713 [==============================] - 60s 370us/step - loss: 0.1384 - acc: 0.9489 - val_loss: 0.2655 - val_acc: 0.9077\n",
      "\n",
      "Epoch 00002: val_loss did not improve from 0.25388\n",
      "Epoch 3/8\n",
      "161713/161713 [==============================] - 57s 354us/step - loss: 0.1290 - acc: 0.9527 - val_loss: 0.2829 - val_acc: 0.9057\n",
      "\n",
      "Epoch 00003: val_loss did not improve from 0.25388\n",
      "Epoch 00003: early stopping\n"
     ]
    },
    {
     "data": {
      "text/plain": [
       "<keras.callbacks.History at 0x1bff09ccdd8>"
      ]
     },
     "execution_count": 126,
     "metadata": {},
     "output_type": "execute_result"
    }
   ],
   "source": [
    "earlystopping = EarlyStopping(monitor='val_loss',patience=2,verbose=1,mode='min')\n",
    "checkpoint = ModelCheckpoint('model/model1_classweight.h5',verbose=1,monitor='val_loss',mode='min',save_best_only=True)\n",
    "\n",
    "model1.fit(np.array(x_train), np.array(y_train), \n",
    "          batch_size=BATCH_SIZE, \n",
    "          epochs=EPOCHS, \n",
    "          validation_split=0.1,\n",
    "          class_weight = classweight,\n",
    "          shuffle = True,\n",
    "          callbacks=[checkpoint,earlystopping])"
   ]
  },
  {
   "cell_type": "code",
   "execution_count": 127,
   "metadata": {},
   "outputs": [
    {
     "name": "stdout",
     "output_type": "stream",
     "text": [
      "9457/9457 [==============================] - 1s 93us/step\n",
      "Accuracy:\n",
      "0.9136089667956774\n"
     ]
    }
   ],
   "source": [
    "del model1\n",
    "model1 = load_model('model/model1_classweight.h5')\n",
    "\n",
    "score, acc = model1.evaluate(np.array(x_val), np.array(y_val), batch_size=BATCH_SIZE)\n",
    "print('Accuracy:')\n",
    "print(acc)"
   ]
  },
  {
   "cell_type": "code",
   "execution_count": 128,
   "metadata": {},
   "outputs": [
    {
     "name": "stdout",
     "output_type": "stream",
     "text": [
      "             precision    recall  f1-score   support\n",
      "\n",
      "        neg       0.88      0.91      0.90      3857\n",
      "        pos       0.94      0.91      0.93      5600\n",
      "\n",
      "avg / total       0.91      0.91      0.91      9457\n",
      "\n"
     ]
    }
   ],
   "source": [
    "pred = model1.predict_classes(np.array(x_val))\n",
    "report = classification_report(y_pred=pred, y_true=np.array(y_val), target_names=list(LABELS.values()))\n",
    "print(report)"
   ]
  },
  {
   "cell_type": "code",
   "execution_count": 129,
   "metadata": {
    "scrolled": true
   },
   "outputs": [
    {
     "data": {
      "image/png": "[encoded data removed]",
      "text/plain": [
       "<Figure size 432x288 with 2 Axes>"
      ]
     },
     "metadata": {},
     "output_type": "display_data"
    }
   ],
   "source": [
    "import pandas as pd\n",
    "import seaborn as sns\n",
    "\n",
    "predlist = [_[0] for _ in pred]\n",
    "df = pd.DataFrame(data={'Predict':predlist,\n",
    "                       'Actual': y_val})\n",
    "df_cm = df.groupby(['Predict','Actual']).count().reset_index()\n",
    "df_cm['Predict'] = df_cm['Predict'].map(LABELS)\n",
    "df_cm['Actual'] = df_cm['Actual'].map(LABELS)\n",
    "count = df.groupby(['Predict','Actual'])['Predict'].count().values\n",
    "df_cm['count'] = pd.Series(count)\n",
    "df_cm = df_cm.pivot(index='Predict', columns='Actual', values='count')\n",
    "sns.heatmap(df_cm, annot=True, annot_kws={'size':16}, fmt='g', cmap='Greens', xticklabels=True, yticklabels=True);"
   ]
  },
  {
   "cell_type": "markdown",
   "metadata": {},
   "source": [
    "How about I make class_weight more skew?"
   ]
  },
  {
   "cell_type": "markdown",
   "metadata": {},
   "source": [
    "#### 2. with drop out layer"
   ]
  },
  {
   "cell_type": "code",
   "execution_count": 73,
   "metadata": {},
   "outputs": [
    {
     "name": "stdout",
     "output_type": "stream",
     "text": [
      "_________________________________________________________________\n",
      "Layer (type)                 Output Shape              Param #   \n",
      "=================================================================\n",
      "embedding_7 (Embedding)      (None, 100, 40)           179440    \n",
      "_________________________________________________________________\n",
      "dropout_5 (Dropout)          (None, 100, 40)           0         \n",
      "_________________________________________________________________\n",
      "conv1d_7 (Conv1D)            (None, 98, 128)           15488     \n",
      "_________________________________________________________________\n",
      "global_max_pooling1d_7 (Glob (None, 128)               0         \n",
      "_________________________________________________________________\n",
      "dense_13 (Dense)             (None, 128)               16512     \n",
      "_________________________________________________________________\n",
      "dropout_6 (Dropout)          (None, 128)               0         \n",
      "_________________________________________________________________\n",
      "activation_13 (Activation)   (None, 128)               0         \n",
      "_________________________________________________________________\n",
      "dense_14 (Dense)             (None, 1)                 129       \n",
      "_________________________________________________________________\n",
      "activation_14 (Activation)   (None, 1)                 0         \n",
      "=================================================================\n",
      "Total params: 211,569\n",
      "Trainable params: 211,569\n",
      "Non-trainable params: 0\n",
      "_________________________________________________________________\n"
     ]
    }
   ],
   "source": [
    "model2 = Sequential()\n",
    "\n",
    "# Start off with embedding layer to map vocab ids into EMBED_DIM dimensions\n",
    "model2.add(Embedding(VOCAB_SIZE, EMBED_DIM, input_length=MAXLEN))\n",
    "model2.add(Dropout(0.2))\n",
    "\n",
    "# Add CNN\n",
    "model2.add(Conv1D(filters=FILTERS, kernel_size=KERNEL_SIZE, activation='relu'))\n",
    "\n",
    "# Add Max Pooling\n",
    "model2.add(GlobalMaxPool1D())\n",
    "\n",
    "# Add an MLP\n",
    "model2.add(Dense(HIDDEN_UNITS))\n",
    "model2.add(Dropout(0.2))\n",
    "model2.add(Activation('relu'))\n",
    "\n",
    "# Project into single unit output layer, and convert with sigmoid\n",
    "model2.add(Dense(1))\n",
    "model2.add(Activation('sigmoid'))\n",
    "\n",
    "model2.compile(optimizer='adam', loss='binary_crossentropy', metrics=['accuracy'])\n",
    "model2.summary()"
   ]
  },
  {
   "cell_type": "code",
   "execution_count": 74,
   "metadata": {},
   "outputs": [
    {
     "name": "stdout",
     "output_type": "stream",
     "text": [
      "Train on 161713 samples, validate on 17969 samples\n",
      "Epoch 1/8\n",
      "161713/161713 [==============================] - 152s 939us/step - loss: 0.2738 - acc: 0.8860 - val_loss: 0.2349 - val_acc: 0.9091\n",
      "Epoch 2/8\n",
      "161713/161713 [==============================] - 154s 949us/step - loss: 0.2156 - acc: 0.9162 - val_loss: 0.2195 - val_acc: 0.9139\n",
      "Epoch 3/8\n",
      "161713/161713 [==============================] - 156s 963us/step - loss: 0.1972 - acc: 0.9242 - val_loss: 0.2187 - val_acc: 0.9162\n",
      "Epoch 4/8\n",
      "161713/161713 [==============================] - 154s 950us/step - loss: 0.1848 - acc: 0.9295 - val_loss: 0.2112 - val_acc: 0.9176\n",
      "Epoch 5/8\n",
      "161713/161713 [==============================] - 155s 958us/step - loss: 0.1742 - acc: 0.9343 - val_loss: 0.2113 - val_acc: 0.9182\n",
      "Epoch 6/8\n",
      "161713/161713 [==============================] - 161s 995us/step - loss: 0.1675 - acc: 0.9370 - val_loss: 0.2146 - val_acc: 0.9187\n"
     ]
    },
    {
     "data": {
      "text/plain": [
       "<keras.callbacks.History at 0x1bfe7af6ba8>"
      ]
     },
     "execution_count": 74,
     "metadata": {},
     "output_type": "execute_result"
    }
   ],
   "source": [
    "earlystopping = EarlyStopping(monitor='val_loss',mode='min',patience=2)\n",
    "checkpoint = ModelCheckpoint('model/model2.h5', monitor='val_loss', mode='min')\n",
    "model2.fit(np.array(x_train), np.array(y_train), \n",
    "          batch_size=BATCH_SIZE, \n",
    "          epochs=EPOCHS, \n",
    "          validation_split=0.1,\n",
    "          callbacks=[earlystopping,checkpoint])"
   ]
  },
  {
   "cell_type": "markdown",
   "metadata": {},
   "source": [
    "From above it seems like we can set EPOCHS larger because val_loss is still decreasing."
   ]
  },
  {
   "cell_type": "code",
   "execution_count": 75,
   "metadata": {},
   "outputs": [
    {
     "name": "stdout",
     "output_type": "stream",
     "text": [
      "9457/9457 [==============================] - 2s 196us/step\n",
      "Accuracy:\n",
      "0.9230199853474158\n"
     ]
    }
   ],
   "source": [
    "del model2\n",
    "model2 = load_model('model/model2.h5')\n",
    "score, acc = model2.evaluate(np.array(x_val), np.array(y_val), batch_size=BATCH_SIZE)\n",
    "print('Accuracy:')\n",
    "print(acc)"
   ]
  },
  {
   "cell_type": "markdown",
   "metadata": {},
   "source": [
    "Evaluation on validation set:"
   ]
  },
  {
   "cell_type": "code",
   "execution_count": 77,
   "metadata": {},
   "outputs": [
    {
     "name": "stdout",
     "output_type": "stream",
     "text": [
      "             precision    recall  f1-score   support\n",
      "\n",
      "        neg       0.90      0.92      0.91      3857\n",
      "        pos       0.94      0.93      0.93      5600\n",
      "\n",
      "avg / total       0.92      0.92      0.92      9457\n",
      "\n",
      "F1 score (macro): 0.9205513850403366\n"
     ]
    }
   ],
   "source": [
    "from sklearn.metrics import classification_report, f1_score\n",
    "\n",
    "pred = model2.predict_classes(np.array(x_val))\n",
    "report = classification_report(y_pred=pred, y_true=np.array(y_val), target_names=list(LABELS.values()))\n",
    "print(report)\n",
    "f1_macro = f1_score(y_val, pred, average='macro')\n",
    "print('F1 score (macro): {}'.format(f1_macro))"
   ]
  },
  {
   "cell_type": "code",
   "execution_count": 78,
   "metadata": {},
   "outputs": [
    {
     "data": {
      "image/png": "[encoded data removed]",
      "text/plain": [
       "<Figure size 432x288 with 2 Axes>"
      ]
     },
     "metadata": {},
     "output_type": "display_data"
    }
   ],
   "source": [
    "import pandas as pd\n",
    "import seaborn as sns\n",
    "\n",
    "predlist = [_[0] for _ in pred]\n",
    "df = pd.DataFrame(data={'Predict':predlist,\n",
    "                       'Actual': y_val})\n",
    "df_cm = df.groupby(['Predict','Actual']).count().reset_index()\n",
    "df_cm['Predict'] = df_cm['Predict'].map(LABELS)\n",
    "df_cm['Actual'] = df_cm['Actual'].map(LABELS)\n",
    "count = df.groupby(['Predict','Actual'])['Predict'].count().values\n",
    "df_cm['count'] = pd.Series(count)\n",
    "df_cm = df_cm.pivot(index='Predict', columns='Actual', values='count')\n",
    "sns.heatmap(df_cm, annot=True, annot_kws={'size':16}, fmt='g', cmap='Greens', xticklabels=True, yticklabels=True);"
   ]
  },
  {
   "cell_type": "markdown",
   "metadata": {},
   "source": [
    "#### 3. Changing filter kernal size from 3 to 2"
   ]
  },
  {
   "cell_type": "code",
   "execution_count": 79,
   "metadata": {},
   "outputs": [],
   "source": [
    "KERNEL_SIZE = 2"
   ]
  },
  {
   "cell_type": "code",
   "execution_count": 80,
   "metadata": {},
   "outputs": [
    {
     "name": "stdout",
     "output_type": "stream",
     "text": [
      "_________________________________________________________________\n",
      "Layer (type)                 Output Shape              Param #   \n",
      "=================================================================\n",
      "embedding_8 (Embedding)      (None, 100, 40)           179440    \n",
      "_________________________________________________________________\n",
      "dropout_7 (Dropout)          (None, 100, 40)           0         \n",
      "_________________________________________________________________\n",
      "conv1d_8 (Conv1D)            (None, 99, 128)           10368     \n",
      "_________________________________________________________________\n",
      "global_max_pooling1d_8 (Glob (None, 128)               0         \n",
      "_________________________________________________________________\n",
      "dense_15 (Dense)             (None, 128)               16512     \n",
      "_________________________________________________________________\n",
      "dropout_8 (Dropout)          (None, 128)               0         \n",
      "_________________________________________________________________\n",
      "activation_15 (Activation)   (None, 128)               0         \n",
      "_________________________________________________________________\n",
      "dense_16 (Dense)             (None, 1)                 129       \n",
      "_________________________________________________________________\n",
      "activation_16 (Activation)   (None, 1)                 0         \n",
      "=================================================================\n",
      "Total params: 206,449\n",
      "Trainable params: 206,449\n",
      "Non-trainable params: 0\n",
      "_________________________________________________________________\n"
     ]
    }
   ],
   "source": [
    "model3 = Sequential()\n",
    "\n",
    "# Start off with embedding layer to map vocab ids into EMBED_DIM dimensions\n",
    "model3.add(Embedding(VOCAB_SIZE, EMBED_DIM, input_length=MAXLEN))\n",
    "model3.add(Dropout(0.2))\n",
    "\n",
    "# Add CNN\n",
    "model3.add(Conv1D(filters=FILTERS, kernel_size=KERNEL_SIZE, activation='relu'))\n",
    "\n",
    "# Add Max Pooling\n",
    "model3.add(GlobalMaxPool1D())\n",
    "\n",
    "# Add an MLP\n",
    "model3.add(Dense(HIDDEN_UNITS))\n",
    "model3.add(Dropout(0.2))\n",
    "model3.add(Activation('relu'))\n",
    "\n",
    "# Project into single unit output layer, and convert with sigmoid\n",
    "model3.add(Dense(1))\n",
    "model3.add(Activation('sigmoid'))\n",
    "\n",
    "model3.compile(optimizer='adam', loss='binary_crossentropy', metrics=['accuracy'])\n",
    "model3.summary()"
   ]
  },
  {
   "cell_type": "code",
   "execution_count": 81,
   "metadata": {},
   "outputs": [
    {
     "name": "stdout",
     "output_type": "stream",
     "text": [
      "Train on 161713 samples, validate on 17969 samples\n",
      "Epoch 1/8\n",
      "161713/161713 [==============================] - 145s 900us/step - loss: 0.2843 - acc: 0.8805 - val_loss: 0.2432 - val_acc: 0.9021\n",
      "\n",
      "Epoch 00001: val_loss improved from inf to 0.24316, saving model to model3.h5\n",
      "Epoch 2/8\n",
      "161713/161713 [==============================] - 144s 888us/step - loss: 0.2266 - acc: 0.9108 - val_loss: 0.2332 - val_acc: 0.9081\n",
      "\n",
      "Epoch 00002: val_loss improved from 0.24316 to 0.23321, saving model to model3.h5\n",
      "Epoch 3/8\n",
      "161713/161713 [==============================] - 143s 885us/step - loss: 0.2092 - acc: 0.9184 - val_loss: 0.2276 - val_acc: 0.9121\n",
      "\n",
      "Epoch 00003: val_loss improved from 0.23321 to 0.22758, saving model to model3.h5\n",
      "Epoch 4/8\n",
      "161713/161713 [==============================] - 143s 882us/step - loss: 0.1970 - acc: 0.9239 - val_loss: 0.2229 - val_acc: 0.9137\n",
      "\n",
      "Epoch 00004: val_loss improved from 0.22758 to 0.22287, saving model to model3.h5\n",
      "Epoch 5/8\n",
      "161713/161713 [==============================] - 127s 784us/step - loss: 0.1888 - acc: 0.9270 - val_loss: 0.2265 - val_acc: 0.9118\n",
      "\n",
      "Epoch 00005: val_loss did not improve from 0.22287\n",
      "Epoch 6/8\n",
      "161713/161713 [==============================] - 128s 793us/step - loss: 0.1813 - acc: 0.9304 - val_loss: 0.2201 - val_acc: 0.9159\n",
      "\n",
      "Epoch 00006: val_loss improved from 0.22287 to 0.22005, saving model to model3.h5\n",
      "Epoch 7/8\n",
      "161713/161713 [==============================] - 129s 797us/step - loss: 0.1752 - acc: 0.9325 - val_loss: 0.2222 - val_acc: 0.9159\n",
      "\n",
      "Epoch 00007: val_loss did not improve from 0.22005\n",
      "Epoch 8/8\n",
      "161713/161713 [==============================] - 133s 825us/step - loss: 0.1699 - acc: 0.9341 - val_loss: 0.2252 - val_acc: 0.9158\n",
      "\n",
      "Epoch 00008: val_loss did not improve from 0.22005\n",
      "Epoch 00008: early stopping\n"
     ]
    },
    {
     "data": {
      "text/plain": [
       "<keras.callbacks.History at 0x1bfe7ae2fd0>"
      ]
     },
     "execution_count": 81,
     "metadata": {},
     "output_type": "execute_result"
    }
   ],
   "source": [
    "earlystopping = EarlyStopping(monitor='val_loss',verbose=1, mode='min',patience=2)\n",
    "checkpoint = ModelCheckpoint('model3.h5',monitor='val_loss',verbose=1,mode='min',save_best_only=True)\n",
    "model3.fit(np.array(x_train), np.array(y_train), \n",
    "          batch_size=BATCH_SIZE, \n",
    "          epochs=EPOCHS, \n",
    "          validation_split=0.1,\n",
    "          callbacks=[earlystopping,checkpoint])"
   ]
  },
  {
   "cell_type": "code",
   "execution_count": 82,
   "metadata": {},
   "outputs": [
    {
     "name": "stdout",
     "output_type": "stream",
     "text": [
      "9457/9457 [==============================] - 1s 112us/step\n",
      "Accuracy:\n",
      "0.9178386379891676\n"
     ]
    }
   ],
   "source": [
    "score, acc = model3.evaluate(np.array(x_val), np.array(y_val), batch_size=BATCH_SIZE)\n",
    "print('Accuracy:')\n",
    "print(acc)"
   ]
  },
  {
   "cell_type": "code",
   "execution_count": 84,
   "metadata": {},
   "outputs": [
    {
     "name": "stdout",
     "output_type": "stream",
     "text": [
      "             precision    recall  f1-score   support\n",
      "\n",
      "        neg       0.89      0.91      0.90      3857\n",
      "        pos       0.94      0.92      0.93      5600\n",
      "\n",
      "avg / total       0.92      0.92      0.92      9457\n",
      "\n",
      "F1 score (macro): 0.9153357918916291\n"
     ]
    }
   ],
   "source": [
    "pred = model3.predict_classes(np.array(x_val))\n",
    "report = classification_report(y_pred=pred, y_true=np.array(y_val), target_names=list(LABELS.values()))\n",
    "print(report)\n",
    "f1_macro = f1_score(y_val, pred, average='macro')\n",
    "print('F1 score (macro): {}'.format(f1_macro))"
   ]
  },
  {
   "cell_type": "code",
   "execution_count": 85,
   "metadata": {},
   "outputs": [
    {
     "data": {
      "image/png": "[encoded data removed]",
      "text/plain": [
       "<Figure size 432x288 with 2 Axes>"
      ]
     },
     "metadata": {},
     "output_type": "display_data"
    }
   ],
   "source": [
    "predlist = [_[0] for _ in pred]\n",
    "df = pd.DataFrame(data={'Predict':predlist,\n",
    "                       'Actual': y_val})\n",
    "df_cm = df.groupby(['Predict','Actual']).count().reset_index()\n",
    "df_cm['Predict'] = df_cm['Predict'].map(LABELS)\n",
    "df_cm['Actual'] = df_cm['Actual'].map(LABELS)\n",
    "count = df.groupby(['Predict','Actual'])['Predict'].count().values\n",
    "df_cm['count'] = pd.Series(count)\n",
    "df_cm = df_cm.pivot(index='Predict', columns='Actual', values='count')\n",
    "sns.heatmap(df_cm, annot=True, annot_kws={'size':16}, fmt='g', cmap='Greens', xticklabels=True, yticklabels=True);"
   ]
  },
  {
   "cell_type": "markdown",
   "metadata": {},
   "source": [
    "Try different kernel sizes in one model"
   ]
  },
  {
   "cell_type": "code",
   "execution_count": 95,
   "metadata": {},
   "outputs": [
    {
     "name": "stdout",
     "output_type": "stream",
     "text": [
      "__________________________________________________________________________________________________\n",
      "Layer (type)                    Output Shape         Param #     Connected to                     \n",
      "==================================================================================================\n",
      "input (InputLayer)              (None, 100)          0                                            \n",
      "__________________________________________________________________________________________________\n",
      "embedding (Embedding)           (None, 100, 40)      179440      input[0][0]                      \n",
      "__________________________________________________________________________________________________\n",
      "cnn1 (Conv1D)                   (None, 99, 50)       4050        embedding[0][0]                  \n",
      "__________________________________________________________________________________________________\n",
      "cnn2 (Conv1D)                   (None, 98, 50)       6050        embedding[0][0]                  \n",
      "__________________________________________________________________________________________________\n",
      "cnn3 (Conv1D)                   (None, 97, 50)       8050        embedding[0][0]                  \n",
      "__________________________________________________________________________________________________\n",
      "cn43 (Conv1D)                   (None, 96, 50)       10050       embedding[0][0]                  \n",
      "__________________________________________________________________________________________________\n",
      "global_max_pooling1d_21 (Global (None, 50)           0           cnn1[0][0]                       \n",
      "__________________________________________________________________________________________________\n",
      "global_max_pooling1d_22 (Global (None, 50)           0           cnn2[0][0]                       \n",
      "__________________________________________________________________________________________________\n",
      "global_max_pooling1d_23 (Global (None, 50)           0           cnn3[0][0]                       \n",
      "__________________________________________________________________________________________________\n",
      "global_max_pooling1d_24 (Global (None, 50)           0           cn43[0][0]                       \n",
      "__________________________________________________________________________________________________\n",
      "concatenate_4 (Concatenate)     (None, 200)          0           global_max_pooling1d_21[0][0]    \n",
      "                                                                 global_max_pooling1d_22[0][0]    \n",
      "                                                                 global_max_pooling1d_23[0][0]    \n",
      "                                                                 global_max_pooling1d_24[0][0]    \n",
      "__________________________________________________________________________________________________\n",
      "dense_23 (Dense)                (None, 200)          40200       concatenate_4[0][0]              \n",
      "__________________________________________________________________________________________________\n",
      "dense_24 (Dense)                (None, 1)            201         dense_23[0][0]                   \n",
      "==================================================================================================\n",
      "Total params: 248,041\n",
      "Trainable params: 248,041\n",
      "Non-trainable params: 0\n",
      "__________________________________________________________________________________________________\n"
     ]
    }
   ],
   "source": [
    "EMBED_DIM = 40\n",
    "FILTERS = 50\n",
    "KERNEL_SIZE1 = 2\n",
    "KERNEL_SIZE2 = 3\n",
    "KERNEL_SIZE3 = 4\n",
    "KERNEL_SIZE4 = 5\n",
    "\n",
    "input_seq = Input(shape=(MAXLEN,),dtype='int32',name='input')\n",
    "embed = Embedding(VOCAB_SIZE, EMBED_DIM, input_length=MAXLEN, name='embedding')(input_seq)\n",
    "cnn_1 = Conv1D(filters=FILTERS, kernel_size=KERNEL_SIZE1, activation='relu', name='cnn1')(embed)\n",
    "cnn_2 = Conv1D(filters=FILTERS, kernel_size=KERNEL_SIZE2, activation='relu', name='cnn2')(embed)\n",
    "cnn_3 = Conv1D(filters=FILTERS, kernel_size=KERNEL_SIZE3, activation='relu', name='cnn3')(embed)\n",
    "cnn_4 = Conv1D(filters=FILTERS, kernel_size=KERNEL_SIZE4, activation='relu', name='cn43')(embed)\n",
    "pool1 = GlobalMaxPool1D()(cnn_1)\n",
    "pool2 = GlobalMaxPool1D()(cnn_2)\n",
    "pool3 = GlobalMaxPool1D()(cnn_3)\n",
    "pool4 = GlobalMaxPool1D()(cnn_4)\n",
    "merged = concatenate([pool1, pool2, pool3, pool4],axis=-1)\n",
    "dense1 = Dense(FILTERS*4, activation='relu')(merged)\n",
    "prediction = Dense(1, activation='sigmoid')(dense1)\n",
    "\n",
    "model4 = Model(inputs=input_seq, outputs=prediction)\n",
    "model4.compile(optimizer='adam', loss='binary_crossentropy', metrics=['acc'])\n",
    "model4.summary()"
   ]
  },
  {
   "cell_type": "code",
   "execution_count": 96,
   "metadata": {},
   "outputs": [
    {
     "name": "stdout",
     "output_type": "stream",
     "text": [
      "Train on 161713 samples, validate on 17969 samples\n",
      "Epoch 1/8\n",
      "161713/161713 [==============================] - 231s 1ms/step - loss: 0.2513 - acc: 0.8974 - val_loss: 0.2203 - val_acc: 0.9144\n",
      "\n",
      "Epoch 00001: val_loss improved from inf to 0.22030, saving model to model/model4.h5\n",
      "Epoch 2/8\n",
      "161713/161713 [==============================] - 234s 1ms/step - loss: 0.1882 - acc: 0.9287 - val_loss: 0.2081 - val_acc: 0.9194\n",
      "\n",
      "Epoch 00002: val_loss improved from 0.22030 to 0.20814, saving model to model/model4.h5\n",
      "Epoch 3/8\n",
      "161713/161713 [==============================] - 246s 2ms/step - loss: 0.1590 - acc: 0.9409 - val_loss: 0.2125 - val_acc: 0.9201\n",
      "\n",
      "Epoch 00003: val_loss did not improve from 0.20814\n",
      "Epoch 4/8\n",
      "161713/161713 [==============================] - 226s 1ms/step - loss: 0.1348 - acc: 0.9513 - val_loss: 0.2160 - val_acc: 0.9189\n",
      "\n",
      "Epoch 00004: val_loss did not improve from 0.20814\n",
      "Epoch 00004: early stopping\n"
     ]
    },
    {
     "data": {
      "text/plain": [
       "<keras.callbacks.History at 0x1bff1033a58>"
      ]
     },
     "execution_count": 96,
     "metadata": {},
     "output_type": "execute_result"
    }
   ],
   "source": [
    "earlystopping = EarlyStopping(monitor='val_loss',verbose=1, patience=2, mode='min')\n",
    "checkpoint = ModelCheckpoint('model/model4.h5', monitor='val_loss', verbose=1, mode='min', save_best_only=True)\n",
    "model4.fit(np.array(x_train), np.array(y_train),\n",
    "           batch_size=BATCH_SIZE, \n",
    "           epochs=EPOCHS, \n",
    "           shuffle=True, \n",
    "           validation_split=0.1,\n",
    "           callbacks=[checkpoint,earlystopping])"
   ]
  },
  {
   "cell_type": "code",
   "execution_count": 32,
   "metadata": {},
   "outputs": [
    {
     "name": "stdout",
     "output_type": "stream",
     "text": [
      "9457/9457 [==============================] - 3s 281us/step\n",
      "Accuracy:\n",
      "0.9246061120260666\n"
     ]
    }
   ],
   "source": [
    "#del model4\n",
    "model4 = load_model('model/model4.h5')\n",
    "score, acc = model4.evaluate(np.array(x_val), np.array(y_val), batch_size=BATCH_SIZE)\n",
    "print('Accuracy:')\n",
    "print(acc)"
   ]
  },
  {
   "cell_type": "code",
   "execution_count": 35,
   "metadata": {},
   "outputs": [
    {
     "name": "stdout",
     "output_type": "stream",
     "text": [
      "             precision    recall  f1-score   support\n",
      "\n",
      "        neg       0.90      0.92      0.91      3857\n",
      "        pos       0.94      0.93      0.94      5600\n",
      "\n",
      "avg / total       0.92      0.92      0.92      9457\n",
      "\n",
      "F1 score (macro): 0.922185380996825\n"
     ]
    }
   ],
   "source": [
    "pred = model4.predict(np.array(x_val))\n",
    "pred = np.array([1 if result[0]>.5 else 0 for result in pred])\n",
    "\n",
    "report = classification_report(y_pred=pred, y_true=np.array(y_val), target_names=list(LABELS.values()))\n",
    "print(report)\n",
    "f1_macro = f1_score(y_val, pred, average='macro')\n",
    "print('F1 score (macro): {}'.format(f1_macro))"
   ]
  },
  {
   "cell_type": "code",
   "execution_count": 36,
   "metadata": {},
   "outputs": [
    {
     "data": {
      "image/png": "[encoded data removed]",
      "text/plain": [
       "<Figure size 432x288 with 2 Axes>"
      ]
     },
     "metadata": {},
     "output_type": "display_data"
    }
   ],
   "source": [
    "df = pd.DataFrame(data={'Predict':pred,\n",
    "                       'Actual': y_val})\n",
    "df_cm = df.groupby(['Predict','Actual']).count().reset_index()\n",
    "df_cm['Predict'] = df_cm['Predict'].map(LABELS)\n",
    "df_cm['Actual'] = df_cm['Actual'].map(LABELS)\n",
    "count = df.groupby(['Predict','Actual'])['Predict'].count().values\n",
    "df_cm['count'] = pd.Series(count)\n",
    "df_cm = df_cm.pivot(index='Predict', columns='Actual', values='count')\n",
    "sns.heatmap(df_cm, annot=True, annot_kws={'size':16}, fmt='g', cmap='Greens', xticklabels=True, yticklabels=True);"
   ]
  },
  {
   "cell_type": "markdown",
   "metadata": {},
   "source": [
    "### Check error\n",
    "We choose the best performing model and look at the wrong predictions and dig out what to do next."
   ]
  },
  {
   "cell_type": "code",
   "execution_count": 160,
   "metadata": {},
   "outputs": [],
   "source": [
    "best_model = model4\n",
    "pred = best_model.predict(np.array(x_val))\n",
    "pred = np.array([1 if result[0]>.5 else 0 for result in pred])\n",
    "\n",
    "df = pd.DataFrame(data={'Predict':pred,\n",
    "                       'Actual': y_val})\n",
    "error_index = df[df['Predict']!=df['Actual']].index"
   ]
  },
  {
   "cell_type": "code",
   "execution_count": 161,
   "metadata": {},
   "outputs": [
    {
     "data": {
      "text/html": [
       "<div>\n",
       "<style scoped>\n",
       "    .dataframe tbody tr th:only-of-type {\n",
       "        vertical-align: middle;\n",
       "    }\n",
       "\n",
       "    .dataframe tbody tr th {\n",
       "        vertical-align: top;\n",
       "    }\n",
       "\n",
       "    .dataframe thead th {\n",
       "        text-align: right;\n",
       "    }\n",
       "</style>\n",
       "<table border=\"1\" class=\"dataframe\">\n",
       "  <thead>\n",
       "    <tr style=\"text-align: right;\">\n",
       "      <th></th>\n",
       "      <th>comment</th>\n",
       "      <th>actual</th>\n",
       "      <th>predict</th>\n",
       "    </tr>\n",
       "  </thead>\n",
       "  <tbody>\n",
       "    <tr>\n",
       "      <th>0</th>\n",
       "      <td>下次便宜点</td>\n",
       "      <td>neg</td>\n",
       "      <td>pos</td>\n",
       "    </tr>\n",
       "    <tr>\n",
       "      <th>1</th>\n",
       "      <td>永远不知足，就是没有5，7的。3，6的还不错，在城市使用已经足够了，超车什么的很利落，想撒撒...</td>\n",
       "      <td>neg</td>\n",
       "      <td>pos</td>\n",
       "    </tr>\n",
       "    <tr>\n",
       "      <th>2</th>\n",
       "      <td>操控:刹车一般</td>\n",
       "      <td>pos</td>\n",
       "      <td>neg</td>\n",
       "    </tr>\n",
       "    <tr>\n",
       "      <th>3</th>\n",
       "      <td>尾部不若全新迈腾漂亮</td>\n",
       "      <td>neg</td>\n",
       "      <td>pos</td>\n",
       "    </tr>\n",
       "    <tr>\n",
       "      <th>4</th>\n",
       "      <td>.空调也用到了,不是很强劲,但今天28度左右,不觉得空调很冷,风开2挡,制冷中间位.</td>\n",
       "      <td>neg</td>\n",
       "      <td>pos</td>\n",
       "    </tr>\n",
       "    <tr>\n",
       "      <th>5</th>\n",
       "      <td>离地间隙偏低，基本上应该到190比较合适。</td>\n",
       "      <td>neg</td>\n",
       "      <td>pos</td>\n",
       "    </tr>\n",
       "    <tr>\n",
       "      <th>6</th>\n",
       "      <td>但是，对于新天籁夸张的大嘴唇，我是至今也找不到眼前一亮的感觉。</td>\n",
       "      <td>neg</td>\n",
       "      <td>pos</td>\n",
       "    </tr>\n",
       "    <tr>\n",
       "      <th>7</th>\n",
       "      <td>空间:身高: 160-170CM, 空间和很足</td>\n",
       "      <td>neg</td>\n",
       "      <td>pos</td>\n",
       "    </tr>\n",
       "    <tr>\n",
       "      <th>8</th>\n",
       "      <td>空调区域设计保持了皮卡本色，古朴实用，当打开空调时，风量和制冷效果超乎我们的想象，这点也是风...</td>\n",
       "      <td>neg</td>\n",
       "      <td>pos</td>\n",
       "    </tr>\n",
       "    <tr>\n",
       "      <th>9</th>\n",
       "      <td>车门：正常，感觉重量没有偷减，就是方式与前不同。</td>\n",
       "      <td>pos</td>\n",
       "      <td>neg</td>\n",
       "    </tr>\n",
       "    <tr>\n",
       "      <th>10</th>\n",
       "      <td>可以用很棒来形容！作为一款AO级小车，过弯极限可以如此之高，高速稳定性如此之强！</td>\n",
       "      <td>neg</td>\n",
       "      <td>pos</td>\n",
       "    </tr>\n",
       "    <tr>\n",
       "      <th>11</th>\n",
       "      <td>新爱丽舍手动标准版，从开始到现在共加油257升，跑了2944公里，提车2个月整，油钱1280...</td>\n",
       "      <td>neg</td>\n",
       "      <td>pos</td>\n",
       "    </tr>\n",
       "    <tr>\n",
       "      <th>12</th>\n",
       "      <td>目前显示平均油耗9个多 但目前只开了400公里 油耗高跟我的驾驶习惯不好有关系 而且前400...</td>\n",
       "      <td>pos</td>\n",
       "      <td>neg</td>\n",
       "    </tr>\n",
       "    <tr>\n",
       "      <th>13</th>\n",
       "      <td>车子各方面都非常满意，就是个人感觉外观颜色可以选择的有点少了</td>\n",
       "      <td>neg</td>\n",
       "      <td>pos</td>\n",
       "    </tr>\n",
       "    <tr>\n",
       "      <th>14</th>\n",
       "      <td>座椅手动调节。还是电动好啊。带记忆的更好。多方便。</td>\n",
       "      <td>neg</td>\n",
       "      <td>pos</td>\n",
       "    </tr>\n",
       "    <tr>\n",
       "      <th>15</th>\n",
       "      <td>手刹护套经常可以轻易的拉出，</td>\n",
       "      <td>neg</td>\n",
       "      <td>pos</td>\n",
       "    </tr>\n",
       "    <tr>\n",
       "      <th>16</th>\n",
       "      <td>配置上比乞丐版的奔驰C级多一些</td>\n",
       "      <td>pos</td>\n",
       "      <td>neg</td>\n",
       "    </tr>\n",
       "    <tr>\n",
       "      <th>17</th>\n",
       "      <td>当然也有不爽的地方，其中一个是起步慢，往往是过红绿灯时等过了灯，别的车都超出一个多身位，</td>\n",
       "      <td>pos</td>\n",
       "      <td>neg</td>\n",
       "    </tr>\n",
       "    <tr>\n",
       "      <th>18</th>\n",
       "      <td>安全系数高。带方向盘锁，带变速箱保护，在1.6里提速不错，有人说这个车油耗大，看你怎么开了，...</td>\n",
       "      <td>pos</td>\n",
       "      <td>neg</td>\n",
       "    </tr>\n",
       "    <tr>\n",
       "      <th>19</th>\n",
       "      <td>压到小石头什么的还是有感觉，小的颠簸过滤得还行，大的只能尽量躲开。</td>\n",
       "      <td>neg</td>\n",
       "      <td>pos</td>\n",
       "    </tr>\n",
       "    <tr>\n",
       "      <th>20</th>\n",
       "      <td>油耗表现和舒适性</td>\n",
       "      <td>pos</td>\n",
       "      <td>neg</td>\n",
       "    </tr>\n",
       "    <tr>\n",
       "      <th>21</th>\n",
       "      <td>内饰:简约 时尚 实用</td>\n",
       "      <td>neg</td>\n",
       "      <td>pos</td>\n",
       "    </tr>\n",
       "    <tr>\n",
       "      <th>22</th>\n",
       "      <td>棒子车实在不敢恭维</td>\n",
       "      <td>pos</td>\n",
       "      <td>neg</td>\n",
       "    </tr>\n",
       "    <tr>\n",
       "      <th>23</th>\n",
       "      <td>方向盘比较沉，方向的稳定行很不错</td>\n",
       "      <td>neg</td>\n",
       "      <td>pos</td>\n",
       "    </tr>\n",
       "    <tr>\n",
       "      <th>24</th>\n",
       "      <td>质量:小毛病少，但通过性太差了！被动安全太差了！有点后悔买这车！</td>\n",
       "      <td>pos</td>\n",
       "      <td>neg</td>\n",
       "    </tr>\n",
       "    <tr>\n",
       "      <th>25</th>\n",
       "      <td>中间如果有空调出风就漂亮多了</td>\n",
       "      <td>neg</td>\n",
       "      <td>pos</td>\n",
       "    </tr>\n",
       "    <tr>\n",
       "      <th>26</th>\n",
       "      <td>感觉一般，有人说塑料感强，不过本人认为这价位的车还可以，作为代步用车，没有过高的追求。。</td>\n",
       "      <td>neg</td>\n",
       "      <td>pos</td>\n",
       "    </tr>\n",
       "    <tr>\n",
       "      <th>27</th>\n",
       "      <td>对于车的前排空间非常满意，后排不能坐超过170CM身高的人，后备箱与后排连接不好，很难放进去...</td>\n",
       "      <td>pos</td>\n",
       "      <td>neg</td>\n",
       "    </tr>\n",
       "    <tr>\n",
       "      <th>28</th>\n",
       "      <td>虽然外观设计不错，但前脸霸气点更好。</td>\n",
       "      <td>neg</td>\n",
       "      <td>pos</td>\n",
       "    </tr>\n",
       "    <tr>\n",
       "      <th>29</th>\n",
       "      <td>动力:一档动力欠佳，二档以上动力十足</td>\n",
       "      <td>pos</td>\n",
       "      <td>neg</td>\n",
       "    </tr>\n",
       "    <tr>\n",
       "      <th>...</th>\n",
       "      <td>...</td>\n",
       "      <td>...</td>\n",
       "      <td>...</td>\n",
       "    </tr>\n",
       "    <tr>\n",
       "      <th>683</th>\n",
       "      <td>抓地感觉很稳，操控很是精准，尤其在转向时，比东日配的轮胎强多了。</td>\n",
       "      <td>neg</td>\n",
       "      <td>pos</td>\n",
       "    </tr>\n",
       "    <tr>\n",
       "      <th>684</th>\n",
       "      <td>油耗:市区, 平均油耗: 16L/100km, 新车油耗比较大一些</td>\n",
       "      <td>pos</td>\n",
       "      <td>neg</td>\n",
       "    </tr>\n",
       "    <tr>\n",
       "      <th>685</th>\n",
       "      <td>电源插座够多。共3个，仪表盘下方一个点烟器插座，前排中央扶手箱里一个，后备箱左后方还有一个，...</td>\n",
       "      <td>pos</td>\n",
       "      <td>neg</td>\n",
       "    </tr>\n",
       "    <tr>\n",
       "      <th>686</th>\n",
       "      <td>油耗表现不错价格能再便宜就更好了</td>\n",
       "      <td>neg</td>\n",
       "      <td>pos</td>\n",
       "    </tr>\n",
       "    <tr>\n",
       "      <th>687</th>\n",
       "      <td>质量:听说遥控钥匙偶尔会失灵，发动机电子防盗会误报警</td>\n",
       "      <td>pos</td>\n",
       "      <td>neg</td>\n",
       "    </tr>\n",
       "    <tr>\n",
       "      <th>688</th>\n",
       "      <td>动力:一般</td>\n",
       "      <td>neg</td>\n",
       "      <td>pos</td>\n",
       "    </tr>\n",
       "    <tr>\n",
       "      <th>689</th>\n",
       "      <td>前排空间大，包裹性一般，后排紧凑点了，真皮座椅不错，后排坐姿高，不容易晕车倒是真的，孩子原来...</td>\n",
       "      <td>pos</td>\n",
       "      <td>neg</td>\n",
       "    </tr>\n",
       "    <tr>\n",
       "      <th>690</th>\n",
       "      <td>后排的座位很小，勉强能坐下一个人，比较适合放宠物。</td>\n",
       "      <td>neg</td>\n",
       "      <td>pos</td>\n",
       "    </tr>\n",
       "    <tr>\n",
       "      <th>691</th>\n",
       "      <td>动力 1.2起步快，就是开空调就不行了</td>\n",
       "      <td>pos</td>\n",
       "      <td>neg</td>\n",
       "    </tr>\n",
       "    <tr>\n",
       "      <th>692</th>\n",
       "      <td>音响效果还不差，毕竟有4个喇叭在！·</td>\n",
       "      <td>pos</td>\n",
       "      <td>neg</td>\n",
       "    </tr>\n",
       "    <tr>\n",
       "      <th>693</th>\n",
       "      <td>一直想拥用自己的小车</td>\n",
       "      <td>pos</td>\n",
       "      <td>neg</td>\n",
       "    </tr>\n",
       "    <tr>\n",
       "      <th>694</th>\n",
       "      <td>车跑有接缝的水泥路有轰隆-轰隆带节奏的低音，跑沥青路安静得多。</td>\n",
       "      <td>neg</td>\n",
       "      <td>pos</td>\n",
       "    </tr>\n",
       "    <tr>\n",
       "      <th>695</th>\n",
       "      <td>操控:操控一般  跑山路的时候  过弯快了  侧倾明显  心里发虚会不自主的点刹车</td>\n",
       "      <td>pos</td>\n",
       "      <td>neg</td>\n",
       "    </tr>\n",
       "    <tr>\n",
       "      <th>696</th>\n",
       "      <td>高速7或8或9，每一次跑高速、下高速后，不管跑多快，多慢，油门变化多频繁，油耗基本不变，这个...</td>\n",
       "      <td>pos</td>\n",
       "      <td>neg</td>\n",
       "    </tr>\n",
       "    <tr>\n",
       "      <th>697</th>\n",
       "      <td>北京的冬天，2.0自豪。20年驾龄，爱车，知省油，没怎么堵车，最近油耗13.5升/百公里。</td>\n",
       "      <td>neg</td>\n",
       "      <td>pos</td>\n",
       "    </tr>\n",
       "    <tr>\n",
       "      <th>698</th>\n",
       "      <td>操纵性比我以前的10W小车要差.</td>\n",
       "      <td>neg</td>\n",
       "      <td>pos</td>\n",
       "    </tr>\n",
       "    <tr>\n",
       "      <th>699</th>\n",
       "      <td>音乐声不能随车速增加提高，408有这个功能，很实用，不知道的人还以为车子密封性多好呢</td>\n",
       "      <td>neg</td>\n",
       "      <td>pos</td>\n",
       "    </tr>\n",
       "    <tr>\n",
       "      <th>700</th>\n",
       "      <td>7月份担的车。整体比较大气，刹车也好。动力有待加强，空调太差。这个天气半天降不下来。停车后车...</td>\n",
       "      <td>pos</td>\n",
       "      <td>neg</td>\n",
       "    </tr>\n",
       "    <tr>\n",
       "      <th>701</th>\n",
       "      <td>也没有密封不好的感觉</td>\n",
       "      <td>pos</td>\n",
       "      <td>neg</td>\n",
       "    </tr>\n",
       "    <tr>\n",
       "      <th>702</th>\n",
       "      <td>个人认为1。6的发动机，面对这么重的车，还算表现可以了。起步比较慢，不过可以接受。转速250...</td>\n",
       "      <td>pos</td>\n",
       "      <td>neg</td>\n",
       "    </tr>\n",
       "    <tr>\n",
       "      <th>703</th>\n",
       "      <td>前排驾乘感觉较为舒适，座椅的包裹性还是有的。后排座椅靠背较直，坐久了不太舒服。原厂轮胎胎噪较...</td>\n",
       "      <td>pos</td>\n",
       "      <td>neg</td>\n",
       "    </tr>\n",
       "    <tr>\n",
       "      <th>704</th>\n",
       "      <td>车子外观正面还还不错，侧面看一下好大，对改版的红色尾灯有点感冒，居说是很多早期的车友提议后厂...</td>\n",
       "      <td>pos</td>\n",
       "      <td>neg</td>\n",
       "    </tr>\n",
       "    <tr>\n",
       "      <th>705</th>\n",
       "      <td>在水箱罩和前保险杠的设计上，量产版的“秦”则没有概念车所展示的那么夸张，整体的面积有所减小。</td>\n",
       "      <td>neg</td>\n",
       "      <td>pos</td>\n",
       "    </tr>\n",
       "    <tr>\n",
       "      <th>706</th>\n",
       "      <td>但毕竟还有日本人在那监督吧，不是都说日本人对质量要求高吗？但在雨燕身上好像每看出来，更多的是...</td>\n",
       "      <td>pos</td>\n",
       "      <td>neg</td>\n",
       "    </tr>\n",
       "    <tr>\n",
       "      <th>707</th>\n",
       "      <td>储物空间增大了</td>\n",
       "      <td>pos</td>\n",
       "      <td>neg</td>\n",
       "    </tr>\n",
       "    <tr>\n",
       "      <th>708</th>\n",
       "      <td>后排空间比老款有所增加　但是感觉还是有点不够　不过对于３口之家　够用了</td>\n",
       "      <td>neg</td>\n",
       "      <td>pos</td>\n",
       "    </tr>\n",
       "    <tr>\n",
       "      <th>709</th>\n",
       "      <td>在太阳下暴晒，车内温度始终也不是很高。</td>\n",
       "      <td>pos</td>\n",
       "      <td>neg</td>\n",
       "    </tr>\n",
       "    <tr>\n",
       "      <th>710</th>\n",
       "      <td>车子比较紧凑，好停车。</td>\n",
       "      <td>pos</td>\n",
       "      <td>neg</td>\n",
       "    </tr>\n",
       "    <tr>\n",
       "      <th>711</th>\n",
       "      <td>作为本本分分的上班族，买车只为方便出行。实际的驾驶感受就是：方向指向感不错，转向很有力道，老...</td>\n",
       "      <td>neg</td>\n",
       "      <td>pos</td>\n",
       "    </tr>\n",
       "    <tr>\n",
       "      <th>712</th>\n",
       "      <td>操控:一般 老的悬架 老的发动机 老的地盘  操控只能是一般</td>\n",
       "      <td>pos</td>\n",
       "      <td>neg</td>\n",
       "    </tr>\n",
       "  </tbody>\n",
       "</table>\n",
       "<p>713 rows × 3 columns</p>\n",
       "</div>"
      ],
      "text/plain": [
       "                                               comment actual predict\n",
       "0                                                下次便宜点    neg     pos\n",
       "1    永远不知足，就是没有5，7的。3，6的还不错，在城市使用已经足够了，超车什么的很利落，想撒撒...    neg     pos\n",
       "2                                              操控:刹车一般    pos     neg\n",
       "3                                           尾部不若全新迈腾漂亮    neg     pos\n",
       "4           .空调也用到了,不是很强劲,但今天28度左右,不觉得空调很冷,风开2挡,制冷中间位.    neg     pos\n",
       "5                                离地间隙偏低，基本上应该到190比较合适。    neg     pos\n",
       "6                      但是，对于新天籁夸张的大嘴唇，我是至今也找不到眼前一亮的感觉。    neg     pos\n",
       "7                              空间:身高: 160-170CM, 空间和很足    neg     pos\n",
       "8    空调区域设计保持了皮卡本色，古朴实用，当打开空调时，风量和制冷效果超乎我们的想象，这点也是风...    neg     pos\n",
       "9                             车门：正常，感觉重量没有偷减，就是方式与前不同。    pos     neg\n",
       "10            可以用很棒来形容！作为一款AO级小车，过弯极限可以如此之高，高速稳定性如此之强！    neg     pos\n",
       "11   新爱丽舍手动标准版，从开始到现在共加油257升，跑了2944公里，提车2个月整，油钱1280...    neg     pos\n",
       "12   目前显示平均油耗9个多 但目前只开了400公里 油耗高跟我的驾驶习惯不好有关系 而且前400...    pos     neg\n",
       "13                      车子各方面都非常满意，就是个人感觉外观颜色可以选择的有点少了    neg     pos\n",
       "14                           座椅手动调节。还是电动好啊。带记忆的更好。多方便。    neg     pos\n",
       "15                                      手刹护套经常可以轻易的拉出，    neg     pos\n",
       "16                                     配置上比乞丐版的奔驰C级多一些    pos     neg\n",
       "17        当然也有不爽的地方，其中一个是起步慢，往往是过红绿灯时等过了灯，别的车都超出一个多身位，    pos     neg\n",
       "18   安全系数高。带方向盘锁，带变速箱保护，在1.6里提速不错，有人说这个车油耗大，看你怎么开了，...    pos     neg\n",
       "19                   压到小石头什么的还是有感觉，小的颠簸过滤得还行，大的只能尽量躲开。    neg     pos\n",
       "20                                            油耗表现和舒适性    pos     neg\n",
       "21                                         内饰:简约 时尚 实用    neg     pos\n",
       "22                                           棒子车实在不敢恭维    pos     neg\n",
       "23                                    方向盘比较沉，方向的稳定行很不错    neg     pos\n",
       "24                    质量:小毛病少，但通过性太差了！被动安全太差了！有点后悔买这车！    pos     neg\n",
       "25                                      中间如果有空调出风就漂亮多了    neg     pos\n",
       "26        感觉一般，有人说塑料感强，不过本人认为这价位的车还可以，作为代步用车，没有过高的追求。。    neg     pos\n",
       "27   对于车的前排空间非常满意，后排不能坐超过170CM身高的人，后备箱与后排连接不好，很难放进去...    pos     neg\n",
       "28                                  虽然外观设计不错，但前脸霸气点更好。    neg     pos\n",
       "29                                  动力:一档动力欠佳，二档以上动力十足    pos     neg\n",
       "..                                                 ...    ...     ...\n",
       "683                   抓地感觉很稳，操控很是精准，尤其在转向时，比东日配的轮胎强多了。    neg     pos\n",
       "684                  油耗:市区, 平均油耗: 16L/100km, 新车油耗比较大一些    pos     neg\n",
       "685  电源插座够多。共3个，仪表盘下方一个点烟器插座，前排中央扶手箱里一个，后备箱左后方还有一个，...    pos     neg\n",
       "686                                   油耗表现不错价格能再便宜就更好了    neg     pos\n",
       "687                         质量:听说遥控钥匙偶尔会失灵，发动机电子防盗会误报警    pos     neg\n",
       "688                                              动力:一般    neg     pos\n",
       "689  前排空间大，包裹性一般，后排紧凑点了，真皮座椅不错，后排坐姿高，不容易晕车倒是真的，孩子原来...    pos     neg\n",
       "690                          后排的座位很小，勉强能坐下一个人，比较适合放宠物。    neg     pos\n",
       "691                                动力 1.2起步快，就是开空调就不行了    pos     neg\n",
       "692                                 音响效果还不差，毕竟有4个喇叭在！·    pos     neg\n",
       "693                                         一直想拥用自己的小车    pos     neg\n",
       "694                    车跑有接缝的水泥路有轰隆-轰隆带节奏的低音，跑沥青路安静得多。    neg     pos\n",
       "695          操控:操控一般  跑山路的时候  过弯快了  侧倾明显  心里发虚会不自主的点刹车    pos     neg\n",
       "696  高速7或8或9，每一次跑高速、下高速后，不管跑多快，多慢，油门变化多频繁，油耗基本不变，这个...    pos     neg\n",
       "697      北京的冬天，2.0自豪。20年驾龄，爱车，知省油，没怎么堵车，最近油耗13.5升/百公里。    neg     pos\n",
       "698                                   操纵性比我以前的10W小车要差.    neg     pos\n",
       "699         音乐声不能随车速增加提高，408有这个功能，很实用，不知道的人还以为车子密封性多好呢    neg     pos\n",
       "700  7月份担的车。整体比较大气，刹车也好。动力有待加强，空调太差。这个天气半天降不下来。停车后车...    pos     neg\n",
       "701                                         也没有密封不好的感觉    pos     neg\n",
       "702  个人认为1。6的发动机，面对这么重的车，还算表现可以了。起步比较慢，不过可以接受。转速250...    pos     neg\n",
       "703  前排驾乘感觉较为舒适，座椅的包裹性还是有的。后排座椅靠背较直，坐久了不太舒服。原厂轮胎胎噪较...    pos     neg\n",
       "704  车子外观正面还还不错，侧面看一下好大，对改版的红色尾灯有点感冒，居说是很多早期的车友提议后厂...    pos     neg\n",
       "705     在水箱罩和前保险杠的设计上，量产版的“秦”则没有概念车所展示的那么夸张，整体的面积有所减小。    neg     pos\n",
       "706  但毕竟还有日本人在那监督吧，不是都说日本人对质量要求高吗？但在雨燕身上好像每看出来，更多的是...    pos     neg\n",
       "707                                            储物空间增大了    pos     neg\n",
       "708                后排空间比老款有所增加　但是感觉还是有点不够　不过对于３口之家　够用了    neg     pos\n",
       "709                                在太阳下暴晒，车内温度始终也不是很高。    pos     neg\n",
       "710                                        车子比较紧凑，好停车。    pos     neg\n",
       "711  作为本本分分的上班族，买车只为方便出行。实际的驾驶感受就是：方向指向感不错，转向很有力道，老...    neg     pos\n",
       "712                     操控:一般 老的悬架 老的发动机 老的地盘  操控只能是一般    pos     neg\n",
       "\n",
       "[713 rows x 3 columns]"
      ]
     },
     "execution_count": 161,
     "metadata": {},
     "output_type": "execute_result"
    }
   ],
   "source": [
    "text = [x_val_raw[i] for i in error_index]\n",
    "actual = ['neg' if y_val[i]==0 else 'pos' for i in error_index]\n",
    "predict = ['neg' if pred[i]==0 else 'pos' for i in error_index]\n",
    "\n",
    "error_df = pd.DataFrame(data={'comment':text, 'actual':actual, 'predict':predict})\n",
    "error_df"
   ]
  },
  {
   "cell_type": "code",
   "execution_count": 162,
   "metadata": {},
   "outputs": [
    {
     "data": {
      "image/png": "[encoded data removed]",
      "text/plain": [
       "<Figure size 432x288 with 1 Axes>"
      ]
     },
     "metadata": {},
     "output_type": "display_data"
    }
   ],
   "source": [
    "plt.hist(error_df.comment.str.len(), bins=100);"
   ]
  },
  {
   "cell_type": "markdown",
   "metadata": {},
   "source": [
    "Proportion of text length over 50 among error comments:"
   ]
  },
  {
   "cell_type": "code",
   "execution_count": 163,
   "metadata": {},
   "outputs": [
    {
     "data": {
      "text/plain": [
       "0.24123422159887797"
      ]
     },
     "execution_count": 163,
     "metadata": {},
     "output_type": "execute_result"
    }
   ],
   "source": [
    "sum(error_df.comment.str.len()>50) / len(error_df.comment)"
   ]
  },
  {
   "cell_type": "markdown",
   "metadata": {},
   "source": [
    "Proportion of text length over 50 among all comments:"
   ]
  },
  {
   "cell_type": "code",
   "execution_count": 164,
   "metadata": {},
   "outputs": [
    {
     "data": {
      "text/plain": [
       "0.19998519607272958"
      ]
     },
     "execution_count": 164,
     "metadata": {},
     "output_type": "execute_result"
    }
   ],
   "source": [
    "x_seq_len_50plus = [1 if len(_)>50 else 0 for _ in x_seq]\n",
    "sum(x_seq_len_50plus) / len(x_seq)"
   ]
  },
  {
   "cell_type": "markdown",
   "metadata": {},
   "source": [
    "## Use it to predict client's data\n",
    "\n",
    "This is a simplified version since the model can only train 2 classes: positive and negative.\n",
    "In practice we have more than 2 classes: in one comment a customer may have both positive or negative inputs ('pos'==1 & 'neg'==1), or just basically neutral ('pos'==0 & 'neg'==0). We'll try to fix this problem later.\n",
    "\n",
    "Now, let's just predict comments with only positive or negative sentiments."
   ]
  },
  {
   "cell_type": "code",
   "execution_count": 166,
   "metadata": {},
   "outputs": [],
   "source": [
    "def predictnew(text):\n",
    "    newtext = tokenizer.texts_to_sequences([text])\n",
    "    newtext = sequence.pad_sequences(newtext, maxlen=MAXLEN, padding='post', value=0)\n",
    "    prednew = best_model.predict(np.array(newtext))\n",
    "    if prednew > 0.5:\n",
    "        return 'pos'\n",
    "    else:\n",
    "        return 'neg'"
   ]
  },
  {
   "cell_type": "code",
   "execution_count": 167,
   "metadata": {},
   "outputs": [
    {
     "data": {
      "text/plain": [
       "'pos'"
      ]
     },
     "execution_count": 167,
     "metadata": {},
     "output_type": "execute_result"
    }
   ],
   "source": [
    "predictnew('因为这个车的性能好 看重的是这一点')"
   ]
  },
  {
   "cell_type": "code",
   "execution_count": 168,
   "metadata": {},
   "outputs": [
    {
     "data": {
      "text/plain": [
       "'pos'"
      ]
     },
     "execution_count": 168,
     "metadata": {},
     "output_type": "execute_result"
    }
   ],
   "source": [
    "predictnew('安全系数高 空间充裕')"
   ]
  },
  {
   "cell_type": "code",
   "execution_count": 169,
   "metadata": {},
   "outputs": [
    {
     "data": {
      "text/plain": [
       "'pos'"
      ]
     },
     "execution_count": 169,
     "metadata": {},
     "output_type": "execute_result"
    }
   ],
   "source": [
    "predictnew('自己的体验感觉不错 这个牌子值得信赖')"
   ]
  },
  {
   "cell_type": "code",
   "execution_count": 170,
   "metadata": {},
   "outputs": [
    {
     "data": {
      "text/plain": [
       "'neg'"
      ]
     },
     "execution_count": 170,
     "metadata": {},
     "output_type": "execute_result"
    }
   ],
   "source": [
    "predictnew('在开车过程中有顿挫感')"
   ]
  },
  {
   "cell_type": "code",
   "execution_count": 171,
   "metadata": {},
   "outputs": [
    {
     "data": {
      "text/plain": [
       "'neg'"
      ]
     },
     "execution_count": 171,
     "metadata": {},
     "output_type": "execute_result"
    }
   ],
   "source": [
    "predictnew('这个牌子又不是什么大牌子 没啥好推荐的')"
   ]
  },
  {
   "cell_type": "code",
   "execution_count": 172,
   "metadata": {},
   "outputs": [
    {
     "data": {
      "text/plain": [
       "'neg'"
      ]
     },
     "execution_count": 172,
     "metadata": {},
     "output_type": "execute_result"
    }
   ],
   "source": [
    "predictnew('赠送的导航不好用 售后电话打不通')"
   ]
  },
  {
   "cell_type": "markdown",
   "metadata": {},
   "source": [
    "It looks like the performance of our model is not bad. Let's predict in batch:"
   ]
  },
  {
   "cell_type": "code",
   "execution_count": 214,
   "metadata": {},
   "outputs": [
    {
     "data": {
      "text/plain": [
       "['质量好 大品牌', '服务态度友好 热情', '品牌好 车辆性能高', '车好', '物有所值']"
      ]
     },
     "execution_count": 214,
     "metadata": {},
     "output_type": "execute_result"
    }
   ],
   "source": [
    "Xlive = []\n",
    "ylive = []\n",
    "with open('data/test2.txt','r',encoding='utf-8') as fo:\n",
    "    for line in fo:\n",
    "        row = line.split('\\t',1)\n",
    "        Xlive.append(row[1].strip())\n",
    "        ylive.append(row[0])\n",
    "\n",
    "Xlive[:5]"
   ]
  },
  {
   "cell_type": "code",
   "execution_count": 235,
   "metadata": {},
   "outputs": [],
   "source": [
    "Xlive_seq = tokenizer.texts_to_sequences(Xlive)\n",
    "Xlive_seq = sequence.pad_sequences(Xlive_seq, maxlen=MAXLEN, padding='post', value=0)\n",
    "pred_live = best_model.predict(Xlive_seq)\n",
    "pred_live = [1 if pred[0] >.1 else 0 for pred in pred_live]"
   ]
  },
  {
   "cell_type": "code",
   "execution_count": 236,
   "metadata": {},
   "outputs": [
    {
     "name": "stdout",
     "output_type": "stream",
     "text": [
      "Classification report: \n",
      "\n",
      "             precision    recall  f1-score   support\n",
      "\n",
      "        neg       0.64      0.69      0.66       207\n",
      "        pos       1.00      0.99      1.00     16075\n",
      "\n",
      "avg / total       0.99      0.99      0.99     16282\n",
      "\n",
      "F1 score (macro): 0.829530295451987\n"
     ]
    }
   ],
   "source": [
    "ylive = [int(x) for x in ylive]\n",
    "report = classification_report(y_pred=np.array(pred_live), y_true=np.array(ylive), target_names=list(LABELS.values()))\n",
    "print('Classification report: \\n')\n",
    "print(report)\n",
    "f1_macro = f1_score(ylive, pred_live, average='macro')\n",
    "print('F1 score (macro): {}'.format(f1_macro))"
   ]
  },
  {
   "cell_type": "code",
   "execution_count": 237,
   "metadata": {},
   "outputs": [
    {
     "data": {
      "image/png": "[encoded data removed]",
      "text/plain": [
       "<Figure size 432x288 with 2 Axes>"
      ]
     },
     "metadata": {},
     "output_type": "display_data"
    }
   ],
   "source": [
    "df = pd.DataFrame(data={'Predict':pred_live,\n",
    "                       'Actual': ylive})\n",
    "df_cm = df.groupby(['Predict','Actual']).count().reset_index()\n",
    "df_cm['Predict'] = df_cm['Predict'].map(LABELS)\n",
    "df_cm['Actual'] = df_cm['Actual'].map(LABELS)\n",
    "count = df.groupby(['Predict','Actual'])['Predict'].count().values\n",
    "df_cm['count'] = pd.Series(count)\n",
    "df_cm = df_cm.pivot(index='Predict', columns='Actual', values='count')\n",
    "sns.heatmap(df_cm, annot=True, annot_kws={'size':16}, fmt='g', cmap='Greens', xticklabels=True, yticklabels=True);"
   ]
  },
  {
   "cell_type": "markdown",
   "metadata": {},
   "source": [
    "Precision for the negative class is very low. It's because the data set itself is highly unbalanced"
   ]
  },
  {
   "cell_type": "markdown",
   "metadata": {},
   "source": [
    "Again, let's look at what went wrong:"
   ]
  },
  {
   "cell_type": "code",
   "execution_count": 207,
   "metadata": {},
   "outputs": [
    {
     "data": {
      "text/html": [
       "<div>\n",
       "<style scoped>\n",
       "    .dataframe tbody tr th:only-of-type {\n",
       "        vertical-align: middle;\n",
       "    }\n",
       "\n",
       "    .dataframe tbody tr th {\n",
       "        vertical-align: top;\n",
       "    }\n",
       "\n",
       "    .dataframe thead th {\n",
       "        text-align: right;\n",
       "    }\n",
       "</style>\n",
       "<table border=\"1\" class=\"dataframe\">\n",
       "  <thead>\n",
       "    <tr style=\"text-align: right;\">\n",
       "      <th></th>\n",
       "      <th>comment</th>\n",
       "      <th>actual</th>\n",
       "      <th>predict</th>\n",
       "    </tr>\n",
       "  </thead>\n",
       "  <tbody>\n",
       "    <tr>\n",
       "      <th>0</th>\n",
       "      <td>这个车还有4驱的 动力可能会更强一些</td>\n",
       "      <td>pos</td>\n",
       "      <td>neg</td>\n",
       "    </tr>\n",
       "    <tr>\n",
       "      <th>1</th>\n",
       "      <td>发动机和变速箱技术成熟</td>\n",
       "      <td>pos</td>\n",
       "      <td>neg</td>\n",
       "    </tr>\n",
       "    <tr>\n",
       "      <th>2</th>\n",
       "      <td>有优点 不足 仅推荐</td>\n",
       "      <td>pos</td>\n",
       "      <td>neg</td>\n",
       "    </tr>\n",
       "    <tr>\n",
       "      <th>3</th>\n",
       "      <td>价格高 一般不怎么推荐购买 但是性能好</td>\n",
       "      <td>pos</td>\n",
       "      <td>neg</td>\n",
       "    </tr>\n",
       "    <tr>\n",
       "      <th>4</th>\n",
       "      <td>知名度高 大家都知道</td>\n",
       "      <td>pos</td>\n",
       "      <td>neg</td>\n",
       "    </tr>\n",
       "    <tr>\n",
       "      <th>5</th>\n",
       "      <td>车舒适耗油</td>\n",
       "      <td>pos</td>\n",
       "      <td>neg</td>\n",
       "    </tr>\n",
       "    <tr>\n",
       "      <th>6</th>\n",
       "      <td>老品牌</td>\n",
       "      <td>pos</td>\n",
       "      <td>neg</td>\n",
       "    </tr>\n",
       "    <tr>\n",
       "      <th>7</th>\n",
       "      <td>小毛病少</td>\n",
       "      <td>pos</td>\n",
       "      <td>neg</td>\n",
       "    </tr>\n",
       "    <tr>\n",
       "      <th>8</th>\n",
       "      <td>车身重 稳定性高 费油</td>\n",
       "      <td>pos</td>\n",
       "      <td>neg</td>\n",
       "    </tr>\n",
       "    <tr>\n",
       "      <th>9</th>\n",
       "      <td>本田品牌价格偏高 但是还是值得的</td>\n",
       "      <td>pos</td>\n",
       "      <td>neg</td>\n",
       "    </tr>\n",
       "    <tr>\n",
       "      <th>10</th>\n",
       "      <td>知名度高 保有量大</td>\n",
       "      <td>pos</td>\n",
       "      <td>neg</td>\n",
       "    </tr>\n",
       "    <tr>\n",
       "      <th>11</th>\n",
       "      <td>知名度高</td>\n",
       "      <td>pos</td>\n",
       "      <td>neg</td>\n",
       "    </tr>\n",
       "    <tr>\n",
       "      <th>12</th>\n",
       "      <td>后备箱大 小毛病多</td>\n",
       "      <td>pos</td>\n",
       "      <td>neg</td>\n",
       "    </tr>\n",
       "    <tr>\n",
       "      <th>13</th>\n",
       "      <td>大品牌 但别人有自己的想法</td>\n",
       "      <td>pos</td>\n",
       "      <td>neg</td>\n",
       "    </tr>\n",
       "    <tr>\n",
       "      <th>14</th>\n",
       "      <td>品牌影响力大 口碑好</td>\n",
       "      <td>pos</td>\n",
       "      <td>neg</td>\n",
       "    </tr>\n",
       "    <tr>\n",
       "      <th>15</th>\n",
       "      <td>知名度高</td>\n",
       "      <td>pos</td>\n",
       "      <td>neg</td>\n",
       "    </tr>\n",
       "    <tr>\n",
       "      <th>16</th>\n",
       "      <td>送沪牌 燃油消耗低 绿色环保</td>\n",
       "      <td>pos</td>\n",
       "      <td>neg</td>\n",
       "    </tr>\n",
       "    <tr>\n",
       "      <th>17</th>\n",
       "      <td>老品牌</td>\n",
       "      <td>pos</td>\n",
       "      <td>neg</td>\n",
       "    </tr>\n",
       "    <tr>\n",
       "      <th>18</th>\n",
       "      <td>大总品牌嘛 勉强用用</td>\n",
       "      <td>pos</td>\n",
       "      <td>neg</td>\n",
       "    </tr>\n",
       "    <tr>\n",
       "      <th>19</th>\n",
       "      <td>老品牌了</td>\n",
       "      <td>pos</td>\n",
       "      <td>neg</td>\n",
       "    </tr>\n",
       "    <tr>\n",
       "      <th>20</th>\n",
       "      <td>好用 故障少</td>\n",
       "      <td>pos</td>\n",
       "      <td>neg</td>\n",
       "    </tr>\n",
       "    <tr>\n",
       "      <th>21</th>\n",
       "      <td>驾驶体验好 但后排空间小</td>\n",
       "      <td>pos</td>\n",
       "      <td>neg</td>\n",
       "    </tr>\n",
       "    <tr>\n",
       "      <th>22</th>\n",
       "      <td>老品牌</td>\n",
       "      <td>pos</td>\n",
       "      <td>neg</td>\n",
       "    </tr>\n",
       "    <tr>\n",
       "      <th>23</th>\n",
       "      <td>老品牌</td>\n",
       "      <td>pos</td>\n",
       "      <td>neg</td>\n",
       "    </tr>\n",
       "    <tr>\n",
       "      <th>24</th>\n",
       "      <td>底盘钣金技术好 质量可靠 做工精细度差</td>\n",
       "      <td>pos</td>\n",
       "      <td>neg</td>\n",
       "    </tr>\n",
       "    <tr>\n",
       "      <th>25</th>\n",
       "      <td>好看 不容易坏</td>\n",
       "      <td>pos</td>\n",
       "      <td>neg</td>\n",
       "    </tr>\n",
       "    <tr>\n",
       "      <th>26</th>\n",
       "      <td>品牌知名度高 档次与匹配</td>\n",
       "      <td>pos</td>\n",
       "      <td>neg</td>\n",
       "    </tr>\n",
       "    <tr>\n",
       "      <th>27</th>\n",
       "      <td>车的档次高</td>\n",
       "      <td>pos</td>\n",
       "      <td>neg</td>\n",
       "    </tr>\n",
       "    <tr>\n",
       "      <th>28</th>\n",
       "      <td>品牌知名度高 档次高</td>\n",
       "      <td>pos</td>\n",
       "      <td>neg</td>\n",
       "    </tr>\n",
       "    <tr>\n",
       "      <th>29</th>\n",
       "      <td>老品牌</td>\n",
       "      <td>pos</td>\n",
       "      <td>neg</td>\n",
       "    </tr>\n",
       "    <tr>\n",
       "      <th>...</th>\n",
       "      <td>...</td>\n",
       "      <td>...</td>\n",
       "      <td>...</td>\n",
       "    </tr>\n",
       "    <tr>\n",
       "      <th>534</th>\n",
       "      <td>开了几个月来说说感受 一个字 动力强啊 哦是四个字 增压的发动机马力确实好 车子外形像是军车...</td>\n",
       "      <td>pos</td>\n",
       "      <td>neg</td>\n",
       "    </tr>\n",
       "    <tr>\n",
       "      <th>535</th>\n",
       "      <td>品牌知名度高 宣传力度大</td>\n",
       "      <td>pos</td>\n",
       "      <td>neg</td>\n",
       "    </tr>\n",
       "    <tr>\n",
       "      <th>536</th>\n",
       "      <td>信誉高</td>\n",
       "      <td>pos</td>\n",
       "      <td>neg</td>\n",
       "    </tr>\n",
       "    <tr>\n",
       "      <th>537</th>\n",
       "      <td>车子的油耗低 在日常生活中给省了燃油费用</td>\n",
       "      <td>pos</td>\n",
       "      <td>neg</td>\n",
       "    </tr>\n",
       "    <tr>\n",
       "      <th>538</th>\n",
       "      <td>国际化故意</td>\n",
       "      <td>pos</td>\n",
       "      <td>neg</td>\n",
       "    </tr>\n",
       "    <tr>\n",
       "      <th>539</th>\n",
       "      <td>著名的品牌 售后问题少</td>\n",
       "      <td>pos</td>\n",
       "      <td>neg</td>\n",
       "    </tr>\n",
       "    <tr>\n",
       "      <th>540</th>\n",
       "      <td>品牌做的酒 而且不短的改造 越来越完美了 先进的 你想象不到的好</td>\n",
       "      <td>pos</td>\n",
       "      <td>neg</td>\n",
       "    </tr>\n",
       "    <tr>\n",
       "      <th>541</th>\n",
       "      <td>是老的牌子</td>\n",
       "      <td>pos</td>\n",
       "      <td>neg</td>\n",
       "    </tr>\n",
       "    <tr>\n",
       "      <th>542</th>\n",
       "      <td>先说优点吧 在同类型的车型里 配置丰富 乘坐空间大 性价比高 外形大气 配上帅气的日行灯 家...</td>\n",
       "      <td>pos</td>\n",
       "      <td>neg</td>\n",
       "    </tr>\n",
       "    <tr>\n",
       "      <th>543</th>\n",
       "      <td>东风日产这个牌子家喻户晓 连家宝宝都知道尼桑 可见日产的知名度高</td>\n",
       "      <td>pos</td>\n",
       "      <td>neg</td>\n",
       "    </tr>\n",
       "    <tr>\n",
       "      <th>544</th>\n",
       "      <td>没什么原因 就认为这车好</td>\n",
       "      <td>pos</td>\n",
       "      <td>neg</td>\n",
       "    </tr>\n",
       "    <tr>\n",
       "      <th>545</th>\n",
       "      <td>信誉高</td>\n",
       "      <td>pos</td>\n",
       "      <td>neg</td>\n",
       "    </tr>\n",
       "    <tr>\n",
       "      <th>546</th>\n",
       "      <td>信誉高</td>\n",
       "      <td>pos</td>\n",
       "      <td>neg</td>\n",
       "    </tr>\n",
       "    <tr>\n",
       "      <th>547</th>\n",
       "      <td>后排空间小 空间大</td>\n",
       "      <td>pos</td>\n",
       "      <td>neg</td>\n",
       "    </tr>\n",
       "    <tr>\n",
       "      <th>548</th>\n",
       "      <td>信誉高</td>\n",
       "      <td>pos</td>\n",
       "      <td>neg</td>\n",
       "    </tr>\n",
       "    <tr>\n",
       "      <th>549</th>\n",
       "      <td>觉得这款车的性能空间耗油量少</td>\n",
       "      <td>pos</td>\n",
       "      <td>neg</td>\n",
       "    </tr>\n",
       "    <tr>\n",
       "      <th>550</th>\n",
       "      <td>五菱汽车价格不高</td>\n",
       "      <td>pos</td>\n",
       "      <td>neg</td>\n",
       "    </tr>\n",
       "    <tr>\n",
       "      <th>551</th>\n",
       "      <td>出了品牌没什么实用的</td>\n",
       "      <td>neg</td>\n",
       "      <td>pos</td>\n",
       "    </tr>\n",
       "    <tr>\n",
       "      <th>552</th>\n",
       "      <td>保值率不高 本身价值可以</td>\n",
       "      <td>neg</td>\n",
       "      <td>pos</td>\n",
       "    </tr>\n",
       "    <tr>\n",
       "      <th>553</th>\n",
       "      <td>优点不明显</td>\n",
       "      <td>neg</td>\n",
       "      <td>pos</td>\n",
       "    </tr>\n",
       "    <tr>\n",
       "      <th>554</th>\n",
       "      <td>驾乘体验不是特别好</td>\n",
       "      <td>neg</td>\n",
       "      <td>pos</td>\n",
       "    </tr>\n",
       "    <tr>\n",
       "      <th>555</th>\n",
       "      <td>车质量可以 承诺不到位</td>\n",
       "      <td>neg</td>\n",
       "      <td>pos</td>\n",
       "    </tr>\n",
       "    <tr>\n",
       "      <th>556</th>\n",
       "      <td>宝骏不错具体说不上来</td>\n",
       "      <td>neg</td>\n",
       "      <td>pos</td>\n",
       "    </tr>\n",
       "    <tr>\n",
       "      <th>557</th>\n",
       "      <td>车质量可以 但每个人选择不一样</td>\n",
       "      <td>neg</td>\n",
       "      <td>pos</td>\n",
       "    </tr>\n",
       "    <tr>\n",
       "      <th>558</th>\n",
       "      <td>购买这款品牌的车在经销店内试车不需要提前预约时间而且试车时间充足</td>\n",
       "      <td>neg</td>\n",
       "      <td>pos</td>\n",
       "    </tr>\n",
       "    <tr>\n",
       "      <th>559</th>\n",
       "      <td>方便不上班的时候 开着车郊游 这款车对路面的通过性能还算可以的</td>\n",
       "      <td>neg</td>\n",
       "      <td>pos</td>\n",
       "    </tr>\n",
       "    <tr>\n",
       "      <th>560</th>\n",
       "      <td>车质量没得说后备箱空间宽敞</td>\n",
       "      <td>neg</td>\n",
       "      <td>pos</td>\n",
       "    </tr>\n",
       "    <tr>\n",
       "      <th>561</th>\n",
       "      <td>有钱的可能喜欢更贵的车</td>\n",
       "      <td>neg</td>\n",
       "      <td>pos</td>\n",
       "    </tr>\n",
       "    <tr>\n",
       "      <th>562</th>\n",
       "      <td>身边朋友富 可能不会买这个牌子</td>\n",
       "      <td>neg</td>\n",
       "      <td>pos</td>\n",
       "    </tr>\n",
       "    <tr>\n",
       "      <th>563</th>\n",
       "      <td>满意没什么原因</td>\n",
       "      <td>neg</td>\n",
       "      <td>pos</td>\n",
       "    </tr>\n",
       "  </tbody>\n",
       "</table>\n",
       "<p>564 rows × 3 columns</p>\n",
       "</div>"
      ],
      "text/plain": [
       "                                               comment actual predict\n",
       "0                                   这个车还有4驱的 动力可能会更强一些    pos     neg\n",
       "1                                          发动机和变速箱技术成熟    pos     neg\n",
       "2                                           有优点 不足 仅推荐    pos     neg\n",
       "3                                  价格高 一般不怎么推荐购买 但是性能好    pos     neg\n",
       "4                                           知名度高 大家都知道    pos     neg\n",
       "5                                                车舒适耗油    pos     neg\n",
       "6                                                  老品牌    pos     neg\n",
       "7                                                 小毛病少    pos     neg\n",
       "8                                          车身重 稳定性高 费油    pos     neg\n",
       "9                                     本田品牌价格偏高 但是还是值得的    pos     neg\n",
       "10                                           知名度高 保有量大    pos     neg\n",
       "11                                                知名度高    pos     neg\n",
       "12                                           后备箱大 小毛病多    pos     neg\n",
       "13                                       大品牌 但别人有自己的想法    pos     neg\n",
       "14                                          品牌影响力大 口碑好    pos     neg\n",
       "15                                                知名度高    pos     neg\n",
       "16                                      送沪牌 燃油消耗低 绿色环保    pos     neg\n",
       "17                                                 老品牌    pos     neg\n",
       "18                                          大总品牌嘛 勉强用用    pos     neg\n",
       "19                                                老品牌了    pos     neg\n",
       "20                                              好用 故障少    pos     neg\n",
       "21                                        驾驶体验好 但后排空间小    pos     neg\n",
       "22                                                 老品牌    pos     neg\n",
       "23                                                 老品牌    pos     neg\n",
       "24                                 底盘钣金技术好 质量可靠 做工精细度差    pos     neg\n",
       "25                                             好看 不容易坏    pos     neg\n",
       "26                                        品牌知名度高 档次与匹配    pos     neg\n",
       "27                                               车的档次高    pos     neg\n",
       "28                                          品牌知名度高 档次高    pos     neg\n",
       "29                                                 老品牌    pos     neg\n",
       "..                                                 ...    ...     ...\n",
       "534  开了几个月来说说感受 一个字 动力强啊 哦是四个字 增压的发动机马力确实好 车子外形像是军车...    pos     neg\n",
       "535                                       品牌知名度高 宣传力度大    pos     neg\n",
       "536                                                信誉高    pos     neg\n",
       "537                               车子的油耗低 在日常生活中给省了燃油费用    pos     neg\n",
       "538                                              国际化故意    pos     neg\n",
       "539                                        著名的品牌 售后问题少    pos     neg\n",
       "540                   品牌做的酒 而且不短的改造 越来越完美了 先进的 你想象不到的好    pos     neg\n",
       "541                                              是老的牌子    pos     neg\n",
       "542  先说优点吧 在同类型的车型里 配置丰富 乘坐空间大 性价比高 外形大气 配上帅气的日行灯 家...    pos     neg\n",
       "543                   东风日产这个牌子家喻户晓 连家宝宝都知道尼桑 可见日产的知名度高    pos     neg\n",
       "544                                       没什么原因 就认为这车好    pos     neg\n",
       "545                                                信誉高    pos     neg\n",
       "546                                                信誉高    pos     neg\n",
       "547                                          后排空间小 空间大    pos     neg\n",
       "548                                                信誉高    pos     neg\n",
       "549                                     觉得这款车的性能空间耗油量少    pos     neg\n",
       "550                                           五菱汽车价格不高    pos     neg\n",
       "551                                         出了品牌没什么实用的    neg     pos\n",
       "552                                       保值率不高 本身价值可以    neg     pos\n",
       "553                                              优点不明显    neg     pos\n",
       "554                                          驾乘体验不是特别好    neg     pos\n",
       "555                                        车质量可以 承诺不到位    neg     pos\n",
       "556                                         宝骏不错具体说不上来    neg     pos\n",
       "557                                    车质量可以 但每个人选择不一样    neg     pos\n",
       "558                   购买这款品牌的车在经销店内试车不需要提前预约时间而且试车时间充足    neg     pos\n",
       "559                    方便不上班的时候 开着车郊游 这款车对路面的通过性能还算可以的    neg     pos\n",
       "560                                      车质量没得说后备箱空间宽敞    neg     pos\n",
       "561                                        有钱的可能喜欢更贵的车    neg     pos\n",
       "562                                    身边朋友富 可能不会买这个牌子    neg     pos\n",
       "563                                            满意没什么原因    neg     pos\n",
       "\n",
       "[564 rows x 3 columns]"
      ]
     },
     "execution_count": 207,
     "metadata": {},
     "output_type": "execute_result"
    }
   ],
   "source": [
    "df = pd.DataFrame(data={'Predict':pred_live,\n",
    "                       'Actual': ylive})\n",
    "error_index = df[df['Predict']!=df['Actual']].index\n",
    "\n",
    "text = [Xlive[i] for i in error_index]\n",
    "actual = ['neg' if ylive[i]==0 else 'pos' for i in error_index]\n",
    "predict = ['neg' if pred_live[i]==0 else 'pos' for i in error_index]\n",
    "\n",
    "error_df = pd.DataFrame(data={'comment':text, 'actual':actual, 'predict':predict})\n",
    "error_df"
   ]
  },
  {
   "cell_type": "markdown",
   "metadata": {},
   "source": [
    "Compare with what were predicted correctly:"
   ]
  },
  {
   "cell_type": "code",
   "execution_count": 208,
   "metadata": {},
   "outputs": [
    {
     "data": {
      "text/html": [
       "<div>\n",
       "<style scoped>\n",
       "    .dataframe tbody tr th:only-of-type {\n",
       "        vertical-align: middle;\n",
       "    }\n",
       "\n",
       "    .dataframe tbody tr th {\n",
       "        vertical-align: top;\n",
       "    }\n",
       "\n",
       "    .dataframe thead th {\n",
       "        text-align: right;\n",
       "    }\n",
       "</style>\n",
       "<table border=\"1\" class=\"dataframe\">\n",
       "  <thead>\n",
       "    <tr style=\"text-align: right;\">\n",
       "      <th></th>\n",
       "      <th>comment</th>\n",
       "      <th>actual</th>\n",
       "      <th>predict</th>\n",
       "    </tr>\n",
       "  </thead>\n",
       "  <tbody>\n",
       "    <tr>\n",
       "      <th>0</th>\n",
       "      <td>质量好 大品牌</td>\n",
       "      <td>pos</td>\n",
       "      <td>pos</td>\n",
       "    </tr>\n",
       "    <tr>\n",
       "      <th>1</th>\n",
       "      <td>服务态度友好 热情</td>\n",
       "      <td>pos</td>\n",
       "      <td>pos</td>\n",
       "    </tr>\n",
       "    <tr>\n",
       "      <th>2</th>\n",
       "      <td>品牌好 车辆性能高</td>\n",
       "      <td>pos</td>\n",
       "      <td>pos</td>\n",
       "    </tr>\n",
       "    <tr>\n",
       "      <th>3</th>\n",
       "      <td>车好</td>\n",
       "      <td>pos</td>\n",
       "      <td>pos</td>\n",
       "    </tr>\n",
       "    <tr>\n",
       "      <th>4</th>\n",
       "      <td>物有所值</td>\n",
       "      <td>pos</td>\n",
       "      <td>pos</td>\n",
       "    </tr>\n",
       "    <tr>\n",
       "      <th>5</th>\n",
       "      <td>是因为长安福特的车辆安全性能和配置在同级别当中是出色的 在高速行驶中车辆稳定性的好</td>\n",
       "      <td>pos</td>\n",
       "      <td>pos</td>\n",
       "    </tr>\n",
       "    <tr>\n",
       "      <th>6</th>\n",
       "      <td>省油 经济实惠</td>\n",
       "      <td>pos</td>\n",
       "      <td>pos</td>\n",
       "    </tr>\n",
       "    <tr>\n",
       "      <th>7</th>\n",
       "      <td>性能适合 胜价比高</td>\n",
       "      <td>pos</td>\n",
       "      <td>pos</td>\n",
       "    </tr>\n",
       "    <tr>\n",
       "      <th>8</th>\n",
       "      <td>驾驶性能好</td>\n",
       "      <td>pos</td>\n",
       "      <td>pos</td>\n",
       "    </tr>\n",
       "    <tr>\n",
       "      <th>9</th>\n",
       "      <td>开起来舒服</td>\n",
       "      <td>pos</td>\n",
       "      <td>pos</td>\n",
       "    </tr>\n",
       "    <tr>\n",
       "      <th>10</th>\n",
       "      <td>购车后驾驶舒服 用途多</td>\n",
       "      <td>pos</td>\n",
       "      <td>pos</td>\n",
       "    </tr>\n",
       "    <tr>\n",
       "      <th>11</th>\n",
       "      <td>省油</td>\n",
       "      <td>pos</td>\n",
       "      <td>pos</td>\n",
       "    </tr>\n",
       "    <tr>\n",
       "      <th>12</th>\n",
       "      <td>油耗低</td>\n",
       "      <td>pos</td>\n",
       "      <td>pos</td>\n",
       "    </tr>\n",
       "    <tr>\n",
       "      <th>13</th>\n",
       "      <td>口碑好</td>\n",
       "      <td>pos</td>\n",
       "      <td>pos</td>\n",
       "    </tr>\n",
       "    <tr>\n",
       "      <th>14</th>\n",
       "      <td>适合家庭用</td>\n",
       "      <td>pos</td>\n",
       "      <td>pos</td>\n",
       "    </tr>\n",
       "    <tr>\n",
       "      <th>15</th>\n",
       "      <td>空间大 省油</td>\n",
       "      <td>pos</td>\n",
       "      <td>pos</td>\n",
       "    </tr>\n",
       "    <tr>\n",
       "      <th>16</th>\n",
       "      <td>车的性能好</td>\n",
       "      <td>pos</td>\n",
       "      <td>pos</td>\n",
       "    </tr>\n",
       "    <tr>\n",
       "      <th>17</th>\n",
       "      <td>毛病少车耐用</td>\n",
       "      <td>pos</td>\n",
       "      <td>pos</td>\n",
       "    </tr>\n",
       "    <tr>\n",
       "      <th>18</th>\n",
       "      <td>品牌形象好</td>\n",
       "      <td>pos</td>\n",
       "      <td>pos</td>\n",
       "    </tr>\n",
       "    <tr>\n",
       "      <th>19</th>\n",
       "      <td>服务态度好</td>\n",
       "      <td>pos</td>\n",
       "      <td>pos</td>\n",
       "    </tr>\n",
       "  </tbody>\n",
       "</table>\n",
       "</div>"
      ],
      "text/plain": [
       "                                      comment actual predict\n",
       "0                                     质量好 大品牌    pos     pos\n",
       "1                                   服务态度友好 热情    pos     pos\n",
       "2                                   品牌好 车辆性能高    pos     pos\n",
       "3                                          车好    pos     pos\n",
       "4                                        物有所值    pos     pos\n",
       "5   是因为长安福特的车辆安全性能和配置在同级别当中是出色的 在高速行驶中车辆稳定性的好    pos     pos\n",
       "6                                     省油 经济实惠    pos     pos\n",
       "7                                   性能适合 胜价比高    pos     pos\n",
       "8                                       驾驶性能好    pos     pos\n",
       "9                                       开起来舒服    pos     pos\n",
       "10                                购车后驾驶舒服 用途多    pos     pos\n",
       "11                                         省油    pos     pos\n",
       "12                                        油耗低    pos     pos\n",
       "13                                        口碑好    pos     pos\n",
       "14                                      适合家庭用    pos     pos\n",
       "15                                     空间大 省油    pos     pos\n",
       "16                                      车的性能好    pos     pos\n",
       "17                                     毛病少车耐用    pos     pos\n",
       "18                                      品牌形象好    pos     pos\n",
       "19                                      服务态度好    pos     pos"
      ]
     },
     "execution_count": 208,
     "metadata": {},
     "output_type": "execute_result"
    }
   ],
   "source": [
    "df = pd.DataFrame(data={'Predict':pred_live,\n",
    "                       'Actual': ylive})\n",
    "correct_index = df[df['Predict']==df['Actual']].index\n",
    "\n",
    "text = [Xlive[i] for i in correct_index]\n",
    "actual = ['neg' if ylive[i]==0 else 'pos' for i in correct_index]\n",
    "predict = ['neg' if pred_live[i]==0 else 'pos' for i in correct_index]\n",
    "\n",
    "correct_df = pd.DataFrame(data={'comment':text, 'actual':actual, 'predict':predict})\n",
    "correct_df[:20]"
   ]
  },
  {
   "cell_type": "markdown",
   "metadata": {},
   "source": [
    "Check length of error comments:"
   ]
  },
  {
   "cell_type": "code",
   "execution_count": 211,
   "metadata": {},
   "outputs": [
    {
     "data": {
      "image/png": "[encoded data removed]",
      "text/plain": [
       "<Figure size 432x288 with 1 Axes>"
      ]
     },
     "metadata": {},
     "output_type": "display_data"
    }
   ],
   "source": [
    "plt.hist(error_df.comment.str.len(), bins=50);"
   ]
  },
  {
   "cell_type": "markdown",
   "metadata": {},
   "source": [
    "Check length of correct comments:"
   ]
  },
  {
   "cell_type": "code",
   "execution_count": 210,
   "metadata": {},
   "outputs": [
    {
     "data": {
      "image/png": "[encoded data removed]",
      "text/plain": [
       "<Figure size 432x288 with 1 Axes>"
      ]
     },
     "metadata": {},
     "output_type": "display_data"
    }
   ],
   "source": [
    "plt.hist(correct_df.comment.str.len(), bins=50);"
   ]
  },
  {
   "cell_type": "code",
   "execution_count": 213,
   "metadata": {},
   "outputs": [
    {
     "name": "stdout",
     "output_type": "stream",
     "text": [
      "Average length of error comments: 11.210992907801419\n",
      "Average length of correct comments: 9.16541544725792\n"
     ]
    }
   ],
   "source": [
    "avglen_error = np.mean(error_df.comment.str.len())\n",
    "avglen_corr = np.mean(correct_df.comment.str.len())\n",
    "\n",
    "print('Average length of error comments: {}'.format(avglen_error))\n",
    "print('Average length of correct comments: {}'.format(avglen_corr))"
   ]
  },
  {
   "cell_type": "markdown",
   "metadata": {},
   "source": [
    "On average error comments have longer length than correct comments.\n",
    "\n",
    "In the next posts, I'll do a word split first to see how it performs. Then I'll start using RNN and Seq2Seq models."
   ]
  }
 ],
 "metadata": {
  "kernelspec": {
   "display_name": "Python 3",
   "language": "python",
   "name": "python3"
  },
  "language_info": {
   "codemirror_mode": {
    "name": "ipython",
    "version": 3
   },
   "file_extension": ".py",
   "mimetype": "text/x-python",
   "name": "python",
   "nbconvert_exporter": "python",
   "pygments_lexer": "ipython3",
   "version": "3.6.2"
  }
 },
 "nbformat": 4,
 "nbformat_minor": 2
}

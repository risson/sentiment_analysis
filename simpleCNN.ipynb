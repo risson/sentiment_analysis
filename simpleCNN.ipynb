{
 "cells": [
  {
   "cell_type": "markdown",
   "metadata": {},
   "source": [
    "According to Kim Yoon's paper: https://arxiv.org/abs/1408.5882, sentence classification (including sentiment analysis) can be done using CNN. This notebook I will try to take it into practice."
   ]
  },
  {
   "cell_type": "markdown",
   "metadata": {},
   "source": [
    "## Install some packages"
   ]
  },
  {
   "cell_type": "code",
   "execution_count": 28,
   "metadata": {},
   "outputs": [],
   "source": [
    "import numpy as np\n",
    "from keras.preprocessing import sequence\n",
    "from keras.preprocessing.text import Tokenizer\n",
    "from keras.preprocessing.sequence import sequence\n",
    "from keras import Sequential\n",
    "from keras.layers import Dense, Activation, Dropout, Embedding, Conv1D, GlobalMaxPool1D\n",
    "import matplotlib as mpl\n",
    "import matplotlib.pyplot as plt\n",
    "import tensorflow as tf\n",
    "from sklearn.metrics import classification_report\n",
    "import pandas as pd\n",
    "import seaborn as sns\n",
    "\n",
    "import os"
   ]
  },
  {
   "cell_type": "markdown",
   "metadata": {},
   "source": [
    "## Take a sneak peek at the data\n",
    "I first planned to crawl data from autohome.com but it has very strong anti-spider technique. To save time and try to evaluate if it works, I crawled around 199k comments from 58che.com to see if the CNN method works. "
   ]
  },
  {
   "cell_type": "code",
   "execution_count": 9,
   "metadata": {},
   "outputs": [
    {
     "name": "stdout",
     "output_type": "stream",
     "text": [
      "Length of data set: 189139\n",
      "First few lines of x:\n",
      "['不过就是起步慢一点。', '一箱油才跑400多，严重怀疑行车电脑油耗的准确性', '前中央扶手储存空间太小,只能开车垫胳膊用.', '先介绍一下我的车，骐达手动最最最最低配。月光银，4000公里以前基本油耗是5.7-5.9没有超过6.0，不过4000公里以后感觉发动机明显声音变大，油耗也有点升高达到6.0 所以近期也比较着急拉车赶紧做二保。', '我跑过180KM有点飘', '再有一个就是风声大了点', '空调坏过一次', '空调我坐后面就比较吃亏了，开到3档前面喊冷，我刚感觉到不热，比较麻烦！', '我的DD是08年6月的，现在跑了3W6。今天上班的时候挂D档起步，听到右侧前轮有轻微的“吱吱”声，下车查看无果。继续开车前进，“吱吱”声依然，踩刹车时“吱吱”声就变的很大了，松开刹车，声响随着车子前进和提速慢慢变小。再踩一脚刹车“吱吱”声又出现了。不', '车内异响。有时在波棍座附近、有时在车顶灯附近、有时在左驾驶员车窗上方...确实有时很烦人，']\n",
      "First few lines of y:\n",
      "[0, 0, 0, 0, 0, 0, 0, 0, 0, 0]\n"
     ]
    }
   ],
   "source": [
    "DS_PATH = 'data/'\n",
    "LABELS = {0:'neg',1:'pos'}\n",
    "\n",
    "x = []\n",
    "y = []\n",
    "\n",
    "with open(os.path.join(DS_PATH, 'comment.txt'),'r',encoding='utf-8') as f:\n",
    "    for line in f:\n",
    "        row = line.split(' ', 1)\n",
    "        x.append(row[1].strip())\n",
    "        y.append(row[0])\n",
    "\n",
    "y = [1 if _=='v1' else 0 for _ in y]\n",
    "\n",
    "print('Length of data set: {}'.format(len(x)))\n",
    "print('First few lines of x:')\n",
    "print(x[:10])\n",
    "print('First few lines of y:')\n",
    "print(y[:10])"
   ]
  },
  {
   "cell_type": "markdown",
   "metadata": {},
   "source": [
    "## Preprocessing\n",
    "We will try preprocessing Chinese text in 2 ways\n",
    "1. Without word split\n",
    "2. With word split (like using jieba package)\n",
    "\n",
    "In this post I will explore the method without word split.\n",
    "We use keras Tokenizer to turn word(charactor) into index"
   ]
  },
  {
   "cell_type": "code",
   "execution_count": 10,
   "metadata": {},
   "outputs": [
    {
     "name": "stdout",
     "output_type": "stream",
     "text": [
      "Length of dictionary:\n",
      "4485\n",
      "First few items in dictionary:\n",
      "{'，': 1, '的': 2, '。': 3, '不': 4, '车': 5, '是': 6, '有': 7, '了': 8, '0': 9, ' ': 10}\n"
     ]
    }
   ],
   "source": [
    "tokenizer = Tokenizer(char_level=True, oov_token='UNK')\n",
    "tokenizer.fit_on_texts(x)\n",
    "DICTLEN = len(tokenizer.word_index)\n",
    "print('Length of dictionary:')\n",
    "print(DICTLEN)\n",
    "keys = [_[0] for _ in tokenizer.word_index.items()]\n",
    "values = [_[1] for _ in tokenizer.word_index.items()]\n",
    "print('First few items in dictionary:')\n",
    "print({k: v for k, v in zip(keys[:10],values[:10])})"
   ]
  },
  {
   "cell_type": "code",
   "execution_count": 11,
   "metadata": {},
   "outputs": [
    {
     "name": "stdout",
     "output_type": "stream",
     "text": [
      "First example after preprocessing:\n",
      "[4, 51, 29, 6, 79, 191, 299, 11, 32, 3]\n"
     ]
    }
   ],
   "source": [
    "x_seq = tokenizer.texts_to_sequences(x)\n",
    "print('First example after preprocessing:')\n",
    "print(x_seq[0])"
   ]
  },
  {
   "cell_type": "code",
   "execution_count": 12,
   "metadata": {},
   "outputs": [
    {
     "data": {
      "text/plain": [
       "[[22, 161, 51, 17, 92, 9, 352, 193, 7, 32, 692],\n",
       " [272, 7, 11, 27, 29, 6, 236, 83, 14, 8, 32],\n",
       " [33, 121, 621, 51, 11, 144]]"
      ]
     },
     "execution_count": 12,
     "metadata": {},
     "output_type": "execute_result"
    }
   ],
   "source": [
    "x_seq[4:7]"
   ]
  },
  {
   "cell_type": "markdown",
   "metadata": {},
   "source": [
    "### Padding sequence\n",
    "In order to train CNN easier, I make comments into same length. To do so, I use the pad_sequence function in Keras."
   ]
  },
  {
   "cell_type": "code",
   "execution_count": 13,
   "metadata": {},
   "outputs": [
    {
     "data": {
      "image/png": "[encoded data removed]",
      "text/plain": [
       "<Figure size 432x288 with 1 Axes>"
      ]
     },
     "metadata": {},
     "output_type": "display_data"
    }
   ],
   "source": [
    "plt.hist(x=[len(_) for _ in x_seq], bins=100);"
   ]
  },
  {
   "cell_type": "markdown",
   "metadata": {},
   "source": [
    "Let's set maxlen as 50 to be our first choice."
   ]
  },
  {
   "cell_type": "code",
   "execution_count": 14,
   "metadata": {},
   "outputs": [],
   "source": [
    "MAXLEN = 50\n",
    "x_idx = sequence.pad_sequences(x_seq, maxlen=MAXLEN, padding='post', value=0)\n",
    "#x_idx = x_idx.tolist()"
   ]
  },
  {
   "cell_type": "markdown",
   "metadata": {},
   "source": [
    "## Split the data into train set and val set"
   ]
  },
  {
   "cell_type": "code",
   "execution_count": 15,
   "metadata": {},
   "outputs": [],
   "source": [
    "np.random.seed(1)\n",
    "index = list(range(len(x)))\n",
    "np.random.shuffle(index)\n",
    "\n",
    "# set training length as 95%\n",
    "TRAINLEN = round(len(x)*0.95)\n",
    "train_index = index[:TRAINLEN]\n",
    "val_index = index[TRAINLEN:]"
   ]
  },
  {
   "cell_type": "code",
   "execution_count": 16,
   "metadata": {},
   "outputs": [],
   "source": [
    "x_train_raw = [x[i] for i in train_index]\n",
    "x_val_raw = [x[i] for i in val_index]\n",
    "\n",
    "x_train = [x_idx[i] for i in train_index]\n",
    "y_train = [y[i] for i in train_index]\n",
    "x_val = [x_idx[i] for i in val_index]\n",
    "y_val = [y[i] for i in val_index]"
   ]
  },
  {
   "cell_type": "code",
   "execution_count": 17,
   "metadata": {},
   "outputs": [
    {
     "name": "stdout",
     "output_type": "stream",
     "text": [
      "Positive count for whole data set:\n",
      "112515 (0.5948799560111876)\n",
      "Positive count for training set:\n",
      "106915 (0.5950234302823878)\n",
      "Positive count for validation set:\n",
      "5600 (0.5921539600296077)\n"
     ]
    }
   ],
   "source": [
    "print('Positive count for whole data set:')\n",
    "print('{} ({})'.format(sum(y), sum(y)/len(y)))\n",
    "print('Positive count for training set:')\n",
    "print('{} ({})'.format(sum(y_train), sum(y_train)/len(y_train)))\n",
    "print('Positive count for validation set:')\n",
    "print('{} ({})'.format(sum(y_val), sum(y_val)/len(y_val)))"
   ]
  },
  {
   "cell_type": "code",
   "execution_count": 18,
   "metadata": {},
   "outputs": [
    {
     "data": {
      "text/plain": [
       "'我喜欢宝马的前脸，尊贵时尚且不失霸气。'"
      ]
     },
     "execution_count": 18,
     "metadata": {},
     "output_type": "execute_result"
    }
   ],
   "source": [
    "x_train_raw[5]"
   ]
  },
  {
   "cell_type": "code",
   "execution_count": 19,
   "metadata": {},
   "outputs": [
    {
     "data": {
      "text/plain": [
       "array([  22,  156,  228,  495,  332,    2,   73,  555,    1, 1359,  469,\n",
       "         19,  244,  280,    4,  510,  637,   89,    3,    0,    0,    0,\n",
       "          0,    0,    0,    0,    0,    0,    0,    0,    0,    0,    0,\n",
       "          0,    0,    0,    0,    0,    0,    0,    0,    0,    0,    0,\n",
       "          0,    0,    0,    0,    0,    0])"
      ]
     },
     "execution_count": 19,
     "metadata": {},
     "output_type": "execute_result"
    }
   ],
   "source": [
    "x_train[5]"
   ]
  },
  {
   "cell_type": "code",
   "execution_count": 20,
   "metadata": {},
   "outputs": [
    {
     "data": {
      "text/plain": [
       "1"
      ]
     },
     "execution_count": 20,
     "metadata": {},
     "output_type": "execute_result"
    }
   ],
   "source": [
    "y_train[5]"
   ]
  },
  {
   "cell_type": "code",
   "execution_count": 21,
   "metadata": {},
   "outputs": [
    {
     "data": {
      "text/plain": [
       "'油耗:让人惊喜'"
      ]
     },
     "execution_count": 21,
     "metadata": {},
     "output_type": "execute_result"
    }
   ],
   "source": [
    "x_val_raw[1]"
   ]
  },
  {
   "cell_type": "code",
   "execution_count": 22,
   "metadata": {},
   "outputs": [
    {
     "data": {
      "text/plain": [
       "array([ 15,  54,  16, 185,  46, 391, 156,   0,   0,   0,   0,   0,   0,\n",
       "         0,   0,   0,   0,   0,   0,   0,   0,   0,   0,   0,   0,   0,\n",
       "         0,   0,   0,   0,   0,   0,   0,   0,   0,   0,   0,   0,   0,\n",
       "         0,   0,   0,   0,   0,   0,   0,   0,   0,   0,   0])"
      ]
     },
     "execution_count": 22,
     "metadata": {},
     "output_type": "execute_result"
    }
   ],
   "source": [
    "x_val[1]"
   ]
  },
  {
   "cell_type": "code",
   "execution_count": 23,
   "metadata": {},
   "outputs": [
    {
     "data": {
      "text/plain": [
       "1"
      ]
     },
     "execution_count": 23,
     "metadata": {},
     "output_type": "execute_result"
    }
   ],
   "source": [
    "y_val[1]"
   ]
  },
  {
   "cell_type": "markdown",
   "metadata": {},
   "source": [
    "### Train CNN model\n",
    "Set up some basic hyper parameters first. Based on CPU or GPU:"
   ]
  },
  {
   "cell_type": "code",
   "execution_count": 24,
   "metadata": {},
   "outputs": [],
   "source": [
    "if tf.test.is_gpu_available():\n",
    "    BATCH_SIZE = 128\n",
    "    EPOCHS = 8\n",
    "\n",
    "else:\n",
    "    BATCH_SIZE = 64\n",
    "    EPOCHS = 5"
   ]
  },
  {
   "cell_type": "code",
   "execution_count": 25,
   "metadata": {},
   "outputs": [],
   "source": [
    "EMBED_DIM = 40\n",
    "FILTERS = 128\n",
    "KERNEL_SIZE = 3\n",
    "HIDDEN_UNITS = 128\n",
    "VOCAB_SIZE = len(tokenizer.word_index)+1"
   ]
  },
  {
   "cell_type": "markdown",
   "metadata": {},
   "source": [
    "#### 1. without drop out layer"
   ]
  },
  {
   "cell_type": "code",
   "execution_count": 26,
   "metadata": {},
   "outputs": [
    {
     "name": "stdout",
     "output_type": "stream",
     "text": [
      "_________________________________________________________________\n",
      "Layer (type)                 Output Shape              Param #   \n",
      "=================================================================\n",
      "embedding_1 (Embedding)      (None, 50, 40)            179440    \n",
      "_________________________________________________________________\n",
      "conv1d_1 (Conv1D)            (None, 48, 128)           15488     \n",
      "_________________________________________________________________\n",
      "global_max_pooling1d_1 (Glob (None, 128)               0         \n",
      "_________________________________________________________________\n",
      "dense_1 (Dense)              (None, 128)               16512     \n",
      "_________________________________________________________________\n",
      "activation_1 (Activation)    (None, 128)               0         \n",
      "_________________________________________________________________\n",
      "dense_2 (Dense)              (None, 1)                 129       \n",
      "_________________________________________________________________\n",
      "activation_2 (Activation)    (None, 1)                 0         \n",
      "=================================================================\n",
      "Total params: 211,569\n",
      "Trainable params: 211,569\n",
      "Non-trainable params: 0\n",
      "_________________________________________________________________\n"
     ]
    }
   ],
   "source": [
    "model1 = Sequential()\n",
    "\n",
    "# Start off with embedding layer to map vocab ids into EMBED_DIM dimensions\n",
    "model1.add(Embedding(VOCAB_SIZE, EMBED_DIM, input_length=MAXLEN))\n",
    "#model.add(Dropout(0.2))\n",
    "\n",
    "# Add CNN\n",
    "model1.add(Conv1D(filters=FILTERS, kernel_size=KERNEL_SIZE, activation='relu'))\n",
    "\n",
    "# Add Max Pooling\n",
    "model1.add(GlobalMaxPool1D())\n",
    "\n",
    "# Add an MLP\n",
    "model1.add(Dense(HIDDEN_UNITS))\n",
    "#model.add(Dropout(0.2))\n",
    "model1.add(Activation('relu'))\n",
    "\n",
    "# Project into single unit output layer, and convert with sigmoid\n",
    "model1.add(Dense(1))\n",
    "model1.add(Activation('sigmoid'))\n",
    "\n",
    "model1.compile(optimizer='adam', loss='binary_crossentropy', metrics=['accuracy'])\n",
    "model1.summary()"
   ]
  },
  {
   "cell_type": "code",
   "execution_count": 27,
   "metadata": {},
   "outputs": [
    {
     "name": "stdout",
     "output_type": "stream",
     "text": [
      "Train on 161713 samples, validate on 17969 samples\n",
      "Epoch 1/5\n",
      "161713/161713 [==============================] - 64s 397us/step - loss: 0.2745 - acc: 0.8850 - val_loss: 0.2590 - val_acc: 0.8940\n",
      "Epoch 2/5\n",
      "161713/161713 [==============================] - 61s 377us/step - loss: 0.2126 - acc: 0.9172 - val_loss: 0.2434 - val_acc: 0.9038\n",
      "Epoch 3/5\n",
      "161713/161713 [==============================] - 61s 378us/step - loss: 0.1849 - acc: 0.9294 - val_loss: 0.2365 - val_acc: 0.9067\n",
      "Epoch 4/5\n",
      "161713/161713 [==============================] - 65s 405us/step - loss: 0.1630 - acc: 0.9388 - val_loss: 0.2457 - val_acc: 0.9028\n",
      "Epoch 5/5\n",
      "161713/161713 [==============================] - 64s 393us/step - loss: 0.1426 - acc: 0.9473 - val_loss: 0.2568 - val_acc: 0.9055\n"
     ]
    },
    {
     "data": {
      "text/plain": [
       "<keras.callbacks.History at 0x24910ff6e10>"
      ]
     },
     "execution_count": 27,
     "metadata": {},
     "output_type": "execute_result"
    }
   ],
   "source": [
    "model1.fit(np.array(x_train), np.array(y_train), \n",
    "          batch_size=BATCH_SIZE, \n",
    "          epochs=EPOCHS, \n",
    "          validation_split=0.1)"
   ]
  },
  {
   "cell_type": "markdown",
   "metadata": {},
   "source": [
    "As we can see epoch 3 got the lowest loss and best accuracy. For epoch > 3, the model started to overfit. "
   ]
  },
  {
   "cell_type": "code",
   "execution_count": 6,
   "metadata": {},
   "outputs": [
    {
     "ename": "NameError",
     "evalue": "name 'model1' is not defined",
     "output_type": "error",
     "traceback": [
      "\u001b[1;31m---------------------------------------------------------------------------\u001b[0m",
      "\u001b[1;31mNameError\u001b[0m                                 Traceback (most recent call last)",
      "\u001b[1;32m<ipython-input-6-812a254a4e64>\u001b[0m in \u001b[0;36m<module>\u001b[1;34m()\u001b[0m\n\u001b[1;32m----> 1\u001b[1;33m \u001b[0mscore\u001b[0m\u001b[1;33m,\u001b[0m \u001b[0macc\u001b[0m \u001b[1;33m=\u001b[0m \u001b[0mmodel1\u001b[0m\u001b[1;33m.\u001b[0m\u001b[0mevaluate\u001b[0m\u001b[1;33m(\u001b[0m\u001b[0mnp\u001b[0m\u001b[1;33m.\u001b[0m\u001b[0marray\u001b[0m\u001b[1;33m(\u001b[0m\u001b[0mx_val\u001b[0m\u001b[1;33m)\u001b[0m\u001b[1;33m,\u001b[0m \u001b[0mnp\u001b[0m\u001b[1;33m.\u001b[0m\u001b[0marray\u001b[0m\u001b[1;33m(\u001b[0m\u001b[0my_val\u001b[0m\u001b[1;33m)\u001b[0m\u001b[1;33m,\u001b[0m \u001b[0mbatch_size\u001b[0m\u001b[1;33m=\u001b[0m\u001b[0mBATCH_SIZE\u001b[0m\u001b[1;33m)\u001b[0m\u001b[1;33m\u001b[0m\u001b[0m\n\u001b[0m\u001b[0;32m      2\u001b[0m \u001b[0mprint\u001b[0m\u001b[1;33m(\u001b[0m\u001b[1;34m'Accuracy:'\u001b[0m\u001b[1;33m)\u001b[0m\u001b[1;33m\u001b[0m\u001b[0m\n\u001b[0;32m      3\u001b[0m \u001b[0mprint\u001b[0m\u001b[1;33m(\u001b[0m\u001b[0macc\u001b[0m\u001b[1;33m)\u001b[0m\u001b[1;33m\u001b[0m\u001b[0m\n",
      "\u001b[1;31mNameError\u001b[0m: name 'model1' is not defined"
     ]
    }
   ],
   "source": [
    "score, acc = model1.evaluate(np.array(x_val), np.array(y_val), batch_size=BATCH_SIZE)\n",
    "print('Accuracy:')\n",
    "print(acc)"
   ]
  },
  {
   "cell_type": "markdown",
   "metadata": {},
   "source": [
    "Evaluation on validation set:"
   ]
  },
  {
   "cell_type": "code",
   "execution_count": 22,
   "metadata": {},
   "outputs": [
    {
     "name": "stdout",
     "output_type": "stream",
     "text": [
      "             precision    recall  f1-score   support\n",
      "\n",
      "        neg       0.86      0.92      0.89      3857\n",
      "        pos       0.94      0.90      0.92      5600\n",
      "\n",
      "avg / total       0.91      0.91      0.91      9457\n",
      "\n"
     ]
    }
   ],
   "source": [
    "pred = model1.predict_classes(np.array(x_val))\n",
    "report = classification_report(y_pred=pred, y_true=np.array(y_val), target_names=list(LABELS.values()))\n",
    "print(report)"
   ]
  },
  {
   "cell_type": "code",
   "execution_count": 23,
   "metadata": {},
   "outputs": [
    {
     "data": {
      "image/png": "[encoded data removed]",
      "text/plain": [
       "<Figure size 432x288 with 2 Axes>"
      ]
     },
     "metadata": {},
     "output_type": "display_data"
    }
   ],
   "source": [
    "import pandas as pd\n",
    "import seaborn as sns\n",
    "\n",
    "predlist = [_[0] for _ in pred]\n",
    "df = pd.DataFrame(data={'Predict':predlist,\n",
    "                       'Actual': y_val})\n",
    "df_cm = df.groupby(['Predict','Actual']).count().reset_index()\n",
    "df_cm['Predict'] = df_cm['Predict'].map(LABELS)\n",
    "df_cm['Actual'] = df_cm['Actual'].map(LABELS)\n",
    "count = df.groupby(['Predict','Actual'])['Predict'].count().values\n",
    "df_cm['count'] = pd.Series(count)\n",
    "df_cm = df_cm.pivot(index='Predict', columns='Actual', values='count')\n",
    "sns.heatmap(df_cm, annot=True, annot_kws={'size':16}, fmt='g', cmap='Greens', xticklabels=True, yticklabels=True);"
   ]
  },
  {
   "cell_type": "markdown",
   "metadata": {},
   "source": [
    "#### 2. with drop out layer"
   ]
  },
  {
   "cell_type": "code",
   "execution_count": 26,
   "metadata": {},
   "outputs": [
    {
     "name": "stdout",
     "output_type": "stream",
     "text": [
      "_________________________________________________________________\n",
      "Layer (type)                 Output Shape              Param #   \n",
      "=================================================================\n",
      "embedding_3 (Embedding)      (None, 50, 40)            179440    \n",
      "_________________________________________________________________\n",
      "dropout_3 (Dropout)          (None, 50, 40)            0         \n",
      "_________________________________________________________________\n",
      "conv1d_3 (Conv1D)            (None, 48, 128)           15488     \n",
      "_________________________________________________________________\n",
      "global_max_pooling1d_3 (Glob (None, 128)               0         \n",
      "_________________________________________________________________\n",
      "dense_5 (Dense)              (None, 128)               16512     \n",
      "_________________________________________________________________\n",
      "dropout_4 (Dropout)          (None, 128)               0         \n",
      "_________________________________________________________________\n",
      "activation_5 (Activation)    (None, 128)               0         \n",
      "_________________________________________________________________\n",
      "dense_6 (Dense)              (None, 1)                 129       \n",
      "_________________________________________________________________\n",
      "activation_6 (Activation)    (None, 1)                 0         \n",
      "=================================================================\n",
      "Total params: 211,569\n",
      "Trainable params: 211,569\n",
      "Non-trainable params: 0\n",
      "_________________________________________________________________\n"
     ]
    }
   ],
   "source": [
    "model2 = Sequential()\n",
    "\n",
    "# Start off with embedding layer to map vocab ids into EMBED_DIM dimensions\n",
    "model2.add(Embedding(VOCAB_SIZE, EMBED_DIM, input_length=MAXLEN))\n",
    "model2.add(Dropout(0.2))\n",
    "\n",
    "# Add CNN\n",
    "model2.add(Conv1D(filters=FILTERS, kernel_size=KERNEL_SIZE, activation='relu'))\n",
    "\n",
    "# Add Max Pooling\n",
    "model2.add(GlobalMaxPool1D())\n",
    "\n",
    "# Add an MLP\n",
    "model2.add(Dense(HIDDEN_UNITS))\n",
    "model2.add(Dropout(0.2))\n",
    "model2.add(Activation('relu'))\n",
    "\n",
    "# Project into single unit output layer, and convert with sigmoid\n",
    "model2.add(Dense(1))\n",
    "model2.add(Activation('sigmoid'))\n",
    "\n",
    "model2.compile(optimizer='adam', loss='binary_crossentropy', metrics=['accuracy'])\n",
    "model2.summary()"
   ]
  },
  {
   "cell_type": "code",
   "execution_count": 27,
   "metadata": {},
   "outputs": [
    {
     "name": "stdout",
     "output_type": "stream",
     "text": [
      "Train on 161713 samples, validate on 17969 samples\n",
      "Epoch 1/5\n",
      "161713/161713 [==============================] - 71s 441us/step - loss: 0.2932 - acc: 0.8754 - val_loss: 0.2544 - val_acc: 0.8973\n",
      "Epoch 2/5\n",
      "161713/161713 [==============================] - 72s 444us/step - loss: 0.2356 - acc: 0.9066 - val_loss: 0.2502 - val_acc: 0.8985\n",
      "Epoch 3/5\n",
      "161713/161713 [==============================] - 73s 452us/step - loss: 0.2167 - acc: 0.9149 - val_loss: 0.2459 - val_acc: 0.9004\n",
      "Epoch 4/5\n",
      "161713/161713 [==============================] - 72s 448us/step - loss: 0.2023 - acc: 0.9211 - val_loss: 0.2327 - val_acc: 0.9078\n",
      "Epoch 5/5\n",
      "161713/161713 [==============================] - 72s 444us/step - loss: 0.1926 - acc: 0.9258 - val_loss: 0.2321 - val_acc: 0.9080\n"
     ]
    },
    {
     "data": {
      "text/plain": [
       "<keras.callbacks.History at 0x1c1ad273c18>"
      ]
     },
     "execution_count": 27,
     "metadata": {},
     "output_type": "execute_result"
    }
   ],
   "source": [
    "model2.fit(np.array(x_train), np.array(y_train), \n",
    "          batch_size=BATCH_SIZE, \n",
    "          epochs=EPOCHS, \n",
    "          validation_split=0.1)"
   ]
  },
  {
   "cell_type": "markdown",
   "metadata": {},
   "source": [
    "From above it seems like we can set EPOCHS larger because val_loss is still decreasing."
   ]
  },
  {
   "cell_type": "code",
   "execution_count": 28,
   "metadata": {},
   "outputs": [
    {
     "name": "stdout",
     "output_type": "stream",
     "text": [
      "9457/9457 [==============================] - 1s 73us/step\n",
      "Accuracy:\n",
      "0.9126572910468977\n"
     ]
    }
   ],
   "source": [
    "score, acc = model2.evaluate(np.array(x_val), np.array(y_val), batch_size=BATCH_SIZE)\n",
    "print('Accuracy:')\n",
    "print(acc)"
   ]
  },
  {
   "cell_type": "markdown",
   "metadata": {},
   "source": [
    "Evaluation on validation set:"
   ]
  },
  {
   "cell_type": "code",
   "execution_count": 29,
   "metadata": {},
   "outputs": [
    {
     "name": "stdout",
     "output_type": "stream",
     "text": [
      "             precision    recall  f1-score   support\n",
      "\n",
      "        neg       0.88      0.91      0.89      3857\n",
      "        pos       0.94      0.91      0.93      5600\n",
      "\n",
      "avg / total       0.91      0.91      0.91      9457\n",
      "\n"
     ]
    }
   ],
   "source": [
    "from sklearn.metrics import classification_report\n",
    "\n",
    "pred = model2.predict_classes(np.array(x_val))\n",
    "report = classification_report(y_pred=pred, y_true=np.array(y_val), target_names=list(LABELS.values()))\n",
    "print(report)"
   ]
  },
  {
   "cell_type": "code",
   "execution_count": 30,
   "metadata": {},
   "outputs": [
    {
     "data": {
      "image/png": "[encoded data removed]",
      "text/plain": [
       "<Figure size 432x288 with 2 Axes>"
      ]
     },
     "metadata": {},
     "output_type": "display_data"
    }
   ],
   "source": [
    "import pandas as pd\n",
    "import seaborn as sns\n",
    "\n",
    "predlist = [_[0] for _ in pred]\n",
    "df = pd.DataFrame(data={'Predict':predlist,\n",
    "                       'Actual': y_val})\n",
    "df_cm = df.groupby(['Predict','Actual']).count().reset_index()\n",
    "df_cm['Predict'] = df_cm['Predict'].map(LABELS)\n",
    "df_cm['Actual'] = df_cm['Actual'].map(LABELS)\n",
    "count = df.groupby(['Predict','Actual'])['Predict'].count().values\n",
    "df_cm['count'] = pd.Series(count)\n",
    "df_cm = df_cm.pivot(index='Predict', columns='Actual', values='count')\n",
    "sns.heatmap(df_cm, annot=True, annot_kws={'size':16}, fmt='g', cmap='Greens', xticklabels=True, yticklabels=True);"
   ]
  },
  {
   "cell_type": "markdown",
   "metadata": {},
   "source": [
    "#### 3. Changing filter kernal size from 3 to 5"
   ]
  },
  {
   "cell_type": "code",
   "execution_count": 31,
   "metadata": {},
   "outputs": [],
   "source": [
    "KERNEL_SIZE = 5"
   ]
  },
  {
   "cell_type": "code",
   "execution_count": 32,
   "metadata": {},
   "outputs": [
    {
     "name": "stdout",
     "output_type": "stream",
     "text": [
      "_________________________________________________________________\n",
      "Layer (type)                 Output Shape              Param #   \n",
      "=================================================================\n",
      "embedding_4 (Embedding)      (None, 50, 40)            179440    \n",
      "_________________________________________________________________\n",
      "dropout_5 (Dropout)          (None, 50, 40)            0         \n",
      "_________________________________________________________________\n",
      "conv1d_4 (Conv1D)            (None, 46, 128)           25728     \n",
      "_________________________________________________________________\n",
      "global_max_pooling1d_4 (Glob (None, 128)               0         \n",
      "_________________________________________________________________\n",
      "dense_7 (Dense)              (None, 128)               16512     \n",
      "_________________________________________________________________\n",
      "dropout_6 (Dropout)          (None, 128)               0         \n",
      "_________________________________________________________________\n",
      "activation_7 (Activation)    (None, 128)               0         \n",
      "_________________________________________________________________\n",
      "dense_8 (Dense)              (None, 1)                 129       \n",
      "_________________________________________________________________\n",
      "activation_8 (Activation)    (None, 1)                 0         \n",
      "=================================================================\n",
      "Total params: 221,809\n",
      "Trainable params: 221,809\n",
      "Non-trainable params: 0\n",
      "_________________________________________________________________\n"
     ]
    }
   ],
   "source": [
    "model3 = Sequential()\n",
    "\n",
    "# Start off with embedding layer to map vocab ids into EMBED_DIM dimensions\n",
    "model3.add(Embedding(VOCAB_SIZE, EMBED_DIM, input_length=MAXLEN))\n",
    "model3.add(Dropout(0.2))\n",
    "\n",
    "# Add CNN\n",
    "model3.add(Conv1D(filters=FILTERS, kernel_size=KERNEL_SIZE, activation='relu'))\n",
    "\n",
    "# Add Max Pooling\n",
    "model3.add(GlobalMaxPool1D())\n",
    "\n",
    "# Add an MLP\n",
    "model3.add(Dense(HIDDEN_UNITS))\n",
    "model3.add(Dropout(0.2))\n",
    "model3.add(Activation('relu'))\n",
    "\n",
    "# Project into single unit output layer, and convert with sigmoid\n",
    "model3.add(Dense(1))\n",
    "model3.add(Activation('sigmoid'))\n",
    "\n",
    "model3.compile(optimizer='adam', loss='binary_crossentropy', metrics=['accuracy'])\n",
    "model3.summary()"
   ]
  },
  {
   "cell_type": "code",
   "execution_count": 33,
   "metadata": {},
   "outputs": [
    {
     "name": "stdout",
     "output_type": "stream",
     "text": [
      "Train on 161713 samples, validate on 17969 samples\n",
      "Epoch 1/5\n",
      "161713/161713 [==============================] - 76s 473us/step - loss: 0.2876 - acc: 0.8793 - val_loss: 0.2502 - val_acc: 0.9003\n",
      "Epoch 2/5\n",
      "161713/161713 [==============================] - 78s 484us/step - loss: 0.2290 - acc: 0.9092 - val_loss: 0.2436 - val_acc: 0.9016\n",
      "Epoch 3/5\n",
      "161713/161713 [==============================] - 78s 480us/step - loss: 0.2082 - acc: 0.9187 - val_loss: 0.2358 - val_acc: 0.9082\n",
      "Epoch 4/5\n",
      "161713/161713 [==============================] - 79s 486us/step - loss: 0.1940 - acc: 0.9248 - val_loss: 0.2356 - val_acc: 0.9091\n",
      "Epoch 5/5\n",
      "161713/161713 [==============================] - 79s 489us/step - loss: 0.1844 - acc: 0.9289 - val_loss: 0.2321 - val_acc: 0.9084\n"
     ]
    },
    {
     "data": {
      "text/plain": [
       "<keras.callbacks.History at 0x1c1b0d95f60>"
      ]
     },
     "execution_count": 33,
     "metadata": {},
     "output_type": "execute_result"
    }
   ],
   "source": [
    "model3.fit(np.array(x_train), np.array(y_train), \n",
    "          batch_size=BATCH_SIZE, \n",
    "          epochs=EPOCHS, \n",
    "          validation_split=0.1)"
   ]
  },
  {
   "cell_type": "code",
   "execution_count": 34,
   "metadata": {},
   "outputs": [
    {
     "name": "stdout",
     "output_type": "stream",
     "text": [
      "9457/9457 [==============================] - 1s 78us/step\n",
      "Accuracy:\n",
      "0.9166754786328128\n"
     ]
    }
   ],
   "source": [
    "score, acc = model3.evaluate(np.array(x_val), np.array(y_val), batch_size=BATCH_SIZE)\n",
    "print('Accuracy:')\n",
    "print(acc)"
   ]
  },
  {
   "cell_type": "code",
   "execution_count": 35,
   "metadata": {},
   "outputs": [
    {
     "name": "stdout",
     "output_type": "stream",
     "text": [
      "             precision    recall  f1-score   support\n",
      "\n",
      "        neg       0.90      0.90      0.90      3857\n",
      "        pos       0.93      0.93      0.93      5600\n",
      "\n",
      "avg / total       0.92      0.92      0.92      9457\n",
      "\n"
     ]
    }
   ],
   "source": [
    "from sklearn.metrics import classification_report\n",
    "\n",
    "pred = model3.predict_classes(np.array(x_val))\n",
    "report = classification_report(y_pred=pred, y_true=np.array(y_val), target_names=list(LABELS.values()))\n",
    "print(report)"
   ]
  },
  {
   "cell_type": "code",
   "execution_count": 36,
   "metadata": {},
   "outputs": [
    {
     "data": {
      "image/png": "[encoded data removed]",
      "text/plain": [
       "<Figure size 432x288 with 2 Axes>"
      ]
     },
     "metadata": {},
     "output_type": "display_data"
    }
   ],
   "source": [
    "\n",
    "predlist = [_[0] for _ in pred]\n",
    "df = pd.DataFrame(data={'Predict':predlist,\n",
    "                       'Actual': y_val})\n",
    "df_cm = df.groupby(['Predict','Actual']).count().reset_index()\n",
    "df_cm['Predict'] = df_cm['Predict'].map(LABELS)\n",
    "df_cm['Actual'] = df_cm['Actual'].map(LABELS)\n",
    "count = df.groupby(['Predict','Actual'])['Predict'].count().values\n",
    "df_cm['count'] = pd.Series(count)\n",
    "df_cm = df_cm.pivot(index='Predict', columns='Actual', values='count')\n",
    "sns.heatmap(df_cm, annot=True, annot_kws={'size':16}, fmt='g', cmap='Greens', xticklabels=True, yticklabels=True);"
   ]
  },
  {
   "cell_type": "markdown",
   "metadata": {},
   "source": [
    "### Check error\n",
    "We choose the best performing model and look at the wrong predictions and dig out what to do next."
   ]
  },
  {
   "cell_type": "code",
   "execution_count": 29,
   "metadata": {},
   "outputs": [],
   "source": [
    "best_model = model1\n",
    "pred = best_model.predict_classes(np.array(x_val))\n",
    "predlist = [_[0] for _ in pred]\n",
    "df = pd.DataFrame(data={'Predict':predlist,\n",
    "                       'Actual': y_val})\n",
    "error_index = df[df['Predict']!=df['Actual']].index"
   ]
  },
  {
   "cell_type": "code",
   "execution_count": 30,
   "metadata": {},
   "outputs": [
    {
     "data": {
      "text/html": [
       "<div>\n",
       "<style scoped>\n",
       "    .dataframe tbody tr th:only-of-type {\n",
       "        vertical-align: middle;\n",
       "    }\n",
       "\n",
       "    .dataframe tbody tr th {\n",
       "        vertical-align: top;\n",
       "    }\n",
       "\n",
       "    .dataframe thead th {\n",
       "        text-align: right;\n",
       "    }\n",
       "</style>\n",
       "<table border=\"1\" class=\"dataframe\">\n",
       "  <thead>\n",
       "    <tr style=\"text-align: right;\">\n",
       "      <th></th>\n",
       "      <th>comment</th>\n",
       "      <th>actual</th>\n",
       "      <th>predict</th>\n",
       "    </tr>\n",
       "  </thead>\n",
       "  <tbody>\n",
       "    <tr>\n",
       "      <th>0</th>\n",
       "      <td>下次便宜点</td>\n",
       "      <td>neg</td>\n",
       "      <td>pos</td>\n",
       "    </tr>\n",
       "    <tr>\n",
       "      <th>1</th>\n",
       "      <td>永远不知足，就是没有5，7的。3，6的还不错，在城市使用已经足够了，超车什么的很利落，想撒撒...</td>\n",
       "      <td>neg</td>\n",
       "      <td>pos</td>\n",
       "    </tr>\n",
       "    <tr>\n",
       "      <th>2</th>\n",
       "      <td>车重，太适合高速了，160很稳，180其实最爽，因为这时已经听不到胎噪了，主要是风声，所以可...</td>\n",
       "      <td>pos</td>\n",
       "      <td>neg</td>\n",
       "    </tr>\n",
       "    <tr>\n",
       "      <th>3</th>\n",
       "      <td>操控:刹车一般</td>\n",
       "      <td>pos</td>\n",
       "      <td>neg</td>\n",
       "    </tr>\n",
       "    <tr>\n",
       "      <th>4</th>\n",
       "      <td>多功能仪表板太小，1/3是空着没用的，哪怕只显示时间也行啊！老款的仪表显示要方便多了，再次鄙...</td>\n",
       "      <td>neg</td>\n",
       "      <td>pos</td>\n",
       "    </tr>\n",
       "    <tr>\n",
       "      <th>5</th>\n",
       "      <td>超车时需深踩油门，变速箱马上将挡，曾经有一次从7瞬间降到4（也许还有更夸张的时候吧，我没遇到...</td>\n",
       "      <td>pos</td>\n",
       "      <td>neg</td>\n",
       "    </tr>\n",
       "    <tr>\n",
       "      <th>6</th>\n",
       "      <td>毛病也有，比如市区内行驶，要是比较拥堵，或者行车距离较短，速度较低，凯越还是蛮能吃的，我试过...</td>\n",
       "      <td>neg</td>\n",
       "      <td>pos</td>\n",
       "    </tr>\n",
       "    <tr>\n",
       "      <th>7</th>\n",
       "      <td>离地间隙偏低，基本上应该到190比较合适。</td>\n",
       "      <td>neg</td>\n",
       "      <td>pos</td>\n",
       "    </tr>\n",
       "    <tr>\n",
       "      <th>8</th>\n",
       "      <td>但是，对于新天籁夸张的大嘴唇，我是至今也找不到眼前一亮的感觉。</td>\n",
       "      <td>neg</td>\n",
       "      <td>pos</td>\n",
       "    </tr>\n",
       "    <tr>\n",
       "      <th>9</th>\n",
       "      <td>空间:身高: 160-170CM, 空间和很足</td>\n",
       "      <td>neg</td>\n",
       "      <td>pos</td>\n",
       "    </tr>\n",
       "    <tr>\n",
       "      <th>10</th>\n",
       "      <td>就是油耗太大。。。我现在5000公里 3000公里首保前 平均油耗11。8  首保完后开了 ...</td>\n",
       "      <td>neg</td>\n",
       "      <td>pos</td>\n",
       "    </tr>\n",
       "    <tr>\n",
       "      <th>11</th>\n",
       "      <td>跑偏（向左）确实如此，主要在1－3档行车，丢掉方向盘，在地面阻力作用下，方向盘的平衡打破后，...</td>\n",
       "      <td>neg</td>\n",
       "      <td>pos</td>\n",
       "    </tr>\n",
       "    <tr>\n",
       "      <th>12</th>\n",
       "      <td>空调区域设计保持了皮卡本色，古朴实用，当打开空调时，风量和制冷效果超乎我们的想象，这点也是风...</td>\n",
       "      <td>neg</td>\n",
       "      <td>pos</td>\n",
       "    </tr>\n",
       "    <tr>\n",
       "      <th>13</th>\n",
       "      <td>家用车里面真的舒适，空间很满意。买2.5G的就是看中了这套新的动力总成，2.5L直列4缸加上...</td>\n",
       "      <td>pos</td>\n",
       "      <td>neg</td>\n",
       "    </tr>\n",
       "    <tr>\n",
       "      <th>14</th>\n",
       "      <td>动力:少肉点，但我是个慢性子，符合我。</td>\n",
       "      <td>neg</td>\n",
       "      <td>pos</td>\n",
       "    </tr>\n",
       "    <tr>\n",
       "      <th>15</th>\n",
       "      <td>车门：正常，感觉重量没有偷减，就是方式与前不同。</td>\n",
       "      <td>pos</td>\n",
       "      <td>neg</td>\n",
       "    </tr>\n",
       "    <tr>\n",
       "      <th>16</th>\n",
       "      <td>可以用很棒来形容！作为一款AO级小车，过弯极限可以如此之高，高速稳定性如此之强！</td>\n",
       "      <td>neg</td>\n",
       "      <td>pos</td>\n",
       "    </tr>\n",
       "    <tr>\n",
       "      <th>17</th>\n",
       "      <td>A柱太档了，有几次左转差点出事，真的完完全全能挡一个人，突然冒出来的啊，练反应啊。为什么做么...</td>\n",
       "      <td>neg</td>\n",
       "      <td>pos</td>\n",
       "    </tr>\n",
       "    <tr>\n",
       "      <th>18</th>\n",
       "      <td>胎压警报真精准啊，红了一定要去查钉子哦！我算是服了。</td>\n",
       "      <td>pos</td>\n",
       "      <td>neg</td>\n",
       "    </tr>\n",
       "    <tr>\n",
       "      <th>19</th>\n",
       "      <td>悦动的空间很给力，在紧凑型车里是我坐过的空间最大的车。这也是我入手悦动1.6手豪的一个决定性...</td>\n",
       "      <td>pos</td>\n",
       "      <td>neg</td>\n",
       "    </tr>\n",
       "    <tr>\n",
       "      <th>20</th>\n",
       "      <td>关于隐藏功能，我自己调通了：下雨关窗、一键升窗，迎宾座椅。感觉都是很有用的功能，不知原厂为何...</td>\n",
       "      <td>pos</td>\n",
       "      <td>neg</td>\n",
       "    </tr>\n",
       "    <tr>\n",
       "      <th>21</th>\n",
       "      <td>车子各方面都非常满意，就是个人感觉外观颜色可以选择的有点少了</td>\n",
       "      <td>neg</td>\n",
       "      <td>pos</td>\n",
       "    </tr>\n",
       "    <tr>\n",
       "      <th>22</th>\n",
       "      <td>手套箱和烟灰缸没照明,</td>\n",
       "      <td>neg</td>\n",
       "      <td>pos</td>\n",
       "    </tr>\n",
       "    <tr>\n",
       "      <th>23</th>\n",
       "      <td>座椅手动调节。还是电动好啊。带记忆的更好。多方便。</td>\n",
       "      <td>neg</td>\n",
       "      <td>pos</td>\n",
       "    </tr>\n",
       "    <tr>\n",
       "      <th>24</th>\n",
       "      <td>手刹护套经常可以轻易的拉出，</td>\n",
       "      <td>neg</td>\n",
       "      <td>pos</td>\n",
       "    </tr>\n",
       "    <tr>\n",
       "      <th>25</th>\n",
       "      <td>配置上比乞丐版的奔驰C级多一些</td>\n",
       "      <td>pos</td>\n",
       "      <td>neg</td>\n",
       "    </tr>\n",
       "    <tr>\n",
       "      <th>26</th>\n",
       "      <td>当然也有不爽的地方，其中一个是起步慢，往往是过红绿灯时等过了灯，别的车都超出一个多身位，</td>\n",
       "      <td>pos</td>\n",
       "      <td>neg</td>\n",
       "    </tr>\n",
       "    <tr>\n",
       "      <th>27</th>\n",
       "      <td>安全系数高。带方向盘锁，带变速箱保护，在1.6里提速不错，有人说这个车油耗大，看你怎么开了，...</td>\n",
       "      <td>pos</td>\n",
       "      <td>neg</td>\n",
       "    </tr>\n",
       "    <tr>\n",
       "      <th>28</th>\n",
       "      <td>总的来说这车是属于“硬”派的，首先是驾驶感觉，它不算特别轻盈一类的，转向相比其他日系车要偏硬...</td>\n",
       "      <td>neg</td>\n",
       "      <td>pos</td>\n",
       "    </tr>\n",
       "    <tr>\n",
       "      <th>29</th>\n",
       "      <td>油耗表现和舒适性</td>\n",
       "      <td>pos</td>\n",
       "      <td>neg</td>\n",
       "    </tr>\n",
       "    <tr>\n",
       "      <th>...</th>\n",
       "      <td>...</td>\n",
       "      <td>...</td>\n",
       "      <td>...</td>\n",
       "    </tr>\n",
       "    <tr>\n",
       "      <th>812</th>\n",
       "      <td>质量:听说遥控钥匙偶尔会失灵，发动机电子防盗会误报警</td>\n",
       "      <td>pos</td>\n",
       "      <td>neg</td>\n",
       "    </tr>\n",
       "    <tr>\n",
       "      <th>813</th>\n",
       "      <td>动力:一般</td>\n",
       "      <td>neg</td>\n",
       "      <td>pos</td>\n",
       "    </tr>\n",
       "    <tr>\n",
       "      <th>814</th>\n",
       "      <td>前排空间大，包裹性一般，后排紧凑点了，真皮座椅不错，后排坐姿高，不容易晕车倒是真的，孩子原来...</td>\n",
       "      <td>pos</td>\n",
       "      <td>neg</td>\n",
       "    </tr>\n",
       "    <tr>\n",
       "      <th>815</th>\n",
       "      <td>后排的座位很小，勉强能坐下一个人，比较适合放宠物。</td>\n",
       "      <td>neg</td>\n",
       "      <td>pos</td>\n",
       "    </tr>\n",
       "    <tr>\n",
       "      <th>816</th>\n",
       "      <td>质量:靠的住的质量</td>\n",
       "      <td>pos</td>\n",
       "      <td>neg</td>\n",
       "    </tr>\n",
       "    <tr>\n",
       "      <th>817</th>\n",
       "      <td>动力 1.2起步快，就是开空调就不行了</td>\n",
       "      <td>pos</td>\n",
       "      <td>neg</td>\n",
       "    </tr>\n",
       "    <tr>\n",
       "      <th>818</th>\n",
       "      <td>标配无尾翼！</td>\n",
       "      <td>neg</td>\n",
       "      <td>pos</td>\n",
       "    </tr>\n",
       "    <tr>\n",
       "      <th>819</th>\n",
       "      <td>太过科技化</td>\n",
       "      <td>neg</td>\n",
       "      <td>pos</td>\n",
       "    </tr>\n",
       "    <tr>\n",
       "      <th>820</th>\n",
       "      <td>音响效果还不差，毕竟有4个喇叭在！·</td>\n",
       "      <td>pos</td>\n",
       "      <td>neg</td>\n",
       "    </tr>\n",
       "    <tr>\n",
       "      <th>821</th>\n",
       "      <td>一直想拥用自己的小车</td>\n",
       "      <td>pos</td>\n",
       "      <td>neg</td>\n",
       "    </tr>\n",
       "    <tr>\n",
       "      <th>822</th>\n",
       "      <td>操控:操控一般  跑山路的时候  过弯快了  侧倾明显  心里发虚会不自主的点刹车</td>\n",
       "      <td>pos</td>\n",
       "      <td>neg</td>\n",
       "    </tr>\n",
       "    <tr>\n",
       "      <th>823</th>\n",
       "      <td>高速7或8或9，每一次跑高速、下高速后，不管跑多快，多慢，油门变化多频繁，油耗基本不变，这个...</td>\n",
       "      <td>pos</td>\n",
       "      <td>neg</td>\n",
       "    </tr>\n",
       "    <tr>\n",
       "      <th>824</th>\n",
       "      <td>真是晕了,新车呀,买过来才一个月不到呢,刚开始几天已经发现过颠跛路面时,仪表盘会发出吱吱吱的...</td>\n",
       "      <td>neg</td>\n",
       "      <td>pos</td>\n",
       "    </tr>\n",
       "    <tr>\n",
       "      <th>825</th>\n",
       "      <td>7月份担的车。整体比较大气，刹车也好。动力有待加强，空调太差。这个天气半天降不下来。停车后车...</td>\n",
       "      <td>pos</td>\n",
       "      <td>neg</td>\n",
       "    </tr>\n",
       "    <tr>\n",
       "      <th>826</th>\n",
       "      <td>也没有密封不好的感觉</td>\n",
       "      <td>pos</td>\n",
       "      <td>neg</td>\n",
       "    </tr>\n",
       "    <tr>\n",
       "      <th>827</th>\n",
       "      <td>发动机技术老，虽说他是保时捷的发动机可是4速的变速箱是够老的了。</td>\n",
       "      <td>neg</td>\n",
       "      <td>pos</td>\n",
       "    </tr>\n",
       "    <tr>\n",
       "      <th>828</th>\n",
       "      <td>首先，方向盘转向助力抖动的问题确实存在，但是一般在转动幅度较大或比较快转动时才会出现，在实际...</td>\n",
       "      <td>neg</td>\n",
       "      <td>pos</td>\n",
       "    </tr>\n",
       "    <tr>\n",
       "      <th>829</th>\n",
       "      <td>操控:灵活自如，2.0动力有点不足，</td>\n",
       "      <td>pos</td>\n",
       "      <td>neg</td>\n",
       "    </tr>\n",
       "    <tr>\n",
       "      <th>830</th>\n",
       "      <td>我看这车哪都好，太多了一时半会说不完</td>\n",
       "      <td>pos</td>\n",
       "      <td>neg</td>\n",
       "    </tr>\n",
       "    <tr>\n",
       "      <th>831</th>\n",
       "      <td>前排驾乘感觉较为舒适，座椅的包裹性还是有的。后排座椅靠背较直，坐久了不太舒服。原厂轮胎胎噪较...</td>\n",
       "      <td>pos</td>\n",
       "      <td>neg</td>\n",
       "    </tr>\n",
       "    <tr>\n",
       "      <th>832</th>\n",
       "      <td>车子外观正面还还不错，侧面看一下好大，对改版的红色尾灯有点感冒，居说是很多早期的车友提议后厂...</td>\n",
       "      <td>pos</td>\n",
       "      <td>neg</td>\n",
       "    </tr>\n",
       "    <tr>\n",
       "      <th>833</th>\n",
       "      <td>但毕竟还有日本人在那监督吧，不是都说日本人对质量要求高吗？但在雨燕身上好像每看出来，更多的是...</td>\n",
       "      <td>pos</td>\n",
       "      <td>neg</td>\n",
       "    </tr>\n",
       "    <tr>\n",
       "      <th>834</th>\n",
       "      <td>储物空间增大了</td>\n",
       "      <td>pos</td>\n",
       "      <td>neg</td>\n",
       "    </tr>\n",
       "    <tr>\n",
       "      <th>835</th>\n",
       "      <td>底盘GOOD，硬但是有韧性，比之前开的天籁区别挺大，天籁舒适有余，操控不足。C200都有了，...</td>\n",
       "      <td>pos</td>\n",
       "      <td>neg</td>\n",
       "    </tr>\n",
       "    <tr>\n",
       "      <th>836</th>\n",
       "      <td>现在跑了2700多公里，大部分都是三环内外的路，偶尔也会跑市区或者高速，综合下来5毛多一公里...</td>\n",
       "      <td>pos</td>\n",
       "      <td>neg</td>\n",
       "    </tr>\n",
       "    <tr>\n",
       "      <th>837</th>\n",
       "      <td>在太阳下暴晒，车内温度始终也不是很高。</td>\n",
       "      <td>pos</td>\n",
       "      <td>neg</td>\n",
       "    </tr>\n",
       "    <tr>\n",
       "      <th>838</th>\n",
       "      <td>价格非常不厚道，33万的舒适型，方向盘控制、后排出风、A柱出风，啥也没 有。（和我的桑300...</td>\n",
       "      <td>neg</td>\n",
       "      <td>pos</td>\n",
       "    </tr>\n",
       "    <tr>\n",
       "      <th>839</th>\n",
       "      <td>车子比较紧凑，好停车。</td>\n",
       "      <td>pos</td>\n",
       "      <td>neg</td>\n",
       "    </tr>\n",
       "    <tr>\n",
       "      <th>840</th>\n",
       "      <td>作为本本分分的上班族，买车只为方便出行。实际的驾驶感受就是：方向指向感不错，转向很有力道，老...</td>\n",
       "      <td>neg</td>\n",
       "      <td>pos</td>\n",
       "    </tr>\n",
       "    <tr>\n",
       "      <th>841</th>\n",
       "      <td>操控:一般 老的悬架 老的发动机 老的地盘  操控只能是一般</td>\n",
       "      <td>pos</td>\n",
       "      <td>neg</td>\n",
       "    </tr>\n",
       "  </tbody>\n",
       "</table>\n",
       "<p>842 rows × 3 columns</p>\n",
       "</div>"
      ],
      "text/plain": [
       "                                               comment actual predict\n",
       "0                                                下次便宜点    neg     pos\n",
       "1    永远不知足，就是没有5，7的。3，6的还不错，在城市使用已经足够了，超车什么的很利落，想撒撒...    neg     pos\n",
       "2    车重，太适合高速了，160很稳，180其实最爽，因为这时已经听不到胎噪了，主要是风声，所以可...    pos     neg\n",
       "3                                              操控:刹车一般    pos     neg\n",
       "4    多功能仪表板太小，1/3是空着没用的，哪怕只显示时间也行啊！老款的仪表显示要方便多了，再次鄙...    neg     pos\n",
       "5    超车时需深踩油门，变速箱马上将挡，曾经有一次从7瞬间降到4（也许还有更夸张的时候吧，我没遇到...    pos     neg\n",
       "6    毛病也有，比如市区内行驶，要是比较拥堵，或者行车距离较短，速度较低，凯越还是蛮能吃的，我试过...    neg     pos\n",
       "7                                离地间隙偏低，基本上应该到190比较合适。    neg     pos\n",
       "8                      但是，对于新天籁夸张的大嘴唇，我是至今也找不到眼前一亮的感觉。    neg     pos\n",
       "9                              空间:身高: 160-170CM, 空间和很足    neg     pos\n",
       "10   就是油耗太大。。。我现在5000公里 3000公里首保前 平均油耗11。8  首保完后开了 ...    neg     pos\n",
       "11   跑偏（向左）确实如此，主要在1－3档行车，丢掉方向盘，在地面阻力作用下，方向盘的平衡打破后，...    neg     pos\n",
       "12   空调区域设计保持了皮卡本色，古朴实用，当打开空调时，风量和制冷效果超乎我们的想象，这点也是风...    neg     pos\n",
       "13   家用车里面真的舒适，空间很满意。买2.5G的就是看中了这套新的动力总成，2.5L直列4缸加上...    pos     neg\n",
       "14                                 动力:少肉点，但我是个慢性子，符合我。    neg     pos\n",
       "15                            车门：正常，感觉重量没有偷减，就是方式与前不同。    pos     neg\n",
       "16            可以用很棒来形容！作为一款AO级小车，过弯极限可以如此之高，高速稳定性如此之强！    neg     pos\n",
       "17   A柱太档了，有几次左转差点出事，真的完完全全能挡一个人，突然冒出来的啊，练反应啊。为什么做么...    neg     pos\n",
       "18                          胎压警报真精准啊，红了一定要去查钉子哦！我算是服了。    pos     neg\n",
       "19   悦动的空间很给力，在紧凑型车里是我坐过的空间最大的车。这也是我入手悦动1.6手豪的一个决定性...    pos     neg\n",
       "20   关于隐藏功能，我自己调通了：下雨关窗、一键升窗，迎宾座椅。感觉都是很有用的功能，不知原厂为何...    pos     neg\n",
       "21                      车子各方面都非常满意，就是个人感觉外观颜色可以选择的有点少了    neg     pos\n",
       "22                                         手套箱和烟灰缸没照明,    neg     pos\n",
       "23                           座椅手动调节。还是电动好啊。带记忆的更好。多方便。    neg     pos\n",
       "24                                      手刹护套经常可以轻易的拉出，    neg     pos\n",
       "25                                     配置上比乞丐版的奔驰C级多一些    pos     neg\n",
       "26        当然也有不爽的地方，其中一个是起步慢，往往是过红绿灯时等过了灯，别的车都超出一个多身位，    pos     neg\n",
       "27   安全系数高。带方向盘锁，带变速箱保护，在1.6里提速不错，有人说这个车油耗大，看你怎么开了，...    pos     neg\n",
       "28   总的来说这车是属于“硬”派的，首先是驾驶感觉，它不算特别轻盈一类的，转向相比其他日系车要偏硬...    neg     pos\n",
       "29                                            油耗表现和舒适性    pos     neg\n",
       "..                                                 ...    ...     ...\n",
       "812                         质量:听说遥控钥匙偶尔会失灵，发动机电子防盗会误报警    pos     neg\n",
       "813                                              动力:一般    neg     pos\n",
       "814  前排空间大，包裹性一般，后排紧凑点了，真皮座椅不错，后排坐姿高，不容易晕车倒是真的，孩子原来...    pos     neg\n",
       "815                          后排的座位很小，勉强能坐下一个人，比较适合放宠物。    neg     pos\n",
       "816                                          质量:靠的住的质量    pos     neg\n",
       "817                                动力 1.2起步快，就是开空调就不行了    pos     neg\n",
       "818                                             标配无尾翼！    neg     pos\n",
       "819                                              太过科技化    neg     pos\n",
       "820                                 音响效果还不差，毕竟有4个喇叭在！·    pos     neg\n",
       "821                                         一直想拥用自己的小车    pos     neg\n",
       "822          操控:操控一般  跑山路的时候  过弯快了  侧倾明显  心里发虚会不自主的点刹车    pos     neg\n",
       "823  高速7或8或9，每一次跑高速、下高速后，不管跑多快，多慢，油门变化多频繁，油耗基本不变，这个...    pos     neg\n",
       "824  真是晕了,新车呀,买过来才一个月不到呢,刚开始几天已经发现过颠跛路面时,仪表盘会发出吱吱吱的...    neg     pos\n",
       "825  7月份担的车。整体比较大气，刹车也好。动力有待加强，空调太差。这个天气半天降不下来。停车后车...    pos     neg\n",
       "826                                         也没有密封不好的感觉    pos     neg\n",
       "827                   发动机技术老，虽说他是保时捷的发动机可是4速的变速箱是够老的了。    neg     pos\n",
       "828  首先，方向盘转向助力抖动的问题确实存在，但是一般在转动幅度较大或比较快转动时才会出现，在实际...    neg     pos\n",
       "829                                 操控:灵活自如，2.0动力有点不足，    pos     neg\n",
       "830                                 我看这车哪都好，太多了一时半会说不完    pos     neg\n",
       "831  前排驾乘感觉较为舒适，座椅的包裹性还是有的。后排座椅靠背较直，坐久了不太舒服。原厂轮胎胎噪较...    pos     neg\n",
       "832  车子外观正面还还不错，侧面看一下好大，对改版的红色尾灯有点感冒，居说是很多早期的车友提议后厂...    pos     neg\n",
       "833  但毕竟还有日本人在那监督吧，不是都说日本人对质量要求高吗？但在雨燕身上好像每看出来，更多的是...    pos     neg\n",
       "834                                            储物空间增大了    pos     neg\n",
       "835  底盘GOOD，硬但是有韧性，比之前开的天籁区别挺大，天籁舒适有余，操控不足。C200都有了，...    pos     neg\n",
       "836  现在跑了2700多公里，大部分都是三环内外的路，偶尔也会跑市区或者高速，综合下来5毛多一公里...    pos     neg\n",
       "837                                在太阳下暴晒，车内温度始终也不是很高。    pos     neg\n",
       "838  价格非常不厚道，33万的舒适型，方向盘控制、后排出风、A柱出风，啥也没 有。（和我的桑300...    neg     pos\n",
       "839                                        车子比较紧凑，好停车。    pos     neg\n",
       "840  作为本本分分的上班族，买车只为方便出行。实际的驾驶感受就是：方向指向感不错，转向很有力道，老...    neg     pos\n",
       "841                     操控:一般 老的悬架 老的发动机 老的地盘  操控只能是一般    pos     neg\n",
       "\n",
       "[842 rows x 3 columns]"
      ]
     },
     "execution_count": 30,
     "metadata": {},
     "output_type": "execute_result"
    }
   ],
   "source": [
    "text = [x_val_raw[i] for i in error_index]\n",
    "actual = ['neg' if y_val[i]==0 else 'pos' for i in error_index]\n",
    "predict = ['neg' if predlist[i]==0 else 'pos' for i in error_index]\n",
    "\n",
    "error_df = pd.DataFrame(data={'comment':text, 'actual':actual, 'predict':predict})\n",
    "error_df"
   ]
  },
  {
   "cell_type": "code",
   "execution_count": 39,
   "metadata": {},
   "outputs": [
    {
     "data": {
      "image/png": "[encoded data removed]",
      "text/plain": [
       "<Figure size 432x288 with 1 Axes>"
      ]
     },
     "metadata": {},
     "output_type": "display_data"
    }
   ],
   "source": [
    "plt.hist(error_df.comment.str.len(), bins=100);"
   ]
  },
  {
   "cell_type": "markdown",
   "metadata": {},
   "source": [
    "Proportion of text length over 50 among error comments:"
   ]
  },
  {
   "cell_type": "code",
   "execution_count": 41,
   "metadata": {},
   "outputs": [
    {
     "data": {
      "text/plain": [
       "0.3182897862232779"
      ]
     },
     "execution_count": 41,
     "metadata": {},
     "output_type": "execute_result"
    }
   ],
   "source": [
    "sum(error_df.comment.str.len()>50) / len(error_df.comment)"
   ]
  },
  {
   "cell_type": "markdown",
   "metadata": {},
   "source": [
    "Proportion of text length over 50 among all comments:"
   ]
  },
  {
   "cell_type": "code",
   "execution_count": 46,
   "metadata": {},
   "outputs": [
    {
     "data": {
      "text/plain": [
       "0.19998519607272958"
      ]
     },
     "execution_count": 46,
     "metadata": {},
     "output_type": "execute_result"
    }
   ],
   "source": [
    "x_seq_len_50plus = [1 if len(_)>50 else 0 for _ in x_seq]\n",
    "sum(x_seq_len_50plus) / len(x_seq)"
   ]
  },
  {
   "cell_type": "markdown",
   "metadata": {},
   "source": [
    "It seems like more error happend on comments that are longer."
   ]
  },
  {
   "cell_type": "code",
   "execution_count": 48,
   "metadata": {},
   "outputs": [
    {
     "name": "stdout",
     "output_type": "stream",
     "text": [
      "Positive count for whole data set:\n",
      "112515 (0.5948799560111876)\n",
      "Positive count for training set:\n",
      "106915 (0.5950234302823878)\n",
      "Positive count for validation set:\n",
      "5600 (0.5921539600296077)\n",
      "[ 95  70  16 117 108 294 171   5   0   0   0   0   0   0   0   0   0   0\n",
      "   0   0   0   0   0   0   0   0   0   0   0   0   0   0   0   0   0   0\n",
      "   0   0   0   0   0   0   0   0   0   0   0   0   0   0   0   0   0   0\n",
      "   0   0   0   0   0   0   0   0   0   0   0   0   0   0   0   0   0   0\n",
      "   0   0   0   0   0   0   0   0   0   0   0   0   0   0   0   0   0   0\n",
      "   0   0   0   0   0   0   0   0   0   0]\n",
      "_________________________________________________________________\n",
      "Layer (type)                 Output Shape              Param #   \n",
      "=================================================================\n",
      "embedding_3 (Embedding)      (None, 100, 40)           179440    \n",
      "_________________________________________________________________\n",
      "dropout_3 (Dropout)          (None, 100, 40)           0         \n",
      "_________________________________________________________________\n",
      "conv1d_3 (Conv1D)            (None, 98, 128)           15488     \n",
      "_________________________________________________________________\n",
      "global_max_pooling1d_3 (Glob (None, 128)               0         \n",
      "_________________________________________________________________\n",
      "dense_5 (Dense)              (None, 128)               16512     \n",
      "_________________________________________________________________\n",
      "dropout_4 (Dropout)          (None, 128)               0         \n",
      "_________________________________________________________________\n",
      "activation_5 (Activation)    (None, 128)               0         \n",
      "_________________________________________________________________\n",
      "dense_6 (Dense)              (None, 1)                 129       \n",
      "_________________________________________________________________\n",
      "activation_6 (Activation)    (None, 1)                 0         \n",
      "=================================================================\n",
      "Total params: 211,569\n",
      "Trainable params: 211,569\n",
      "Non-trainable params: 0\n",
      "_________________________________________________________________\n",
      "Train on 161713 samples, validate on 17969 samples\n",
      "Epoch 1/5\n",
      "161713/161713 [==============================] - 135s 837us/step - loss: 0.2761 - acc: 0.8848 - val_loss: 0.2476 - val_acc: 0.8990\n",
      "Epoch 2/5\n",
      "161713/161713 [==============================] - 131s 813us/step - loss: 0.2179 - acc: 0.9155 - val_loss: 0.2209 - val_acc: 0.9132\n",
      "Epoch 3/5\n",
      "161713/161713 [==============================] - 131s 808us/step - loss: 0.1993 - acc: 0.9235 - val_loss: 0.2181 - val_acc: 0.9155\n",
      "Epoch 4/5\n",
      "161713/161713 [==============================] - 134s 826us/step - loss: 0.1864 - acc: 0.9284 - val_loss: 0.2165 - val_acc: 0.9151\n",
      "Epoch 5/5\n",
      "161713/161713 [==============================] - 132s 818us/step - loss: 0.1772 - acc: 0.9325 - val_loss: 0.2109 - val_acc: 0.9185\n"
     ]
    },
    {
     "data": {
      "text/plain": [
       "<keras.callbacks.History at 0x24912d307f0>"
      ]
     },
     "execution_count": 48,
     "metadata": {},
     "output_type": "execute_result"
    }
   ],
   "source": [
    "MAXLEN = 100\n",
    "x_idx = sequence.pad_sequences(x_seq, maxlen=MAXLEN, padding='post', value=0)\n",
    "\n",
    "np.random.seed(1)\n",
    "index = list(range(len(x)))\n",
    "np.random.shuffle(index)\n",
    "\n",
    "# set training length as 95%\n",
    "TRAINLEN = round(len(x)*0.95)\n",
    "train_index = index[:TRAINLEN]\n",
    "val_index = index[TRAINLEN:]\n",
    "\n",
    "x_train_raw = [x[i] for i in train_index]\n",
    "x_val_raw = [x[i] for i in val_index]\n",
    "\n",
    "x_train = [x_idx[i] for i in train_index]\n",
    "y_train = [y[i] for i in train_index]\n",
    "x_val = [x_idx[i] for i in val_index]\n",
    "y_val = [y[i] for i in val_index]\n",
    "\n",
    "print('Positive count for whole data set:')\n",
    "print('{} ({})'.format(sum(y), sum(y)/len(y)))\n",
    "print('Positive count for training set:')\n",
    "print('{} ({})'.format(sum(y_train), sum(y_train)/len(y_train)))\n",
    "print('Positive count for validation set:')\n",
    "print('{} ({})'.format(sum(y_val), sum(y_val)/len(y_val)))\n",
    "\n",
    "print(x_train[0])\n",
    "\n",
    "EMBED_DIM = 40\n",
    "FILTERS = 128\n",
    "KERNEL_SIZE = 3\n",
    "HIDDEN_UNITS = 128\n",
    "VOCAB_SIZE = len(tokenizer.word_index)+1\n",
    "\n",
    "model4 = Sequential()\n",
    "\n",
    "# Start off with embedding layer to map vocab ids into EMBED_DIM dimensions\n",
    "model4.add(Embedding(VOCAB_SIZE, EMBED_DIM, input_length=MAXLEN))\n",
    "model4.add(Dropout(0.2))\n",
    "\n",
    "# Add CNN\n",
    "model4.add(Conv1D(filters=FILTERS, kernel_size=KERNEL_SIZE, activation='relu'))\n",
    "\n",
    "# Add Max Pooling\n",
    "model4.add(GlobalMaxPool1D())\n",
    "\n",
    "# Add an MLP\n",
    "model4.add(Dense(HIDDEN_UNITS))\n",
    "model4.add(Dropout(0.2))\n",
    "model4.add(Activation('relu'))\n",
    "\n",
    "# Project into single unit output layer, and convert with sigmoid\n",
    "model4.add(Dense(1))\n",
    "model4.add(Activation('sigmoid'))\n",
    "\n",
    "model4.compile(optimizer='adam', loss='binary_crossentropy', metrics=['accuracy'])\n",
    "model4.summary()\n",
    "\n",
    "model4.fit(np.array(x_train), np.array(y_train), \n",
    "          batch_size=BATCH_SIZE, \n",
    "          epochs=EPOCHS, \n",
    "          validation_split=0.1)"
   ]
  },
  {
   "cell_type": "code",
   "execution_count": 50,
   "metadata": {},
   "outputs": [
    {
     "name": "stdout",
     "output_type": "stream",
     "text": [
      "9457/9457 [==============================] - 1s 116us/step\n",
      "Accuracy:\n",
      " 0.9245003702474899\n",
      "Classification report: \n",
      "\n",
      "             precision    recall  f1-score   support\n",
      "\n",
      "        neg       0.90      0.91      0.91      3857\n",
      "        pos       0.94      0.93      0.94      5600\n",
      "\n",
      "avg / total       0.92      0.92      0.92      9457\n",
      "\n"
     ]
    },
    {
     "data": {
      "image/png": "[encoded data removed]",
      "text/plain": [
       "<Figure size 432x288 with 2 Axes>"
      ]
     },
     "metadata": {},
     "output_type": "display_data"
    }
   ],
   "source": [
    "score, acc = model4.evaluate(np.array(x_val), np.array(y_val), batch_size=BATCH_SIZE)\n",
    "\n",
    "print('Accuracy:\\n', acc)\n",
    "\n",
    "from sklearn.metrics import classification_report\n",
    "\n",
    "pred = model4.predict_classes(np.array(x_val))\n",
    "report = classification_report(y_pred=pred, y_true=np.array(y_val), target_names=list(LABELS.values()))\n",
    "print('Classification report: \\n')\n",
    "print(report)\n",
    "\n",
    "predlist = [_[0] for _ in pred]\n",
    "df = pd.DataFrame(data={'Predict':predlist,\n",
    "                       'Actual': y_val})\n",
    "df_cm = df.groupby(['Predict','Actual']).count().reset_index()\n",
    "df_cm['Predict'] = df_cm['Predict'].map(LABELS)\n",
    "df_cm['Actual'] = df_cm['Actual'].map(LABELS)\n",
    "count = df.groupby(['Predict','Actual'])['Predict'].count().values\n",
    "df_cm['count'] = pd.Series(count)\n",
    "df_cm = df_cm.pivot(index='Predict', columns='Actual', values='count')\n",
    "sns.heatmap(df_cm, annot=True, annot_kws={'size':16}, fmt='g', cmap='Greens', xticklabels=True, yticklabels=True);"
   ]
  },
  {
   "cell_type": "code",
   "execution_count": 51,
   "metadata": {},
   "outputs": [
    {
     "data": {
      "text/html": [
       "<div>\n",
       "<style scoped>\n",
       "    .dataframe tbody tr th:only-of-type {\n",
       "        vertical-align: middle;\n",
       "    }\n",
       "\n",
       "    .dataframe tbody tr th {\n",
       "        vertical-align: top;\n",
       "    }\n",
       "\n",
       "    .dataframe thead th {\n",
       "        text-align: right;\n",
       "    }\n",
       "</style>\n",
       "<table border=\"1\" class=\"dataframe\">\n",
       "  <thead>\n",
       "    <tr style=\"text-align: right;\">\n",
       "      <th></th>\n",
       "      <th>comment</th>\n",
       "      <th>actual</th>\n",
       "      <th>predict</th>\n",
       "    </tr>\n",
       "  </thead>\n",
       "  <tbody>\n",
       "    <tr>\n",
       "      <th>0</th>\n",
       "      <td>下次便宜点</td>\n",
       "      <td>neg</td>\n",
       "      <td>pos</td>\n",
       "    </tr>\n",
       "    <tr>\n",
       "      <th>1</th>\n",
       "      <td>永远不知足，就是没有5，7的。3，6的还不错，在城市使用已经足够了，超车什么的很利落，想撒撒...</td>\n",
       "      <td>neg</td>\n",
       "      <td>pos</td>\n",
       "    </tr>\n",
       "    <tr>\n",
       "      <th>2</th>\n",
       "      <td>操控:刹车一般</td>\n",
       "      <td>pos</td>\n",
       "      <td>neg</td>\n",
       "    </tr>\n",
       "    <tr>\n",
       "      <th>3</th>\n",
       "      <td>多功能仪表板太小，1/3是空着没用的，哪怕只显示时间也行啊！老款的仪表显示要方便多了，再次鄙...</td>\n",
       "      <td>neg</td>\n",
       "      <td>pos</td>\n",
       "    </tr>\n",
       "    <tr>\n",
       "      <th>4</th>\n",
       "      <td>毛病也有，比如市区内行驶，要是比较拥堵，或者行车距离较短，速度较低，凯越还是蛮能吃的，我试过...</td>\n",
       "      <td>neg</td>\n",
       "      <td>pos</td>\n",
       "    </tr>\n",
       "    <tr>\n",
       "      <th>5</th>\n",
       "      <td>送你回家：这个功能在单位车库比较傻，大家都下车走了，我的车还在那里亮着，别人都觉得奇怪，后来...</td>\n",
       "      <td>neg</td>\n",
       "      <td>pos</td>\n",
       "    </tr>\n",
       "    <tr>\n",
       "      <th>6</th>\n",
       "      <td>尾部不若全新迈腾漂亮</td>\n",
       "      <td>neg</td>\n",
       "      <td>pos</td>\n",
       "    </tr>\n",
       "    <tr>\n",
       "      <th>7</th>\n",
       "      <td>油耗过大，动力不足，整体车型不错。</td>\n",
       "      <td>neg</td>\n",
       "      <td>pos</td>\n",
       "    </tr>\n",
       "    <tr>\n",
       "      <th>8</th>\n",
       "      <td>离地间隙偏低，基本上应该到190比较合适。</td>\n",
       "      <td>neg</td>\n",
       "      <td>pos</td>\n",
       "    </tr>\n",
       "    <tr>\n",
       "      <th>9</th>\n",
       "      <td>但是，对于新天籁夸张的大嘴唇，我是至今也找不到眼前一亮的感觉。</td>\n",
       "      <td>neg</td>\n",
       "      <td>pos</td>\n",
       "    </tr>\n",
       "    <tr>\n",
       "      <th>10</th>\n",
       "      <td>空间:身高: 160-170CM, 空间和很足</td>\n",
       "      <td>neg</td>\n",
       "      <td>pos</td>\n",
       "    </tr>\n",
       "    <tr>\n",
       "      <th>11</th>\n",
       "      <td>就是油耗太大。。。我现在5000公里 3000公里首保前 平均油耗11。8  首保完后开了 ...</td>\n",
       "      <td>neg</td>\n",
       "      <td>pos</td>\n",
       "    </tr>\n",
       "    <tr>\n",
       "      <th>12</th>\n",
       "      <td>空调区域设计保持了皮卡本色，古朴实用，当打开空调时，风量和制冷效果超乎我们的想象，这点也是风...</td>\n",
       "      <td>neg</td>\n",
       "      <td>pos</td>\n",
       "    </tr>\n",
       "    <tr>\n",
       "      <th>13</th>\n",
       "      <td>空间:身高: 160-170CM, 我还可以，180的人就不行了，后排空间也小</td>\n",
       "      <td>neg</td>\n",
       "      <td>pos</td>\n",
       "    </tr>\n",
       "    <tr>\n",
       "      <th>14</th>\n",
       "      <td>动力:少肉点，但我是个慢性子，符合我。</td>\n",
       "      <td>neg</td>\n",
       "      <td>pos</td>\n",
       "    </tr>\n",
       "    <tr>\n",
       "      <th>15</th>\n",
       "      <td>车门：正常，感觉重量没有偷减，就是方式与前不同。</td>\n",
       "      <td>pos</td>\n",
       "      <td>neg</td>\n",
       "    </tr>\n",
       "    <tr>\n",
       "      <th>16</th>\n",
       "      <td>可以用很棒来形容！作为一款AO级小车，过弯极限可以如此之高，高速稳定性如此之强！</td>\n",
       "      <td>neg</td>\n",
       "      <td>pos</td>\n",
       "    </tr>\n",
       "    <tr>\n",
       "      <th>17</th>\n",
       "      <td>关于隐藏功能，我自己调通了：下雨关窗、一键升窗，迎宾座椅。感觉都是很有用的功能，不知原厂为何...</td>\n",
       "      <td>pos</td>\n",
       "      <td>neg</td>\n",
       "    </tr>\n",
       "    <tr>\n",
       "      <th>18</th>\n",
       "      <td>目前显示平均油耗9个多 但目前只开了400公里 油耗高跟我的驾驶习惯不好有关系 而且前400...</td>\n",
       "      <td>pos</td>\n",
       "      <td>neg</td>\n",
       "    </tr>\n",
       "    <tr>\n",
       "      <th>19</th>\n",
       "      <td>车子各方面都非常满意，就是个人感觉外观颜色可以选择的有点少了</td>\n",
       "      <td>neg</td>\n",
       "      <td>pos</td>\n",
       "    </tr>\n",
       "    <tr>\n",
       "      <th>20</th>\n",
       "      <td>手刹护套经常可以轻易的拉出，</td>\n",
       "      <td>neg</td>\n",
       "      <td>pos</td>\n",
       "    </tr>\n",
       "    <tr>\n",
       "      <th>21</th>\n",
       "      <td>配置上比乞丐版的奔驰C级多一些</td>\n",
       "      <td>pos</td>\n",
       "      <td>neg</td>\n",
       "    </tr>\n",
       "    <tr>\n",
       "      <th>22</th>\n",
       "      <td>当然也有不爽的地方，其中一个是起步慢，往往是过红绿灯时等过了灯，别的车都超出一个多身位，</td>\n",
       "      <td>pos</td>\n",
       "      <td>neg</td>\n",
       "    </tr>\n",
       "    <tr>\n",
       "      <th>23</th>\n",
       "      <td>安全系数高。带方向盘锁，带变速箱保护，在1.6里提速不错，有人说这个车油耗大，看你怎么开了，...</td>\n",
       "      <td>pos</td>\n",
       "      <td>neg</td>\n",
       "    </tr>\n",
       "    <tr>\n",
       "      <th>24</th>\n",
       "      <td>后排的确很小了，后门看起来比中级车要小很多，但毕竟这款车定位是轿跑</td>\n",
       "      <td>neg</td>\n",
       "      <td>pos</td>\n",
       "    </tr>\n",
       "    <tr>\n",
       "      <th>25</th>\n",
       "      <td>压到小石头什么的还是有感觉，小的颠簸过滤得还行，大的只能尽量躲开。</td>\n",
       "      <td>neg</td>\n",
       "      <td>pos</td>\n",
       "    </tr>\n",
       "    <tr>\n",
       "      <th>26</th>\n",
       "      <td>内饰:简约 时尚 实用</td>\n",
       "      <td>neg</td>\n",
       "      <td>pos</td>\n",
       "    </tr>\n",
       "    <tr>\n",
       "      <th>27</th>\n",
       "      <td>棒子车实在不敢恭维</td>\n",
       "      <td>pos</td>\n",
       "      <td>neg</td>\n",
       "    </tr>\n",
       "    <tr>\n",
       "      <th>28</th>\n",
       "      <td>方向盘比较沉，方向的稳定行很不错</td>\n",
       "      <td>neg</td>\n",
       "      <td>pos</td>\n",
       "    </tr>\n",
       "    <tr>\n",
       "      <th>29</th>\n",
       "      <td>质量:小毛病少，但通过性太差了！被动安全太差了！有点后悔买这车！</td>\n",
       "      <td>pos</td>\n",
       "      <td>neg</td>\n",
       "    </tr>\n",
       "    <tr>\n",
       "      <th>...</th>\n",
       "      <td>...</td>\n",
       "      <td>...</td>\n",
       "      <td>...</td>\n",
       "    </tr>\n",
       "    <tr>\n",
       "      <th>684</th>\n",
       "      <td>表很早就不显示了，大概也就半年不到，好在养成了偶上班戴手表的习惯:cool: :cool:</td>\n",
       "      <td>neg</td>\n",
       "      <td>pos</td>\n",
       "    </tr>\n",
       "    <tr>\n",
       "      <th>685</th>\n",
       "      <td>电源插座够多。共3个，仪表盘下方一个点烟器插座，前排中央扶手箱里一个，后备箱左后方还有一个，...</td>\n",
       "      <td>pos</td>\n",
       "      <td>neg</td>\n",
       "    </tr>\n",
       "    <tr>\n",
       "      <th>686</th>\n",
       "      <td>油耗表现不错价格能再便宜就更好了</td>\n",
       "      <td>neg</td>\n",
       "      <td>pos</td>\n",
       "    </tr>\n",
       "    <tr>\n",
       "      <th>687</th>\n",
       "      <td>质量:听说遥控钥匙偶尔会失灵，发动机电子防盗会误报警</td>\n",
       "      <td>pos</td>\n",
       "      <td>neg</td>\n",
       "    </tr>\n",
       "    <tr>\n",
       "      <th>688</th>\n",
       "      <td>动力:一般</td>\n",
       "      <td>neg</td>\n",
       "      <td>pos</td>\n",
       "    </tr>\n",
       "    <tr>\n",
       "      <th>689</th>\n",
       "      <td>后排的座位很小，勉强能坐下一个人，比较适合放宠物。</td>\n",
       "      <td>neg</td>\n",
       "      <td>pos</td>\n",
       "    </tr>\n",
       "    <tr>\n",
       "      <th>690</th>\n",
       "      <td>后排空间比较小，不过横向空间还行。稍微斜着点坐的话感觉会好很多</td>\n",
       "      <td>neg</td>\n",
       "      <td>pos</td>\n",
       "    </tr>\n",
       "    <tr>\n",
       "      <th>691</th>\n",
       "      <td>泊车辅助，试过几次了，没有成功 ，再就是导航图更新不快，后备箱不大但够用</td>\n",
       "      <td>neg</td>\n",
       "      <td>pos</td>\n",
       "    </tr>\n",
       "    <tr>\n",
       "      <th>692</th>\n",
       "      <td>动力 1.2起步快，就是开空调就不行了</td>\n",
       "      <td>pos</td>\n",
       "      <td>neg</td>\n",
       "    </tr>\n",
       "    <tr>\n",
       "      <th>693</th>\n",
       "      <td>标配无尾翼！</td>\n",
       "      <td>neg</td>\n",
       "      <td>pos</td>\n",
       "    </tr>\n",
       "    <tr>\n",
       "      <th>694</th>\n",
       "      <td>音响效果还不差，毕竟有4个喇叭在！·</td>\n",
       "      <td>pos</td>\n",
       "      <td>neg</td>\n",
       "    </tr>\n",
       "    <tr>\n",
       "      <th>695</th>\n",
       "      <td>音响的效果实在一般，听说NAVI的音响要好些，有银子的TX还是直接上NAVI版的吧。</td>\n",
       "      <td>neg</td>\n",
       "      <td>pos</td>\n",
       "    </tr>\n",
       "    <tr>\n",
       "      <th>696</th>\n",
       "      <td>高速7或8或9，每一次跑高速、下高速后，不管跑多快，多慢，油门变化多频繁，油耗基本不变，这个...</td>\n",
       "      <td>pos</td>\n",
       "      <td>neg</td>\n",
       "    </tr>\n",
       "    <tr>\n",
       "      <th>697</th>\n",
       "      <td>动力来说,1.8T的确在城市用太浪费了,只是我一般很少进城,成都这城里堵的人发疯,我离三环路...</td>\n",
       "      <td>pos</td>\n",
       "      <td>neg</td>\n",
       "    </tr>\n",
       "    <tr>\n",
       "      <th>698</th>\n",
       "      <td>北京的冬天，2.0自豪。20年驾龄，爱车，知省油，没怎么堵车，最近油耗13.5升/百公里。</td>\n",
       "      <td>neg</td>\n",
       "      <td>pos</td>\n",
       "    </tr>\n",
       "    <tr>\n",
       "      <th>699</th>\n",
       "      <td>音乐声不能随车速增加提高，408有这个功能，很实用，不知道的人还以为车子密封性多好呢</td>\n",
       "      <td>neg</td>\n",
       "      <td>pos</td>\n",
       "    </tr>\n",
       "    <tr>\n",
       "      <th>700</th>\n",
       "      <td>7月份担的车。整体比较大气，刹车也好。动力有待加强，空调太差。这个天气半天降不下来。停车后车...</td>\n",
       "      <td>pos</td>\n",
       "      <td>neg</td>\n",
       "    </tr>\n",
       "    <tr>\n",
       "      <th>701</th>\n",
       "      <td>也没有密封不好的感觉</td>\n",
       "      <td>pos</td>\n",
       "      <td>neg</td>\n",
       "    </tr>\n",
       "    <tr>\n",
       "      <th>702</th>\n",
       "      <td>发动机技术老，虽说他是保时捷的发动机可是4速的变速箱是够老的了。</td>\n",
       "      <td>neg</td>\n",
       "      <td>pos</td>\n",
       "    </tr>\n",
       "    <tr>\n",
       "      <th>703</th>\n",
       "      <td>个人认为1。6的发动机，面对这么重的车，还算表现可以了。起步比较慢，不过可以接受。转速250...</td>\n",
       "      <td>pos</td>\n",
       "      <td>neg</td>\n",
       "    </tr>\n",
       "    <tr>\n",
       "      <th>704</th>\n",
       "      <td>操控:灵活自如，2.0动力有点不足，</td>\n",
       "      <td>pos</td>\n",
       "      <td>neg</td>\n",
       "    </tr>\n",
       "    <tr>\n",
       "      <th>705</th>\n",
       "      <td>前排驾乘感觉较为舒适，座椅的包裹性还是有的。后排座椅靠背较直，坐久了不太舒服。原厂轮胎胎噪较...</td>\n",
       "      <td>pos</td>\n",
       "      <td>neg</td>\n",
       "    </tr>\n",
       "    <tr>\n",
       "      <th>706</th>\n",
       "      <td>车子外观正面还还不错，侧面看一下好大，对改版的红色尾灯有点感冒，居说是很多早期的车友提议后厂...</td>\n",
       "      <td>pos</td>\n",
       "      <td>neg</td>\n",
       "    </tr>\n",
       "    <tr>\n",
       "      <th>707</th>\n",
       "      <td>在水箱罩和前保险杠的设计上，量产版的“秦”则没有概念车所展示的那么夸张，整体的面积有所减小。</td>\n",
       "      <td>neg</td>\n",
       "      <td>pos</td>\n",
       "    </tr>\n",
       "    <tr>\n",
       "      <th>708</th>\n",
       "      <td>但毕竟还有日本人在那监督吧，不是都说日本人对质量要求高吗？但在雨燕身上好像每看出来，更多的是...</td>\n",
       "      <td>pos</td>\n",
       "      <td>neg</td>\n",
       "    </tr>\n",
       "    <tr>\n",
       "      <th>709</th>\n",
       "      <td>底盘GOOD，硬但是有韧性，比之前开的天籁区别挺大，天籁舒适有余，操控不足。C200都有了，...</td>\n",
       "      <td>pos</td>\n",
       "      <td>neg</td>\n",
       "    </tr>\n",
       "    <tr>\n",
       "      <th>710</th>\n",
       "      <td>在太阳下暴晒，车内温度始终也不是很高。</td>\n",
       "      <td>pos</td>\n",
       "      <td>neg</td>\n",
       "    </tr>\n",
       "    <tr>\n",
       "      <th>711</th>\n",
       "      <td>车子比较紧凑，好停车。</td>\n",
       "      <td>pos</td>\n",
       "      <td>neg</td>\n",
       "    </tr>\n",
       "    <tr>\n",
       "      <th>712</th>\n",
       "      <td>作为本本分分的上班族，买车只为方便出行。实际的驾驶感受就是：方向指向感不错，转向很有力道，老...</td>\n",
       "      <td>neg</td>\n",
       "      <td>pos</td>\n",
       "    </tr>\n",
       "    <tr>\n",
       "      <th>713</th>\n",
       "      <td>操控:一般 老的悬架 老的发动机 老的地盘  操控只能是一般</td>\n",
       "      <td>pos</td>\n",
       "      <td>neg</td>\n",
       "    </tr>\n",
       "  </tbody>\n",
       "</table>\n",
       "<p>714 rows × 3 columns</p>\n",
       "</div>"
      ],
      "text/plain": [
       "                                               comment actual predict\n",
       "0                                                下次便宜点    neg     pos\n",
       "1    永远不知足，就是没有5，7的。3，6的还不错，在城市使用已经足够了，超车什么的很利落，想撒撒...    neg     pos\n",
       "2                                              操控:刹车一般    pos     neg\n",
       "3    多功能仪表板太小，1/3是空着没用的，哪怕只显示时间也行啊！老款的仪表显示要方便多了，再次鄙...    neg     pos\n",
       "4    毛病也有，比如市区内行驶，要是比较拥堵，或者行车距离较短，速度较低，凯越还是蛮能吃的，我试过...    neg     pos\n",
       "5    送你回家：这个功能在单位车库比较傻，大家都下车走了，我的车还在那里亮着，别人都觉得奇怪，后来...    neg     pos\n",
       "6                                           尾部不若全新迈腾漂亮    neg     pos\n",
       "7                                    油耗过大，动力不足，整体车型不错。    neg     pos\n",
       "8                                离地间隙偏低，基本上应该到190比较合适。    neg     pos\n",
       "9                      但是，对于新天籁夸张的大嘴唇，我是至今也找不到眼前一亮的感觉。    neg     pos\n",
       "10                             空间:身高: 160-170CM, 空间和很足    neg     pos\n",
       "11   就是油耗太大。。。我现在5000公里 3000公里首保前 平均油耗11。8  首保完后开了 ...    neg     pos\n",
       "12   空调区域设计保持了皮卡本色，古朴实用，当打开空调时，风量和制冷效果超乎我们的想象，这点也是风...    neg     pos\n",
       "13             空间:身高: 160-170CM, 我还可以，180的人就不行了，后排空间也小    neg     pos\n",
       "14                                 动力:少肉点，但我是个慢性子，符合我。    neg     pos\n",
       "15                            车门：正常，感觉重量没有偷减，就是方式与前不同。    pos     neg\n",
       "16            可以用很棒来形容！作为一款AO级小车，过弯极限可以如此之高，高速稳定性如此之强！    neg     pos\n",
       "17   关于隐藏功能，我自己调通了：下雨关窗、一键升窗，迎宾座椅。感觉都是很有用的功能，不知原厂为何...    pos     neg\n",
       "18   目前显示平均油耗9个多 但目前只开了400公里 油耗高跟我的驾驶习惯不好有关系 而且前400...    pos     neg\n",
       "19                      车子各方面都非常满意，就是个人感觉外观颜色可以选择的有点少了    neg     pos\n",
       "20                                      手刹护套经常可以轻易的拉出，    neg     pos\n",
       "21                                     配置上比乞丐版的奔驰C级多一些    pos     neg\n",
       "22        当然也有不爽的地方，其中一个是起步慢，往往是过红绿灯时等过了灯，别的车都超出一个多身位，    pos     neg\n",
       "23   安全系数高。带方向盘锁，带变速箱保护，在1.6里提速不错，有人说这个车油耗大，看你怎么开了，...    pos     neg\n",
       "24                   后排的确很小了，后门看起来比中级车要小很多，但毕竟这款车定位是轿跑    neg     pos\n",
       "25                   压到小石头什么的还是有感觉，小的颠簸过滤得还行，大的只能尽量躲开。    neg     pos\n",
       "26                                         内饰:简约 时尚 实用    neg     pos\n",
       "27                                           棒子车实在不敢恭维    pos     neg\n",
       "28                                    方向盘比较沉，方向的稳定行很不错    neg     pos\n",
       "29                    质量:小毛病少，但通过性太差了！被动安全太差了！有点后悔买这车！    pos     neg\n",
       "..                                                 ...    ...     ...\n",
       "684      表很早就不显示了，大概也就半年不到，好在养成了偶上班戴手表的习惯:cool: :cool:    neg     pos\n",
       "685  电源插座够多。共3个，仪表盘下方一个点烟器插座，前排中央扶手箱里一个，后备箱左后方还有一个，...    pos     neg\n",
       "686                                   油耗表现不错价格能再便宜就更好了    neg     pos\n",
       "687                         质量:听说遥控钥匙偶尔会失灵，发动机电子防盗会误报警    pos     neg\n",
       "688                                              动力:一般    neg     pos\n",
       "689                          后排的座位很小，勉强能坐下一个人，比较适合放宠物。    neg     pos\n",
       "690                    后排空间比较小，不过横向空间还行。稍微斜着点坐的话感觉会好很多    neg     pos\n",
       "691               泊车辅助，试过几次了，没有成功 ，再就是导航图更新不快，后备箱不大但够用    neg     pos\n",
       "692                                动力 1.2起步快，就是开空调就不行了    pos     neg\n",
       "693                                             标配无尾翼！    neg     pos\n",
       "694                                 音响效果还不差，毕竟有4个喇叭在！·    pos     neg\n",
       "695         音响的效果实在一般，听说NAVI的音响要好些，有银子的TX还是直接上NAVI版的吧。    neg     pos\n",
       "696  高速7或8或9，每一次跑高速、下高速后，不管跑多快，多慢，油门变化多频繁，油耗基本不变，这个...    pos     neg\n",
       "697  动力来说,1.8T的确在城市用太浪费了,只是我一般很少进城,成都这城里堵的人发疯,我离三环路...    pos     neg\n",
       "698      北京的冬天，2.0自豪。20年驾龄，爱车，知省油，没怎么堵车，最近油耗13.5升/百公里。    neg     pos\n",
       "699         音乐声不能随车速增加提高，408有这个功能，很实用，不知道的人还以为车子密封性多好呢    neg     pos\n",
       "700  7月份担的车。整体比较大气，刹车也好。动力有待加强，空调太差。这个天气半天降不下来。停车后车...    pos     neg\n",
       "701                                         也没有密封不好的感觉    pos     neg\n",
       "702                   发动机技术老，虽说他是保时捷的发动机可是4速的变速箱是够老的了。    neg     pos\n",
       "703  个人认为1。6的发动机，面对这么重的车，还算表现可以了。起步比较慢，不过可以接受。转速250...    pos     neg\n",
       "704                                 操控:灵活自如，2.0动力有点不足，    pos     neg\n",
       "705  前排驾乘感觉较为舒适，座椅的包裹性还是有的。后排座椅靠背较直，坐久了不太舒服。原厂轮胎胎噪较...    pos     neg\n",
       "706  车子外观正面还还不错，侧面看一下好大，对改版的红色尾灯有点感冒，居说是很多早期的车友提议后厂...    pos     neg\n",
       "707     在水箱罩和前保险杠的设计上，量产版的“秦”则没有概念车所展示的那么夸张，整体的面积有所减小。    neg     pos\n",
       "708  但毕竟还有日本人在那监督吧，不是都说日本人对质量要求高吗？但在雨燕身上好像每看出来，更多的是...    pos     neg\n",
       "709  底盘GOOD，硬但是有韧性，比之前开的天籁区别挺大，天籁舒适有余，操控不足。C200都有了，...    pos     neg\n",
       "710                                在太阳下暴晒，车内温度始终也不是很高。    pos     neg\n",
       "711                                        车子比较紧凑，好停车。    pos     neg\n",
       "712  作为本本分分的上班族，买车只为方便出行。实际的驾驶感受就是：方向指向感不错，转向很有力道，老...    neg     pos\n",
       "713                     操控:一般 老的悬架 老的发动机 老的地盘  操控只能是一般    pos     neg\n",
       "\n",
       "[714 rows x 3 columns]"
      ]
     },
     "execution_count": 51,
     "metadata": {},
     "output_type": "execute_result"
    }
   ],
   "source": [
    "best_model = model4\n",
    "pred = best_model.predict_classes(np.array(x_val))\n",
    "predlist = [_[0] for _ in pred]\n",
    "df = pd.DataFrame(data={'Predict':predlist,\n",
    "                       'Actual': y_val})\n",
    "error_index = df[df['Predict']!=df['Actual']].index\n",
    "\n",
    "text = [x_val_raw[i] for i in error_index]\n",
    "actual = ['neg' if y_val[i]==0 else 'pos' for i in error_index]\n",
    "predict = ['neg' if predlist[i]==0 else 'pos' for i in error_index]\n",
    "\n",
    "error_df = pd.DataFrame(data={'comment':text, 'actual':actual, 'predict':predict})\n",
    "error_df"
   ]
  },
  {
   "cell_type": "markdown",
   "metadata": {},
   "source": [
    "Proportion of text longer than 100"
   ]
  },
  {
   "cell_type": "code",
   "execution_count": 52,
   "metadata": {},
   "outputs": [
    {
     "data": {
      "text/plain": [
       "0.06442577030812324"
      ]
     },
     "execution_count": 52,
     "metadata": {},
     "output_type": "execute_result"
    }
   ],
   "source": [
    "sum(error_df.comment.str.len()>100) / len(error_df.comment)"
   ]
  },
  {
   "cell_type": "markdown",
   "metadata": {},
   "source": [
    "Proportion of text longer than 100 in total"
   ]
  },
  {
   "cell_type": "code",
   "execution_count": 54,
   "metadata": {},
   "outputs": [
    {
     "data": {
      "text/plain": [
       "0.05380170139421272"
      ]
     },
     "execution_count": 54,
     "metadata": {},
     "output_type": "execute_result"
    }
   ],
   "source": [
    "x_seq_len_50plus = [1 if len(_)>100 else 0 for _ in x_seq]\n",
    "sum(x_seq_len_50plus) / len(x_seq)"
   ]
  },
  {
   "cell_type": "markdown",
   "metadata": {},
   "source": [
    "This indicates 100 would be a better length"
   ]
  },
  {
   "cell_type": "markdown",
   "metadata": {},
   "source": [
    "## Use it to predict client's data\n",
    "\n",
    "This is a simplified version since the model can only train 2 classes: positive and negative.\n",
    "In practice we have more than 2 classes: in one comment a customer may have both positive or negative inputs ('pos'==1 & 'neg'==1), or just basically neutral ('pos'==0 & 'neg'==0). We'll try to fix this problem later.\n",
    "\n",
    "Now, let's just predict comments with only positive or negative sentiments."
   ]
  },
  {
   "cell_type": "code",
   "execution_count": 63,
   "metadata": {},
   "outputs": [],
   "source": [
    "def predictnew(text):\n",
    "    newtext = tokenizer.texts_to_sequences([text])\n",
    "    newtext = sequence.pad_sequences(newtext, maxlen=MAXLEN, padding='post', value=0)\n",
    "    prednew = best_model.predict_classes(np.array(newtext))\n",
    "    if prednew[0][0]==1:\n",
    "        return 'pos'\n",
    "    else:\n",
    "        return 'neg'"
   ]
  },
  {
   "cell_type": "code",
   "execution_count": 64,
   "metadata": {},
   "outputs": [
    {
     "data": {
      "text/plain": [
       "'pos'"
      ]
     },
     "execution_count": 64,
     "metadata": {},
     "output_type": "execute_result"
    }
   ],
   "source": [
    "predictnew('因为这个车的性能好 看重的是这一点')"
   ]
  },
  {
   "cell_type": "code",
   "execution_count": 65,
   "metadata": {},
   "outputs": [
    {
     "data": {
      "text/plain": [
       "'pos'"
      ]
     },
     "execution_count": 65,
     "metadata": {},
     "output_type": "execute_result"
    }
   ],
   "source": [
    "predictnew('安全系数高 空间充裕')"
   ]
  },
  {
   "cell_type": "code",
   "execution_count": 66,
   "metadata": {},
   "outputs": [
    {
     "data": {
      "text/plain": [
       "'pos'"
      ]
     },
     "execution_count": 66,
     "metadata": {},
     "output_type": "execute_result"
    }
   ],
   "source": [
    "predictnew('自己的体验感觉不错 这个牌子值得信赖')"
   ]
  },
  {
   "cell_type": "code",
   "execution_count": 67,
   "metadata": {},
   "outputs": [
    {
     "data": {
      "text/plain": [
       "'neg'"
      ]
     },
     "execution_count": 67,
     "metadata": {},
     "output_type": "execute_result"
    }
   ],
   "source": [
    "predictnew('在开车过程中有顿挫感')"
   ]
  },
  {
   "cell_type": "code",
   "execution_count": 68,
   "metadata": {},
   "outputs": [
    {
     "data": {
      "text/plain": [
       "'neg'"
      ]
     },
     "execution_count": 68,
     "metadata": {},
     "output_type": "execute_result"
    }
   ],
   "source": [
    "predictnew('这个牌子又不是什么大牌子 没啥好推荐的')"
   ]
  },
  {
   "cell_type": "code",
   "execution_count": 69,
   "metadata": {},
   "outputs": [
    {
     "data": {
      "text/plain": [
       "'neg'"
      ]
     },
     "execution_count": 69,
     "metadata": {},
     "output_type": "execute_result"
    }
   ],
   "source": [
    "predictnew('赠送的导航不好用 售后电话打不通')"
   ]
  },
  {
   "cell_type": "markdown",
   "metadata": {},
   "source": [
    "It looks like the performance of our model is not bad. Let's predict in batch:"
   ]
  },
  {
   "cell_type": "code",
   "execution_count": 93,
   "metadata": {},
   "outputs": [
    {
     "data": {
      "text/plain": [
       "['质量好 大品牌', '服务态度友好 热情', '品牌好 车辆性能高', '车好', '物有所值']"
      ]
     },
     "execution_count": 93,
     "metadata": {},
     "output_type": "execute_result"
    }
   ],
   "source": [
    "Xlive = []\n",
    "ylive = []\n",
    "with open('data/test2.txt','r',encoding='utf-8') as fo:\n",
    "    for line in fo:\n",
    "        row = line.split('\\t',1)\n",
    "        Xlive.append(row[1].strip())\n",
    "        ylive.append(row[0])\n",
    "\n",
    "Xlive[:5]"
   ]
  },
  {
   "cell_type": "code",
   "execution_count": 94,
   "metadata": {},
   "outputs": [],
   "source": [
    "Xlive_seq = tokenizer.texts_to_sequences(Xlive)\n",
    "Xlive_seq = sequence.pad_sequences(Xlive_seq, maxlen=MAXLEN, padding='post', value=0)\n",
    "pred_live = best_model.predict_classes(Xlive_seq)\n",
    "pred_live = [x[0] for x in pred_live.tolist()]"
   ]
  },
  {
   "cell_type": "code",
   "execution_count": 95,
   "metadata": {},
   "outputs": [
    {
     "name": "stdout",
     "output_type": "stream",
     "text": [
      "Classification report: \n",
      "\n",
      "             precision    recall  f1-score   support\n",
      "\n",
      "        neg       0.27      0.90      0.41       207\n",
      "        pos       1.00      0.97      0.98     16075\n",
      "\n",
      "avg / total       0.99      0.97      0.98     16282\n",
      "\n"
     ]
    }
   ],
   "source": [
    "ylive = [int(x) for x in ylive]\n",
    "report = classification_report(y_pred=np.array(pred_live), y_true=np.array(ylive), target_names=list(LABELS.values()))\n",
    "print('Classification report: \\n')\n",
    "print(report)"
   ]
  },
  {
   "cell_type": "code",
   "execution_count": 96,
   "metadata": {},
   "outputs": [
    {
     "data": {
      "image/png": "[encoded data removed]",
      "text/plain": [
       "<Figure size 432x288 with 2 Axes>"
      ]
     },
     "metadata": {},
     "output_type": "display_data"
    }
   ],
   "source": [
    "df = pd.DataFrame(data={'Predict':pred_live,\n",
    "                       'Actual': ylive})\n",
    "df_cm = df.groupby(['Predict','Actual']).count().reset_index()\n",
    "df_cm['Predict'] = df_cm['Predict'].map(LABELS)\n",
    "df_cm['Actual'] = df_cm['Actual'].map(LABELS)\n",
    "count = df.groupby(['Predict','Actual'])['Predict'].count().values\n",
    "df_cm['count'] = pd.Series(count)\n",
    "df_cm = df_cm.pivot(index='Predict', columns='Actual', values='count')\n",
    "sns.heatmap(df_cm, annot=True, annot_kws={'size':16}, fmt='g', cmap='Greens', xticklabels=True, yticklabels=True);"
   ]
  },
  {
   "cell_type": "markdown",
   "metadata": {},
   "source": [
    "Precision for the negative class is very low. It's because the data set itself is highly unbalanced"
   ]
  },
  {
   "cell_type": "code",
   "execution_count": 100,
   "metadata": {},
   "outputs": [
    {
     "name": "stdout",
     "output_type": "stream",
     "text": [
      "Classification report: \n",
      "\n",
      "             precision    recall  f1-score   support\n",
      "\n",
      "        neg       0.86      0.90      0.88       207\n",
      "        pos       0.98      0.97      0.98      1075\n",
      "\n",
      "avg / total       0.96      0.96      0.96      1282\n",
      "\n"
     ]
    },
    {
     "data": {
      "image/png": "[encoded data removed]",
      "text/plain": [
       "<Figure size 432x288 with 2 Axes>"
      ]
     },
     "metadata": {},
     "output_type": "display_data"
    }
   ],
   "source": [
    "Xlive_seq = Xlive_seq[15000:]\n",
    "pred_live = best_model.predict_classes(Xlive_seq)\n",
    "pred_live = [x[0] for x in pred_live.tolist()]\n",
    "ylive = ylive[15000:]\n",
    "\n",
    "report = classification_report(y_pred=np.array(pred_live), y_true=np.array(ylive), target_names=list(LABELS.values()))\n",
    "print('Classification report: \\n')\n",
    "print(report)\n",
    "\n",
    "df = pd.DataFrame(data={'Predict':pred_live,\n",
    "                       'Actual': ylive})\n",
    "df_cm = df.groupby(['Predict','Actual']).count().reset_index()\n",
    "df_cm['Predict'] = df_cm['Predict'].map(LABELS)\n",
    "df_cm['Actual'] = df_cm['Actual'].map(LABELS)\n",
    "count = df.groupby(['Predict','Actual'])['Predict'].count().values\n",
    "df_cm['count'] = pd.Series(count)\n",
    "df_cm = df_cm.pivot(index='Predict', columns='Actual', values='count')\n",
    "sns.heatmap(df_cm, annot=True, annot_kws={'size':16}, fmt='g', cmap='Greens', xticklabels=True, yticklabels=True);"
   ]
  },
  {
   "cell_type": "markdown",
   "metadata": {},
   "source": [
    "Again, let's look at what went wrong:"
   ]
  },
  {
   "cell_type": "code",
   "execution_count": 106,
   "metadata": {},
   "outputs": [
    {
     "data": {
      "text/html": [
       "<div>\n",
       "<style scoped>\n",
       "    .dataframe tbody tr th:only-of-type {\n",
       "        vertical-align: middle;\n",
       "    }\n",
       "\n",
       "    .dataframe tbody tr th {\n",
       "        vertical-align: top;\n",
       "    }\n",
       "\n",
       "    .dataframe thead th {\n",
       "        text-align: right;\n",
       "    }\n",
       "</style>\n",
       "<table border=\"1\" class=\"dataframe\">\n",
       "  <thead>\n",
       "    <tr style=\"text-align: right;\">\n",
       "      <th></th>\n",
       "      <th>comment</th>\n",
       "      <th>actual</th>\n",
       "      <th>predict</th>\n",
       "    </tr>\n",
       "  </thead>\n",
       "  <tbody>\n",
       "    <tr>\n",
       "      <th>0</th>\n",
       "      <td>性价比高 外形时尚</td>\n",
       "      <td>pos</td>\n",
       "      <td>neg</td>\n",
       "    </tr>\n",
       "    <tr>\n",
       "      <th>1</th>\n",
       "      <td>大众汽车知名度高 性价比不错 值得推荐</td>\n",
       "      <td>pos</td>\n",
       "      <td>neg</td>\n",
       "    </tr>\n",
       "    <tr>\n",
       "      <th>2</th>\n",
       "      <td>车型外观漂亮</td>\n",
       "      <td>pos</td>\n",
       "      <td>neg</td>\n",
       "    </tr>\n",
       "    <tr>\n",
       "      <th>3</th>\n",
       "      <td>性价比高</td>\n",
       "      <td>pos</td>\n",
       "      <td>neg</td>\n",
       "    </tr>\n",
       "    <tr>\n",
       "      <th>4</th>\n",
       "      <td>喜欢</td>\n",
       "      <td>pos</td>\n",
       "      <td>neg</td>\n",
       "    </tr>\n",
       "    <tr>\n",
       "      <th>5</th>\n",
       "      <td>开这省油</td>\n",
       "      <td>pos</td>\n",
       "      <td>neg</td>\n",
       "    </tr>\n",
       "    <tr>\n",
       "      <th>6</th>\n",
       "      <td>车的品质好</td>\n",
       "      <td>pos</td>\n",
       "      <td>neg</td>\n",
       "    </tr>\n",
       "    <tr>\n",
       "      <th>7</th>\n",
       "      <td>价格外观好 发动机噪音有点大</td>\n",
       "      <td>pos</td>\n",
       "      <td>neg</td>\n",
       "    </tr>\n",
       "    <tr>\n",
       "      <th>8</th>\n",
       "      <td>态度好</td>\n",
       "      <td>pos</td>\n",
       "      <td>neg</td>\n",
       "    </tr>\n",
       "    <tr>\n",
       "      <th>9</th>\n",
       "      <td>车好</td>\n",
       "      <td>pos</td>\n",
       "      <td>neg</td>\n",
       "    </tr>\n",
       "    <tr>\n",
       "      <th>10</th>\n",
       "      <td>质量可靠 舒适性好</td>\n",
       "      <td>pos</td>\n",
       "      <td>neg</td>\n",
       "    </tr>\n",
       "    <tr>\n",
       "      <th>11</th>\n",
       "      <td>性价好 质量不错</td>\n",
       "      <td>pos</td>\n",
       "      <td>neg</td>\n",
       "    </tr>\n",
       "    <tr>\n",
       "      <th>12</th>\n",
       "      <td>性价比高</td>\n",
       "      <td>pos</td>\n",
       "      <td>neg</td>\n",
       "    </tr>\n",
       "    <tr>\n",
       "      <th>13</th>\n",
       "      <td>对于这个品牌认可</td>\n",
       "      <td>pos</td>\n",
       "      <td>neg</td>\n",
       "    </tr>\n",
       "    <tr>\n",
       "      <th>14</th>\n",
       "      <td>自主品牌的科技性和创新性都值得信赖</td>\n",
       "      <td>pos</td>\n",
       "      <td>neg</td>\n",
       "    </tr>\n",
       "    <tr>\n",
       "      <th>15</th>\n",
       "      <td>车辆性能好</td>\n",
       "      <td>pos</td>\n",
       "      <td>neg</td>\n",
       "    </tr>\n",
       "    <tr>\n",
       "      <th>16</th>\n",
       "      <td>隔音好</td>\n",
       "      <td>pos</td>\n",
       "      <td>neg</td>\n",
       "    </tr>\n",
       "    <tr>\n",
       "      <th>17</th>\n",
       "      <td>舒适</td>\n",
       "      <td>pos</td>\n",
       "      <td>neg</td>\n",
       "    </tr>\n",
       "    <tr>\n",
       "      <th>18</th>\n",
       "      <td>车子好开</td>\n",
       "      <td>pos</td>\n",
       "      <td>neg</td>\n",
       "    </tr>\n",
       "    <tr>\n",
       "      <th>19</th>\n",
       "      <td>满意</td>\n",
       "      <td>pos</td>\n",
       "      <td>neg</td>\n",
       "    </tr>\n",
       "    <tr>\n",
       "      <th>20</th>\n",
       "      <td>车型外观好看靓丽</td>\n",
       "      <td>pos</td>\n",
       "      <td>neg</td>\n",
       "    </tr>\n",
       "    <tr>\n",
       "      <th>21</th>\n",
       "      <td>这个车价格便宜 性价比高 省油</td>\n",
       "      <td>pos</td>\n",
       "      <td>neg</td>\n",
       "    </tr>\n",
       "    <tr>\n",
       "      <th>22</th>\n",
       "      <td>大品牌 信誉好</td>\n",
       "      <td>pos</td>\n",
       "      <td>neg</td>\n",
       "    </tr>\n",
       "    <tr>\n",
       "      <th>23</th>\n",
       "      <td>性价比高 保有量大</td>\n",
       "      <td>pos</td>\n",
       "      <td>neg</td>\n",
       "    </tr>\n",
       "    <tr>\n",
       "      <th>24</th>\n",
       "      <td>口碑好</td>\n",
       "      <td>pos</td>\n",
       "      <td>neg</td>\n",
       "    </tr>\n",
       "    <tr>\n",
       "      <th>25</th>\n",
       "      <td>这个牌子的车性价比高</td>\n",
       "      <td>pos</td>\n",
       "      <td>neg</td>\n",
       "    </tr>\n",
       "    <tr>\n",
       "      <th>26</th>\n",
       "      <td>它的品牌有诚意</td>\n",
       "      <td>pos</td>\n",
       "      <td>neg</td>\n",
       "    </tr>\n",
       "    <tr>\n",
       "      <th>27</th>\n",
       "      <td>外观好</td>\n",
       "      <td>pos</td>\n",
       "      <td>neg</td>\n",
       "    </tr>\n",
       "    <tr>\n",
       "      <th>28</th>\n",
       "      <td>价钱适中</td>\n",
       "      <td>pos</td>\n",
       "      <td>neg</td>\n",
       "    </tr>\n",
       "    <tr>\n",
       "      <th>29</th>\n",
       "      <td>符合大众要求</td>\n",
       "      <td>pos</td>\n",
       "      <td>neg</td>\n",
       "    </tr>\n",
       "    <tr>\n",
       "      <th>30</th>\n",
       "      <td>车体宽敞</td>\n",
       "      <td>pos</td>\n",
       "      <td>neg</td>\n",
       "    </tr>\n",
       "    <tr>\n",
       "      <th>31</th>\n",
       "      <td>服务好 态度好  工作人员热情 氛围舒适</td>\n",
       "      <td>neg</td>\n",
       "      <td>pos</td>\n",
       "    </tr>\n",
       "    <tr>\n",
       "      <th>32</th>\n",
       "      <td>外观好看 省油</td>\n",
       "      <td>neg</td>\n",
       "      <td>pos</td>\n",
       "    </tr>\n",
       "    <tr>\n",
       "      <th>33</th>\n",
       "      <td>价格便宜 车子还可以</td>\n",
       "      <td>neg</td>\n",
       "      <td>pos</td>\n",
       "    </tr>\n",
       "    <tr>\n",
       "      <th>34</th>\n",
       "      <td>车子驾驶灵活 省油</td>\n",
       "      <td>neg</td>\n",
       "      <td>pos</td>\n",
       "    </tr>\n",
       "    <tr>\n",
       "      <th>35</th>\n",
       "      <td>形象好 质量好</td>\n",
       "      <td>neg</td>\n",
       "      <td>pos</td>\n",
       "    </tr>\n",
       "    <tr>\n",
       "      <th>36</th>\n",
       "      <td>省油</td>\n",
       "      <td>neg</td>\n",
       "      <td>pos</td>\n",
       "    </tr>\n",
       "    <tr>\n",
       "      <th>37</th>\n",
       "      <td>品牌知名度高</td>\n",
       "      <td>neg</td>\n",
       "      <td>pos</td>\n",
       "    </tr>\n",
       "    <tr>\n",
       "      <th>38</th>\n",
       "      <td>品牌信誉好 性价比好</td>\n",
       "      <td>neg</td>\n",
       "      <td>pos</td>\n",
       "    </tr>\n",
       "    <tr>\n",
       "      <th>39</th>\n",
       "      <td>服务及操控性能满意</td>\n",
       "      <td>neg</td>\n",
       "      <td>pos</td>\n",
       "    </tr>\n",
       "    <tr>\n",
       "      <th>40</th>\n",
       "      <td>感觉不错 驾驶体验</td>\n",
       "      <td>neg</td>\n",
       "      <td>pos</td>\n",
       "    </tr>\n",
       "    <tr>\n",
       "      <th>41</th>\n",
       "      <td>车子性能好</td>\n",
       "      <td>neg</td>\n",
       "      <td>pos</td>\n",
       "    </tr>\n",
       "    <tr>\n",
       "      <th>42</th>\n",
       "      <td>外观时尚 油耗低</td>\n",
       "      <td>neg</td>\n",
       "      <td>pos</td>\n",
       "    </tr>\n",
       "    <tr>\n",
       "      <th>43</th>\n",
       "      <td>品牌信誉好</td>\n",
       "      <td>neg</td>\n",
       "      <td>pos</td>\n",
       "    </tr>\n",
       "    <tr>\n",
       "      <th>44</th>\n",
       "      <td>外观好功能性好</td>\n",
       "      <td>neg</td>\n",
       "      <td>pos</td>\n",
       "    </tr>\n",
       "    <tr>\n",
       "      <th>45</th>\n",
       "      <td>产品质量好</td>\n",
       "      <td>neg</td>\n",
       "      <td>pos</td>\n",
       "    </tr>\n",
       "    <tr>\n",
       "      <th>46</th>\n",
       "      <td>大气有面子</td>\n",
       "      <td>neg</td>\n",
       "      <td>pos</td>\n",
       "    </tr>\n",
       "    <tr>\n",
       "      <th>47</th>\n",
       "      <td>品牌好</td>\n",
       "      <td>neg</td>\n",
       "      <td>pos</td>\n",
       "    </tr>\n",
       "    <tr>\n",
       "      <th>48</th>\n",
       "      <td>车身质量好</td>\n",
       "      <td>neg</td>\n",
       "      <td>pos</td>\n",
       "    </tr>\n",
       "    <tr>\n",
       "      <th>49</th>\n",
       "      <td>车内空间大 高速行驶稳</td>\n",
       "      <td>neg</td>\n",
       "      <td>pos</td>\n",
       "    </tr>\n",
       "    <tr>\n",
       "      <th>50</th>\n",
       "      <td>经济实惠 省油 皮实</td>\n",
       "      <td>neg</td>\n",
       "      <td>pos</td>\n",
       "    </tr>\n",
       "    <tr>\n",
       "      <th>51</th>\n",
       "      <td>品牌信誉好 值得信赖 市场占有率高</td>\n",
       "      <td>neg</td>\n",
       "      <td>pos</td>\n",
       "    </tr>\n",
       "  </tbody>\n",
       "</table>\n",
       "</div>"
      ],
      "text/plain": [
       "                 comment actual predict\n",
       "0              性价比高 外形时尚    pos     neg\n",
       "1    大众汽车知名度高 性价比不错 值得推荐    pos     neg\n",
       "2                 车型外观漂亮    pos     neg\n",
       "3                   性价比高    pos     neg\n",
       "4                     喜欢    pos     neg\n",
       "5                   开这省油    pos     neg\n",
       "6                  车的品质好    pos     neg\n",
       "7         价格外观好 发动机噪音有点大    pos     neg\n",
       "8                    态度好    pos     neg\n",
       "9                     车好    pos     neg\n",
       "10             质量可靠 舒适性好    pos     neg\n",
       "11              性价好 质量不错    pos     neg\n",
       "12                  性价比高    pos     neg\n",
       "13              对于这个品牌认可    pos     neg\n",
       "14     自主品牌的科技性和创新性都值得信赖    pos     neg\n",
       "15                 车辆性能好    pos     neg\n",
       "16                   隔音好    pos     neg\n",
       "17                    舒适    pos     neg\n",
       "18                  车子好开    pos     neg\n",
       "19                    满意    pos     neg\n",
       "20              车型外观好看靓丽    pos     neg\n",
       "21       这个车价格便宜 性价比高 省油    pos     neg\n",
       "22               大品牌 信誉好    pos     neg\n",
       "23             性价比高 保有量大    pos     neg\n",
       "24                   口碑好    pos     neg\n",
       "25            这个牌子的车性价比高    pos     neg\n",
       "26               它的品牌有诚意    pos     neg\n",
       "27                   外观好    pos     neg\n",
       "28                  价钱适中    pos     neg\n",
       "29                符合大众要求    pos     neg\n",
       "30                  车体宽敞    pos     neg\n",
       "31  服务好 态度好  工作人员热情 氛围舒适    neg     pos\n",
       "32               外观好看 省油    neg     pos\n",
       "33            价格便宜 车子还可以    neg     pos\n",
       "34             车子驾驶灵活 省油    neg     pos\n",
       "35               形象好 质量好    neg     pos\n",
       "36                    省油    neg     pos\n",
       "37                品牌知名度高    neg     pos\n",
       "38            品牌信誉好 性价比好    neg     pos\n",
       "39             服务及操控性能满意    neg     pos\n",
       "40             感觉不错 驾驶体验    neg     pos\n",
       "41                 车子性能好    neg     pos\n",
       "42              外观时尚 油耗低    neg     pos\n",
       "43                 品牌信誉好    neg     pos\n",
       "44               外观好功能性好    neg     pos\n",
       "45                 产品质量好    neg     pos\n",
       "46                 大气有面子    neg     pos\n",
       "47                   品牌好    neg     pos\n",
       "48                 车身质量好    neg     pos\n",
       "49           车内空间大 高速行驶稳    neg     pos\n",
       "50            经济实惠 省油 皮实    neg     pos\n",
       "51     品牌信誉好 值得信赖 市场占有率高    neg     pos"
      ]
     },
     "execution_count": 106,
     "metadata": {},
     "output_type": "execute_result"
    }
   ],
   "source": [
    "df = pd.DataFrame(data={'Predict':pred_live,\n",
    "                       'Actual': ylive})\n",
    "error_index = df[df['Predict']!=df['Actual']].index\n",
    "\n",
    "text = [Xlive[i] for i in error_index]\n",
    "actual = ['neg' if ylive[i]==0 else 'pos' for i in error_index]\n",
    "predict = ['neg' if pred_live[i]==0 else 'pos' for i in error_index]\n",
    "\n",
    "error_df = pd.DataFrame(data={'comment':text, 'actual':actual, 'predict':predict})\n",
    "error_df"
   ]
  },
  {
   "cell_type": "markdown",
   "metadata": {},
   "source": [
    "Compare with what were predicted correctly:"
   ]
  },
  {
   "cell_type": "code",
   "execution_count": 108,
   "metadata": {},
   "outputs": [
    {
     "data": {
      "text/html": [
       "<div>\n",
       "<style scoped>\n",
       "    .dataframe tbody tr th:only-of-type {\n",
       "        vertical-align: middle;\n",
       "    }\n",
       "\n",
       "    .dataframe tbody tr th {\n",
       "        vertical-align: top;\n",
       "    }\n",
       "\n",
       "    .dataframe thead th {\n",
       "        text-align: right;\n",
       "    }\n",
       "</style>\n",
       "<table border=\"1\" class=\"dataframe\">\n",
       "  <thead>\n",
       "    <tr style=\"text-align: right;\">\n",
       "      <th></th>\n",
       "      <th>comment</th>\n",
       "      <th>actual</th>\n",
       "      <th>predict</th>\n",
       "    </tr>\n",
       "  </thead>\n",
       "  <tbody>\n",
       "    <tr>\n",
       "      <th>0</th>\n",
       "      <td>质量好 大品牌</td>\n",
       "      <td>pos</td>\n",
       "      <td>pos</td>\n",
       "    </tr>\n",
       "    <tr>\n",
       "      <th>1</th>\n",
       "      <td>服务态度友好 热情</td>\n",
       "      <td>pos</td>\n",
       "      <td>pos</td>\n",
       "    </tr>\n",
       "    <tr>\n",
       "      <th>2</th>\n",
       "      <td>品牌好 车辆性能高</td>\n",
       "      <td>pos</td>\n",
       "      <td>pos</td>\n",
       "    </tr>\n",
       "    <tr>\n",
       "      <th>3</th>\n",
       "      <td>车好</td>\n",
       "      <td>pos</td>\n",
       "      <td>pos</td>\n",
       "    </tr>\n",
       "    <tr>\n",
       "      <th>4</th>\n",
       "      <td>物有所值</td>\n",
       "      <td>pos</td>\n",
       "      <td>pos</td>\n",
       "    </tr>\n",
       "    <tr>\n",
       "      <th>5</th>\n",
       "      <td>是因为长安福特的车辆安全性能和配置在同级别当中是出色的 在高速行驶中车辆稳定性的好</td>\n",
       "      <td>pos</td>\n",
       "      <td>pos</td>\n",
       "    </tr>\n",
       "    <tr>\n",
       "      <th>6</th>\n",
       "      <td>省油 经济实惠</td>\n",
       "      <td>pos</td>\n",
       "      <td>pos</td>\n",
       "    </tr>\n",
       "    <tr>\n",
       "      <th>7</th>\n",
       "      <td>性能适合 胜价比高</td>\n",
       "      <td>pos</td>\n",
       "      <td>pos</td>\n",
       "    </tr>\n",
       "    <tr>\n",
       "      <th>8</th>\n",
       "      <td>驾驶性能好</td>\n",
       "      <td>pos</td>\n",
       "      <td>pos</td>\n",
       "    </tr>\n",
       "    <tr>\n",
       "      <th>9</th>\n",
       "      <td>开起来舒服</td>\n",
       "      <td>pos</td>\n",
       "      <td>pos</td>\n",
       "    </tr>\n",
       "    <tr>\n",
       "      <th>10</th>\n",
       "      <td>购车后驾驶舒服 用途多</td>\n",
       "      <td>pos</td>\n",
       "      <td>pos</td>\n",
       "    </tr>\n",
       "    <tr>\n",
       "      <th>11</th>\n",
       "      <td>省油</td>\n",
       "      <td>pos</td>\n",
       "      <td>pos</td>\n",
       "    </tr>\n",
       "    <tr>\n",
       "      <th>12</th>\n",
       "      <td>油耗低</td>\n",
       "      <td>pos</td>\n",
       "      <td>pos</td>\n",
       "    </tr>\n",
       "    <tr>\n",
       "      <th>13</th>\n",
       "      <td>口碑好</td>\n",
       "      <td>pos</td>\n",
       "      <td>pos</td>\n",
       "    </tr>\n",
       "    <tr>\n",
       "      <th>14</th>\n",
       "      <td>适合家庭用</td>\n",
       "      <td>pos</td>\n",
       "      <td>pos</td>\n",
       "    </tr>\n",
       "    <tr>\n",
       "      <th>15</th>\n",
       "      <td>空间大 省油</td>\n",
       "      <td>pos</td>\n",
       "      <td>pos</td>\n",
       "    </tr>\n",
       "    <tr>\n",
       "      <th>16</th>\n",
       "      <td>这个车还有4驱的 动力可能会更强一些</td>\n",
       "      <td>pos</td>\n",
       "      <td>pos</td>\n",
       "    </tr>\n",
       "    <tr>\n",
       "      <th>17</th>\n",
       "      <td>车的性能好</td>\n",
       "      <td>pos</td>\n",
       "      <td>pos</td>\n",
       "    </tr>\n",
       "    <tr>\n",
       "      <th>18</th>\n",
       "      <td>毛病少车耐用</td>\n",
       "      <td>pos</td>\n",
       "      <td>pos</td>\n",
       "    </tr>\n",
       "    <tr>\n",
       "      <th>19</th>\n",
       "      <td>品牌形象好</td>\n",
       "      <td>pos</td>\n",
       "      <td>pos</td>\n",
       "    </tr>\n",
       "  </tbody>\n",
       "</table>\n",
       "</div>"
      ],
      "text/plain": [
       "                                      comment actual predict\n",
       "0                                     质量好 大品牌    pos     pos\n",
       "1                                   服务态度友好 热情    pos     pos\n",
       "2                                   品牌好 车辆性能高    pos     pos\n",
       "3                                          车好    pos     pos\n",
       "4                                        物有所值    pos     pos\n",
       "5   是因为长安福特的车辆安全性能和配置在同级别当中是出色的 在高速行驶中车辆稳定性的好    pos     pos\n",
       "6                                     省油 经济实惠    pos     pos\n",
       "7                                   性能适合 胜价比高    pos     pos\n",
       "8                                       驾驶性能好    pos     pos\n",
       "9                                       开起来舒服    pos     pos\n",
       "10                                购车后驾驶舒服 用途多    pos     pos\n",
       "11                                         省油    pos     pos\n",
       "12                                        油耗低    pos     pos\n",
       "13                                        口碑好    pos     pos\n",
       "14                                      适合家庭用    pos     pos\n",
       "15                                     空间大 省油    pos     pos\n",
       "16                         这个车还有4驱的 动力可能会更强一些    pos     pos\n",
       "17                                      车的性能好    pos     pos\n",
       "18                                     毛病少车耐用    pos     pos\n",
       "19                                      品牌形象好    pos     pos"
      ]
     },
     "execution_count": 108,
     "metadata": {},
     "output_type": "execute_result"
    }
   ],
   "source": [
    "df = pd.DataFrame(data={'Predict':pred_live,\n",
    "                       'Actual': ylive})\n",
    "correct_index = df[df['Predict']==df['Actual']].index\n",
    "\n",
    "text = [Xlive[i] for i in correct_index]\n",
    "actual = ['neg' if ylive[i]==0 else 'pos' for i in correct_index]\n",
    "predict = ['neg' if pred_live[i]==0 else 'pos' for i in correct_index]\n",
    "\n",
    "correct_df = pd.DataFrame(data={'comment':text, 'actual':actual, 'predict':predict})\n",
    "correct_df[:20]"
   ]
  },
  {
   "cell_type": "markdown",
   "metadata": {},
   "source": [
    "Check length of error comments:"
   ]
  },
  {
   "cell_type": "code",
   "execution_count": 112,
   "metadata": {},
   "outputs": [
    {
     "data": {
      "image/png": "[encoded data removed]",
      "text/plain": [
       "<Figure size 432x288 with 1 Axes>"
      ]
     },
     "metadata": {},
     "output_type": "display_data"
    }
   ],
   "source": [
    "plt.hist(error_df.comment.str.len(), bins=10);"
   ]
  },
  {
   "cell_type": "markdown",
   "metadata": {},
   "source": [
    "Check length of correct comments:"
   ]
  },
  {
   "cell_type": "code",
   "execution_count": 113,
   "metadata": {},
   "outputs": [
    {
     "data": {
      "image/png": "[encoded data removed]",
      "text/plain": [
       "<Figure size 432x288 with 1 Axes>"
      ]
     },
     "metadata": {},
     "output_type": "display_data"
    }
   ],
   "source": [
    "plt.hist(correct_df.comment.str.len(), bins=50);"
   ]
  },
  {
   "cell_type": "markdown",
   "metadata": {},
   "source": [
    "All of the error comments have less than 20 charactors. In general the comment length is shorter than our training data. What we can do is try to find training texts with similar length, or try to use algorithms that's not so length sensitive.\n",
    "\n",
    "In the next posts, I'll do a word split first to see how it performs. Then I'll start using RNN and Seq2Seq models."
   ]
  }
 ],
 "metadata": {
  "kernelspec": {
   "display_name": "Python 3",
   "language": "python",
   "name": "python3"
  },
  "language_info": {
   "codemirror_mode": {
    "name": "ipython",
    "version": 3
   },
   "file_extension": ".py",
   "mimetype": "text/x-python",
   "name": "python",
   "nbconvert_exporter": "python",
   "pygments_lexer": "ipython3",
   "version": "3.6.2"
  }
 },
 "nbformat": 4,
 "nbformat_minor": 2
}

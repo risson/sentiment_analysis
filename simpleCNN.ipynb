{
 "cells": [
  {
   "cell_type": "markdown",
   "metadata": {},
   "source": [
    "According to Kim Yoon's paper: https://arxiv.org/abs/1408.5882, sentence classification (including sentiment analysis) can be done using CNN. This notebook I will try to take it into practice."
   ]
  },
  {
   "cell_type": "markdown",
   "metadata": {},
   "source": [
    "## Install some packages"
   ]
  },
  {
   "cell_type": "code",
   "execution_count": 1,
   "metadata": {},
   "outputs": [
    {
     "name": "stderr",
     "output_type": "stream",
     "text": [
      "Using TensorFlow backend.\n"
     ]
    }
   ],
   "source": [
    "import numpy as np\n",
    "from keras.preprocessing import sequence\n",
    "from keras.preprocessing.text import Tokenizer\n",
    "from keras.preprocessing.sequence import sequence\n",
    "from keras import Sequential\n",
    "from keras.layers import Dense, Activation, Dropout, Embedding, Conv1D, GlobalMaxPool1D\n",
    "import matplotlib as mpl\n",
    "import matplotlib.pyplot as plt\n",
    "import tensorflow as tf\n",
    "import os"
   ]
  },
  {
   "cell_type": "markdown",
   "metadata": {},
   "source": [
    "## Take a sneak peek at the data\n",
    "I first planned to crawl data from autohome.com but it has very strong anti-spider technique. To save time and try to evaluate if it works, I crawled around 199k comments from 58che.com to see if the CNN method works. "
   ]
  },
  {
   "cell_type": "code",
   "execution_count": 2,
   "metadata": {},
   "outputs": [
    {
     "name": "stdout",
     "output_type": "stream",
     "text": [
      "Length of data set: 189139\n",
      "First few lines of x:\n",
      "['不过就是起步慢一点。', '一箱油才跑400多，严重怀疑行车电脑油耗的准确性', '前中央扶手储存空间太小,只能开车垫胳膊用.', '先介绍一下我的车，骐达手动最最最最低配。月光银，4000公里以前基本油耗是5.7-5.9没有超过6.0，不过4000公里以后感觉发动机明显声音变大，油耗也有点升高达到6.0 所以近期也比较着急拉车赶紧做二保。', '我跑过180KM有点飘', '再有一个就是风声大了点', '空调坏过一次', '空调我坐后面就比较吃亏了，开到3档前面喊冷，我刚感觉到不热，比较麻烦！', '我的DD是08年6月的，现在跑了3W6。今天上班的时候挂D档起步，听到右侧前轮有轻微的“吱吱”声，下车查看无果。继续开车前进，“吱吱”声依然，踩刹车时“吱吱”声就变的很大了，松开刹车，声响随着车子前进和提速慢慢变小。再踩一脚刹车“吱吱”声又出现了。不', '车内异响。有时在波棍座附近、有时在车顶灯附近、有时在左驾驶员车窗上方...确实有时很烦人，']\n",
      "First few lines of y:\n",
      "[0, 0, 0, 0, 0, 0, 0, 0, 0, 0]\n"
     ]
    }
   ],
   "source": [
    "DS_PATH = 'data/'\n",
    "LABELS = {0:'neg',1:'pos'}\n",
    "\n",
    "x = []\n",
    "y = []\n",
    "\n",
    "with open(os.path.join(DS_PATH, 'comment.txt'),'r',encoding='utf-8') as f:\n",
    "    for line in f:\n",
    "        row = line.split(' ', 1)\n",
    "        x.append(row[1].strip())\n",
    "        y.append(row[0])\n",
    "\n",
    "y = [1 if _=='v1' else 0 for _ in y]\n",
    "\n",
    "print('Length of data set: {}'.format(len(x)))\n",
    "print('First few lines of x:')\n",
    "print(x[:10])\n",
    "print('First few lines of y:')\n",
    "print(y[:10])"
   ]
  },
  {
   "cell_type": "markdown",
   "metadata": {},
   "source": [
    "## Preprocessing\n",
    "We will try preprocessing Chinese text in 2 ways\n",
    "1. Without word split\n",
    "2. With word split (like using jieba package)\n",
    "\n",
    "In this post I will explore the method without word split.\n",
    "We use keras Tokenizer to turn word(charactor) into index"
   ]
  },
  {
   "cell_type": "code",
   "execution_count": 3,
   "metadata": {},
   "outputs": [
    {
     "name": "stdout",
     "output_type": "stream",
     "text": [
      "Length of dictionary:\n",
      "4485\n",
      "First few items in dictionary:\n",
      "{'，': 1, '的': 2, '。': 3, '不': 4, '车': 5, '是': 6, '有': 7, '了': 8, '0': 9, ' ': 10}\n"
     ]
    }
   ],
   "source": [
    "tokenizer = Tokenizer(char_level=True, oov_token='UNK')\n",
    "tokenizer.fit_on_texts(x)\n",
    "DICTLEN = len(tokenizer.word_index)\n",
    "print('Length of dictionary:')\n",
    "print(DICTLEN)\n",
    "keys = [_[0] for _ in tokenizer.word_index.items()]\n",
    "values = [_[1] for _ in tokenizer.word_index.items()]\n",
    "print('First few items in dictionary:')\n",
    "print({k: v for k, v in zip(keys[:10],values[:10])})"
   ]
  },
  {
   "cell_type": "code",
   "execution_count": 4,
   "metadata": {},
   "outputs": [
    {
     "name": "stdout",
     "output_type": "stream",
     "text": [
      "First example after preprocessing:\n",
      "[4, 51, 29, 6, 79, 191, 299, 11, 32, 3]\n"
     ]
    }
   ],
   "source": [
    "x_seq = tokenizer.texts_to_sequences(x)\n",
    "print('First example after preprocessing:')\n",
    "print(x_seq[0])"
   ]
  },
  {
   "cell_type": "code",
   "execution_count": 5,
   "metadata": {},
   "outputs": [
    {
     "data": {
      "text/plain": [
       "[[22, 161, 51, 17, 92, 9, 352, 193, 7, 32, 692],\n",
       " [272, 7, 11, 27, 29, 6, 236, 83, 14, 8, 32],\n",
       " [33, 121, 621, 51, 11, 144]]"
      ]
     },
     "execution_count": 5,
     "metadata": {},
     "output_type": "execute_result"
    }
   ],
   "source": [
    "x_seq[4:7]"
   ]
  },
  {
   "cell_type": "markdown",
   "metadata": {},
   "source": [
    "### Padding sequence\n",
    "In order to train CNN easier, I make comments into same length. To do so, I use the pad_sequence function in Keras."
   ]
  },
  {
   "cell_type": "code",
   "execution_count": 6,
   "metadata": {},
   "outputs": [
    {
     "data": {
      "image/png": "[encoded data removed]",
      "text/plain": [
       "<Figure size 432x288 with 1 Axes>"
      ]
     },
     "metadata": {},
     "output_type": "display_data"
    }
   ],
   "source": [
    "plt.hist(x=[len(_) for _ in x_seq], bins=100);"
   ]
  },
  {
   "cell_type": "markdown",
   "metadata": {},
   "source": [
    "Let's set maxlen as 50 to be our first choice."
   ]
  },
  {
   "cell_type": "code",
   "execution_count": 7,
   "metadata": {},
   "outputs": [],
   "source": [
    "MAXLEN = 50\n",
    "x_idx = sequence.pad_sequences(x_seq, maxlen=MAXLEN, padding='post', value=0)\n",
    "#x_idx = x_idx.tolist()"
   ]
  },
  {
   "cell_type": "markdown",
   "metadata": {},
   "source": [
    "## Split the data into train set and val set"
   ]
  },
  {
   "cell_type": "code",
   "execution_count": 8,
   "metadata": {},
   "outputs": [],
   "source": [
    "np.random.seed(1)\n",
    "index = list(range(len(x)))\n",
    "np.random.shuffle(index)\n",
    "\n",
    "# set training length as 95%\n",
    "TRAINLEN = round(len(x)*0.95)\n",
    "train_index = index[:TRAINLEN]\n",
    "val_index = index[TRAINLEN:]"
   ]
  },
  {
   "cell_type": "code",
   "execution_count": 9,
   "metadata": {},
   "outputs": [],
   "source": [
    "x_train_raw = [x[i] for i in train_index]\n",
    "x_val_raw = [x[i] for i in val_index]\n",
    "\n",
    "x_train = [x_idx[i] for i in train_index]\n",
    "y_train = [y[i] for i in train_index]\n",
    "x_val = [x_idx[i] for i in val_index]\n",
    "y_val = [y[i] for i in val_index]"
   ]
  },
  {
   "cell_type": "code",
   "execution_count": 10,
   "metadata": {},
   "outputs": [
    {
     "name": "stdout",
     "output_type": "stream",
     "text": [
      "Positive count for whole data set:\n",
      "112515 (0.5948799560111876)\n",
      "Positive count for training set:\n",
      "106915 (0.5950234302823878)\n",
      "Positive count for validation set:\n",
      "5600 (0.5921539600296077)\n"
     ]
    }
   ],
   "source": [
    "print('Positive count for whole data set:')\n",
    "print('{} ({})'.format(sum(y), sum(y)/len(y)))\n",
    "print('Positive count for training set:')\n",
    "print('{} ({})'.format(sum(y_train), sum(y_train)/len(y_train)))\n",
    "print('Positive count for validation set:')\n",
    "print('{} ({})'.format(sum(y_val), sum(y_val)/len(y_val)))"
   ]
  },
  {
   "cell_type": "code",
   "execution_count": 11,
   "metadata": {},
   "outputs": [
    {
     "data": {
      "text/plain": [
       "'我喜欢宝马的前脸，尊贵时尚且不失霸气。'"
      ]
     },
     "execution_count": 11,
     "metadata": {},
     "output_type": "execute_result"
    }
   ],
   "source": [
    "x_train_raw[5]"
   ]
  },
  {
   "cell_type": "code",
   "execution_count": 19,
   "metadata": {},
   "outputs": [
    {
     "data": {
      "text/plain": [
       "array([  22,  156,  228,  495,  332,    2,   73,  555,    1, 1359,  469,\n",
       "         19,  244,  280,    4,  510,  637,   89,    3,    0,    0,    0,\n",
       "          0,    0,    0,    0,    0,    0,    0,    0,    0,    0,    0,\n",
       "          0,    0,    0,    0,    0,    0,    0,    0,    0,    0,    0,\n",
       "          0,    0,    0,    0,    0,    0])"
      ]
     },
     "execution_count": 19,
     "metadata": {},
     "output_type": "execute_result"
    }
   ],
   "source": [
    "x_train[5]"
   ]
  },
  {
   "cell_type": "code",
   "execution_count": 12,
   "metadata": {},
   "outputs": [
    {
     "data": {
      "text/plain": [
       "1"
      ]
     },
     "execution_count": 12,
     "metadata": {},
     "output_type": "execute_result"
    }
   ],
   "source": [
    "y_train[5]"
   ]
  },
  {
   "cell_type": "code",
   "execution_count": 13,
   "metadata": {},
   "outputs": [
    {
     "data": {
      "text/plain": [
       "'油耗:让人惊喜'"
      ]
     },
     "execution_count": 13,
     "metadata": {},
     "output_type": "execute_result"
    }
   ],
   "source": [
    "x_val_raw[1]"
   ]
  },
  {
   "cell_type": "code",
   "execution_count": 20,
   "metadata": {},
   "outputs": [
    {
     "data": {
      "text/plain": [
       "array([ 15,  54,  16, 185,  46, 391, 156,   0,   0,   0,   0,   0,   0,\n",
       "         0,   0,   0,   0,   0,   0,   0,   0,   0,   0,   0,   0,   0,\n",
       "         0,   0,   0,   0,   0,   0,   0,   0,   0,   0,   0,   0,   0,\n",
       "         0,   0,   0,   0,   0,   0,   0,   0,   0,   0,   0])"
      ]
     },
     "execution_count": 20,
     "metadata": {},
     "output_type": "execute_result"
    }
   ],
   "source": [
    "x_val[1]"
   ]
  },
  {
   "cell_type": "code",
   "execution_count": 14,
   "metadata": {},
   "outputs": [
    {
     "data": {
      "text/plain": [
       "1"
      ]
     },
     "execution_count": 14,
     "metadata": {},
     "output_type": "execute_result"
    }
   ],
   "source": [
    "y_val[1]"
   ]
  },
  {
   "cell_type": "markdown",
   "metadata": {},
   "source": [
    "### Train CNN model\n",
    "Set up some basic hyper parameters first. Based on CPU or GPU:"
   ]
  },
  {
   "cell_type": "code",
   "execution_count": 15,
   "metadata": {},
   "outputs": [],
   "source": [
    "if tf.test.is_gpu_available():\n",
    "    BATCH_SIZE = 128\n",
    "    EPOCHS = 8\n",
    "\n",
    "else:\n",
    "    BATCH_SIZE = 64\n",
    "    EPOCHS = 5"
   ]
  },
  {
   "cell_type": "code",
   "execution_count": 16,
   "metadata": {},
   "outputs": [],
   "source": [
    "EMBED_DIM = 40\n",
    "FILTERS = 128\n",
    "KERNEL_SIZE = 3\n",
    "HIDDEN_UNITS = 128\n",
    "VOCAB_SIZE = len(tokenizer.word_index)+1"
   ]
  },
  {
   "cell_type": "markdown",
   "metadata": {},
   "source": [
    "#### 1. without drop out layer"
   ]
  },
  {
   "cell_type": "code",
   "execution_count": 17,
   "metadata": {},
   "outputs": [
    {
     "name": "stdout",
     "output_type": "stream",
     "text": [
      "_________________________________________________________________\n",
      "Layer (type)                 Output Shape              Param #   \n",
      "=================================================================\n",
      "embedding_1 (Embedding)      (None, 50, 40)            179440    \n",
      "_________________________________________________________________\n",
      "conv1d_1 (Conv1D)            (None, 48, 128)           15488     \n",
      "_________________________________________________________________\n",
      "global_max_pooling1d_1 (Glob (None, 128)               0         \n",
      "_________________________________________________________________\n",
      "dense_1 (Dense)              (None, 128)               16512     \n",
      "_________________________________________________________________\n",
      "activation_1 (Activation)    (None, 128)               0         \n",
      "_________________________________________________________________\n",
      "dense_2 (Dense)              (None, 1)                 129       \n",
      "_________________________________________________________________\n",
      "activation_2 (Activation)    (None, 1)                 0         \n",
      "=================================================================\n",
      "Total params: 211,569\n",
      "Trainable params: 211,569\n",
      "Non-trainable params: 0\n",
      "_________________________________________________________________\n"
     ]
    }
   ],
   "source": [
    "model1 = Sequential()\n",
    "\n",
    "# Start off with embedding layer to map vocab ids into EMBED_DIM dimensions\n",
    "model1.add(Embedding(VOCAB_SIZE, EMBED_DIM, input_length=MAXLEN))\n",
    "#model.add(Dropout(0.2))\n",
    "\n",
    "# Add CNN\n",
    "model1.add(Conv1D(filters=FILTERS, kernel_size=KERNEL_SIZE, activation='relu'))\n",
    "\n",
    "# Add Max Pooling\n",
    "model1.add(GlobalMaxPool1D())\n",
    "\n",
    "# Add an MLP\n",
    "model1.add(Dense(HIDDEN_UNITS))\n",
    "#model.add(Dropout(0.2))\n",
    "model1.add(Activation('relu'))\n",
    "\n",
    "# Project into single unit output layer, and convert with sigmoid\n",
    "model1.add(Dense(1))\n",
    "model1.add(Activation('sigmoid'))\n",
    "\n",
    "model1.compile(optimizer='adam', loss='binary_crossentropy', metrics=['accuracy'])\n",
    "model1.summary()"
   ]
  },
  {
   "cell_type": "code",
   "execution_count": 18,
   "metadata": {},
   "outputs": [
    {
     "name": "stdout",
     "output_type": "stream",
     "text": [
      "Train on 161713 samples, validate on 17969 samples\n",
      "Epoch 1/5\n",
      "161713/161713 [==============================] - 62s 384us/step - loss: 0.2738 - acc: 0.8857 - val_loss: 0.2570 - val_acc: 0.8940\n",
      "Epoch 2/5\n",
      "161713/161713 [==============================] - 63s 392us/step - loss: 0.2126 - acc: 0.9173 - val_loss: 0.2354 - val_acc: 0.9077\n",
      "Epoch 3/5\n",
      "161713/161713 [==============================] - 65s 403us/step - loss: 0.1852 - acc: 0.9286 - val_loss: 0.2306 - val_acc: 0.9096\n",
      "Epoch 4/5\n",
      "161713/161713 [==============================] - 63s 392us/step - loss: 0.1623 - acc: 0.9388 - val_loss: 0.2337 - val_acc: 0.9080\n",
      "Epoch 5/5\n",
      "161713/161713 [==============================] - 65s 399us/step - loss: 0.1423 - acc: 0.9473 - val_loss: 0.2596 - val_acc: 0.9057\n"
     ]
    },
    {
     "data": {
      "text/plain": [
       "<keras.callbacks.History at 0x1c1a1b8ccf8>"
      ]
     },
     "execution_count": 18,
     "metadata": {},
     "output_type": "execute_result"
    }
   ],
   "source": [
    "model1.fit(np.array(x_train), np.array(y_train), \n",
    "          batch_size=BATCH_SIZE, \n",
    "          epochs=EPOCHS, \n",
    "          validation_split=0.1)"
   ]
  },
  {
   "cell_type": "markdown",
   "metadata": {},
   "source": [
    "As we can see epoch 3 got the lowest loss and best accuracy. For epoch > 3, the model started to overfit. "
   ]
  },
  {
   "cell_type": "code",
   "execution_count": 21,
   "metadata": {},
   "outputs": [
    {
     "name": "stdout",
     "output_type": "stream",
     "text": [
      "9457/9457 [==============================] - 1s 59us/step\n",
      "Accuracy:\n",
      "0.9069472347957659\n"
     ]
    }
   ],
   "source": [
    "score, acc = model1.evaluate(np.array(x_val), np.array(y_val), batch_size=BATCH_SIZE)\n",
    "print('Accuracy:')\n",
    "print(acc)"
   ]
  },
  {
   "cell_type": "markdown",
   "metadata": {},
   "source": [
    "Evaluation on validation set:"
   ]
  },
  {
   "cell_type": "code",
   "execution_count": 22,
   "metadata": {},
   "outputs": [
    {
     "name": "stdout",
     "output_type": "stream",
     "text": [
      "             precision    recall  f1-score   support\n",
      "\n",
      "        neg       0.86      0.92      0.89      3857\n",
      "        pos       0.94      0.90      0.92      5600\n",
      "\n",
      "avg / total       0.91      0.91      0.91      9457\n",
      "\n"
     ]
    }
   ],
   "source": [
    "from sklearn.metrics import classification_report\n",
    "\n",
    "pred = model1.predict_classes(np.array(x_val))\n",
    "report = classification_report(y_pred=pred, y_true=np.array(y_val), target_names=list(LABELS.values()))\n",
    "print(report)"
   ]
  },
  {
   "cell_type": "code",
   "execution_count": 23,
   "metadata": {},
   "outputs": [
    {
     "data": {
      "image/png": "[encoded data removed]",
      "text/plain": [
       "<Figure size 432x288 with 2 Axes>"
      ]
     },
     "metadata": {},
     "output_type": "display_data"
    }
   ],
   "source": [
    "import pandas as pd\n",
    "import seaborn as sns\n",
    "\n",
    "predlist = [_[0] for _ in pred]\n",
    "df = pd.DataFrame(data={'Predict':predlist,\n",
    "                       'Actual': y_val})\n",
    "df_cm = df.groupby(['Predict','Actual']).count().reset_index()\n",
    "df_cm['Predict'] = df_cm['Predict'].map(LABELS)\n",
    "df_cm['Actual'] = df_cm['Actual'].map(LABELS)\n",
    "count = df.groupby(['Predict','Actual'])['Predict'].count().values\n",
    "df_cm['count'] = pd.Series(count)\n",
    "df_cm = df_cm.pivot(index='Predict', columns='Actual', values='count')\n",
    "sns.heatmap(df_cm, annot=True, annot_kws={'size':16}, fmt='g', cmap='Greens', xticklabels=True, yticklabels=True);"
   ]
  },
  {
   "cell_type": "markdown",
   "metadata": {},
   "source": [
    "#### 2. with drop out layer"
   ]
  },
  {
   "cell_type": "code",
   "execution_count": 26,
   "metadata": {},
   "outputs": [
    {
     "name": "stdout",
     "output_type": "stream",
     "text": [
      "_________________________________________________________________\n",
      "Layer (type)                 Output Shape              Param #   \n",
      "=================================================================\n",
      "embedding_3 (Embedding)      (None, 50, 40)            179440    \n",
      "_________________________________________________________________\n",
      "dropout_3 (Dropout)          (None, 50, 40)            0         \n",
      "_________________________________________________________________\n",
      "conv1d_3 (Conv1D)            (None, 48, 128)           15488     \n",
      "_________________________________________________________________\n",
      "global_max_pooling1d_3 (Glob (None, 128)               0         \n",
      "_________________________________________________________________\n",
      "dense_5 (Dense)              (None, 128)               16512     \n",
      "_________________________________________________________________\n",
      "dropout_4 (Dropout)          (None, 128)               0         \n",
      "_________________________________________________________________\n",
      "activation_5 (Activation)    (None, 128)               0         \n",
      "_________________________________________________________________\n",
      "dense_6 (Dense)              (None, 1)                 129       \n",
      "_________________________________________________________________\n",
      "activation_6 (Activation)    (None, 1)                 0         \n",
      "=================================================================\n",
      "Total params: 211,569\n",
      "Trainable params: 211,569\n",
      "Non-trainable params: 0\n",
      "_________________________________________________________________\n"
     ]
    }
   ],
   "source": [
    "model2 = Sequential()\n",
    "\n",
    "# Start off with embedding layer to map vocab ids into EMBED_DIM dimensions\n",
    "model2.add(Embedding(VOCAB_SIZE, EMBED_DIM, input_length=MAXLEN))\n",
    "model2.add(Dropout(0.2))\n",
    "\n",
    "# Add CNN\n",
    "model2.add(Conv1D(filters=FILTERS, kernel_size=KERNEL_SIZE, activation='relu'))\n",
    "\n",
    "# Add Max Pooling\n",
    "model2.add(GlobalMaxPool1D())\n",
    "\n",
    "# Add an MLP\n",
    "model2.add(Dense(HIDDEN_UNITS))\n",
    "model2.add(Dropout(0.2))\n",
    "model2.add(Activation('relu'))\n",
    "\n",
    "# Project into single unit output layer, and convert with sigmoid\n",
    "model2.add(Dense(1))\n",
    "model2.add(Activation('sigmoid'))\n",
    "\n",
    "model2.compile(optimizer='adam', loss='binary_crossentropy', metrics=['accuracy'])\n",
    "model2.summary()"
   ]
  },
  {
   "cell_type": "code",
   "execution_count": 27,
   "metadata": {},
   "outputs": [
    {
     "name": "stdout",
     "output_type": "stream",
     "text": [
      "Train on 161713 samples, validate on 17969 samples\n",
      "Epoch 1/5\n",
      "161713/161713 [==============================] - 71s 441us/step - loss: 0.2932 - acc: 0.8754 - val_loss: 0.2544 - val_acc: 0.8973\n",
      "Epoch 2/5\n",
      "161713/161713 [==============================] - 72s 444us/step - loss: 0.2356 - acc: 0.9066 - val_loss: 0.2502 - val_acc: 0.8985\n",
      "Epoch 3/5\n",
      "161713/161713 [==============================] - 73s 452us/step - loss: 0.2167 - acc: 0.9149 - val_loss: 0.2459 - val_acc: 0.9004\n",
      "Epoch 4/5\n",
      "161713/161713 [==============================] - 72s 448us/step - loss: 0.2023 - acc: 0.9211 - val_loss: 0.2327 - val_acc: 0.9078\n",
      "Epoch 5/5\n",
      "161713/161713 [==============================] - 72s 444us/step - loss: 0.1926 - acc: 0.9258 - val_loss: 0.2321 - val_acc: 0.9080\n"
     ]
    },
    {
     "data": {
      "text/plain": [
       "<keras.callbacks.History at 0x1c1ad273c18>"
      ]
     },
     "execution_count": 27,
     "metadata": {},
     "output_type": "execute_result"
    }
   ],
   "source": [
    "model2.fit(np.array(x_train), np.array(y_train), \n",
    "          batch_size=BATCH_SIZE, \n",
    "          epochs=EPOCHS, \n",
    "          validation_split=0.1)"
   ]
  },
  {
   "cell_type": "markdown",
   "metadata": {},
   "source": [
    "From above it seems like we can set EPOCHS larger because val_loss is still decreasing."
   ]
  },
  {
   "cell_type": "code",
   "execution_count": 28,
   "metadata": {},
   "outputs": [
    {
     "name": "stdout",
     "output_type": "stream",
     "text": [
      "9457/9457 [==============================] - 1s 73us/step\n",
      "Accuracy:\n",
      "0.9126572910468977\n"
     ]
    }
   ],
   "source": [
    "score, acc = model2.evaluate(np.array(x_val), np.array(y_val), batch_size=BATCH_SIZE)\n",
    "print('Accuracy:')\n",
    "print(acc)"
   ]
  },
  {
   "cell_type": "markdown",
   "metadata": {},
   "source": [
    "Evaluation on validation set:"
   ]
  },
  {
   "cell_type": "code",
   "execution_count": 29,
   "metadata": {},
   "outputs": [
    {
     "name": "stdout",
     "output_type": "stream",
     "text": [
      "             precision    recall  f1-score   support\n",
      "\n",
      "        neg       0.88      0.91      0.89      3857\n",
      "        pos       0.94      0.91      0.93      5600\n",
      "\n",
      "avg / total       0.91      0.91      0.91      9457\n",
      "\n"
     ]
    }
   ],
   "source": [
    "from sklearn.metrics import classification_report\n",
    "\n",
    "pred = model2.predict_classes(np.array(x_val))\n",
    "report = classification_report(y_pred=pred, y_true=np.array(y_val), target_names=list(LABELS.values()))\n",
    "print(report)"
   ]
  },
  {
   "cell_type": "code",
   "execution_count": 30,
   "metadata": {},
   "outputs": [
    {
     "data": {
      "image/png": "[encoded data removed]",
      "text/plain": [
       "<Figure size 432x288 with 2 Axes>"
      ]
     },
     "metadata": {},
     "output_type": "display_data"
    }
   ],
   "source": [
    "import pandas as pd\n",
    "import seaborn as sns\n",
    "\n",
    "predlist = [_[0] for _ in pred]\n",
    "df = pd.DataFrame(data={'Predict':predlist,\n",
    "                       'Actual': y_val})\n",
    "df_cm = df.groupby(['Predict','Actual']).count().reset_index()\n",
    "df_cm['Predict'] = df_cm['Predict'].map(LABELS)\n",
    "df_cm['Actual'] = df_cm['Actual'].map(LABELS)\n",
    "count = df.groupby(['Predict','Actual'])['Predict'].count().values\n",
    "df_cm['count'] = pd.Series(count)\n",
    "df_cm = df_cm.pivot(index='Predict', columns='Actual', values='count')\n",
    "sns.heatmap(df_cm, annot=True, annot_kws={'size':16}, fmt='g', cmap='Greens', xticklabels=True, yticklabels=True);"
   ]
  },
  {
   "cell_type": "markdown",
   "metadata": {},
   "source": [
    "#### 3. Changing filter kernal size from 3 to 5"
   ]
  },
  {
   "cell_type": "code",
   "execution_count": 31,
   "metadata": {},
   "outputs": [],
   "source": [
    "KERNEL_SIZE = 5"
   ]
  },
  {
   "cell_type": "code",
   "execution_count": 32,
   "metadata": {},
   "outputs": [
    {
     "name": "stdout",
     "output_type": "stream",
     "text": [
      "_________________________________________________________________\n",
      "Layer (type)                 Output Shape              Param #   \n",
      "=================================================================\n",
      "embedding_4 (Embedding)      (None, 50, 40)            179440    \n",
      "_________________________________________________________________\n",
      "dropout_5 (Dropout)          (None, 50, 40)            0         \n",
      "_________________________________________________________________\n",
      "conv1d_4 (Conv1D)            (None, 46, 128)           25728     \n",
      "_________________________________________________________________\n",
      "global_max_pooling1d_4 (Glob (None, 128)               0         \n",
      "_________________________________________________________________\n",
      "dense_7 (Dense)              (None, 128)               16512     \n",
      "_________________________________________________________________\n",
      "dropout_6 (Dropout)          (None, 128)               0         \n",
      "_________________________________________________________________\n",
      "activation_7 (Activation)    (None, 128)               0         \n",
      "_________________________________________________________________\n",
      "dense_8 (Dense)              (None, 1)                 129       \n",
      "_________________________________________________________________\n",
      "activation_8 (Activation)    (None, 1)                 0         \n",
      "=================================================================\n",
      "Total params: 221,809\n",
      "Trainable params: 221,809\n",
      "Non-trainable params: 0\n",
      "_________________________________________________________________\n"
     ]
    }
   ],
   "source": [
    "model3 = Sequential()\n",
    "\n",
    "# Start off with embedding layer to map vocab ids into EMBED_DIM dimensions\n",
    "model3.add(Embedding(VOCAB_SIZE, EMBED_DIM, input_length=MAXLEN))\n",
    "model3.add(Dropout(0.2))\n",
    "\n",
    "# Add CNN\n",
    "model3.add(Conv1D(filters=FILTERS, kernel_size=KERNEL_SIZE, activation='relu'))\n",
    "\n",
    "# Add Max Pooling\n",
    "model3.add(GlobalMaxPool1D())\n",
    "\n",
    "# Add an MLP\n",
    "model3.add(Dense(HIDDEN_UNITS))\n",
    "model3.add(Dropout(0.2))\n",
    "model3.add(Activation('relu'))\n",
    "\n",
    "# Project into single unit output layer, and convert with sigmoid\n",
    "model3.add(Dense(1))\n",
    "model3.add(Activation('sigmoid'))\n",
    "\n",
    "model3.compile(optimizer='adam', loss='binary_crossentropy', metrics=['accuracy'])\n",
    "model3.summary()"
   ]
  },
  {
   "cell_type": "code",
   "execution_count": 33,
   "metadata": {},
   "outputs": [
    {
     "name": "stdout",
     "output_type": "stream",
     "text": [
      "Train on 161713 samples, validate on 17969 samples\n",
      "Epoch 1/5\n",
      "161713/161713 [==============================] - 76s 473us/step - loss: 0.2876 - acc: 0.8793 - val_loss: 0.2502 - val_acc: 0.9003\n",
      "Epoch 2/5\n",
      "161713/161713 [==============================] - 78s 484us/step - loss: 0.2290 - acc: 0.9092 - val_loss: 0.2436 - val_acc: 0.9016\n",
      "Epoch 3/5\n",
      "161713/161713 [==============================] - 78s 480us/step - loss: 0.2082 - acc: 0.9187 - val_loss: 0.2358 - val_acc: 0.9082\n",
      "Epoch 4/5\n",
      "161713/161713 [==============================] - 79s 486us/step - loss: 0.1940 - acc: 0.9248 - val_loss: 0.2356 - val_acc: 0.9091\n",
      "Epoch 5/5\n",
      "161713/161713 [==============================] - 79s 489us/step - loss: 0.1844 - acc: 0.9289 - val_loss: 0.2321 - val_acc: 0.9084\n"
     ]
    },
    {
     "data": {
      "text/plain": [
       "<keras.callbacks.History at 0x1c1b0d95f60>"
      ]
     },
     "execution_count": 33,
     "metadata": {},
     "output_type": "execute_result"
    }
   ],
   "source": [
    "model3.fit(np.array(x_train), np.array(y_train), \n",
    "          batch_size=BATCH_SIZE, \n",
    "          epochs=EPOCHS, \n",
    "          validation_split=0.1)"
   ]
  },
  {
   "cell_type": "code",
   "execution_count": 34,
   "metadata": {},
   "outputs": [
    {
     "name": "stdout",
     "output_type": "stream",
     "text": [
      "9457/9457 [==============================] - 1s 78us/step\n",
      "Accuracy:\n",
      "0.9166754786328128\n"
     ]
    }
   ],
   "source": [
    "score, acc = model3.evaluate(np.array(x_val), np.array(y_val), batch_size=BATCH_SIZE)\n",
    "print('Accuracy:')\n",
    "print(acc)"
   ]
  },
  {
   "cell_type": "code",
   "execution_count": 35,
   "metadata": {},
   "outputs": [
    {
     "name": "stdout",
     "output_type": "stream",
     "text": [
      "             precision    recall  f1-score   support\n",
      "\n",
      "        neg       0.90      0.90      0.90      3857\n",
      "        pos       0.93      0.93      0.93      5600\n",
      "\n",
      "avg / total       0.92      0.92      0.92      9457\n",
      "\n"
     ]
    }
   ],
   "source": [
    "from sklearn.metrics import classification_report\n",
    "\n",
    "pred = model3.predict_classes(np.array(x_val))\n",
    "report = classification_report(y_pred=pred, y_true=np.array(y_val), target_names=list(LABELS.values()))\n",
    "print(report)"
   ]
  },
  {
   "cell_type": "code",
   "execution_count": 36,
   "metadata": {},
   "outputs": [
    {
     "data": {
      "image/png": "[encoded data removed]",
      "text/plain": [
       "<Figure size 432x288 with 2 Axes>"
      ]
     },
     "metadata": {},
     "output_type": "display_data"
    }
   ],
   "source": [
    "import pandas as pd\n",
    "import seaborn as sns\n",
    "\n",
    "predlist = [_[0] for _ in pred]\n",
    "df = pd.DataFrame(data={'Predict':predlist,\n",
    "                       'Actual': y_val})\n",
    "df_cm = df.groupby(['Predict','Actual']).count().reset_index()\n",
    "df_cm['Predict'] = df_cm['Predict'].map(LABELS)\n",
    "df_cm['Actual'] = df_cm['Actual'].map(LABELS)\n",
    "count = df.groupby(['Predict','Actual'])['Predict'].count().values\n",
    "df_cm['count'] = pd.Series(count)\n",
    "df_cm = df_cm.pivot(index='Predict', columns='Actual', values='count')\n",
    "sns.heatmap(df_cm, annot=True, annot_kws={'size':16}, fmt='g', cmap='Greens', xticklabels=True, yticklabels=True);"
   ]
  },
  {
   "cell_type": "markdown",
   "metadata": {},
   "source": [
    "### Check error\n",
    "We choose the best performing model and look at the wrong predictions and dig out what to do next.\n",
    "#### 1. positive comment"
   ]
  },
  {
   "cell_type": "code",
   "execution_count": 44,
   "metadata": {},
   "outputs": [],
   "source": [
    "best_model = model3\n",
    "pred = best_model.predict_classes(np.array(x_val))\n",
    "predlist = [_[0] for _ in pred]\n",
    "df = pd.DataFrame(data={'Predict':predlist,\n",
    "                       'Actual': y_val})\n",
    "error_index = df[df['Predict']!=df['Actual']].index"
   ]
  },
  {
   "cell_type": "code",
   "execution_count": 58,
   "metadata": {},
   "outputs": [
    {
     "name": "stdout",
     "output_type": "stream",
     "text": [
      "下次便宜点 0 1\n"
     ]
    }
   ],
   "source": [
    "print(x_val_raw[error_index[0]],y_val[error_index[0]],predlist[error_index[0]])"
   ]
  },
  {
   "cell_type": "code",
   "execution_count": 60,
   "metadata": {},
   "outputs": [
    {
     "name": "stdout",
     "output_type": "stream",
     "text": [
      "永远不知足，就是没有5，7的。3，6的还不错，在城市使用已经足够了，超车什么的很利落，想撒撒野就不够了。 0 1\n"
     ]
    }
   ],
   "source": [
    "print(x_val_raw[error_index[1]],y_val[error_index[1]],predlist[error_index[1]])"
   ]
  },
  {
   "cell_type": "code",
   "execution_count": 61,
   "metadata": {},
   "outputs": [
    {
     "name": "stdout",
     "output_type": "stream",
     "text": [
      "操控:刹车一般 1 0\n"
     ]
    }
   ],
   "source": [
    "print(x_val_raw[error_index[2]],y_val[error_index[2]],predlist[error_index[2]])"
   ]
  },
  {
   "cell_type": "code",
   "execution_count": 62,
   "metadata": {},
   "outputs": [
    {
     "name": "stdout",
     "output_type": "stream",
     "text": [
      "动力:拖拉机 0 1\n"
     ]
    }
   ],
   "source": [
    "print(x_val_raw[error_index[3]],y_val[error_index[3]],predlist[error_index[3]])"
   ]
  },
  {
   "cell_type": "code",
   "execution_count": 63,
   "metadata": {},
   "outputs": [
    {
     "name": "stdout",
     "output_type": "stream",
     "text": [
      "多功能仪表板太小，1/3是空着没用的，哪怕只显示时间也行啊！老款的仪表显示要方便多了，再次鄙视SVW优点就不说了，省的说自卖自夸。 0 1\n"
     ]
    }
   ],
   "source": [
    "print(x_val_raw[error_index[4]],y_val[error_index[4]],predlist[error_index[4]])"
   ]
  },
  {
   "cell_type": "code",
   "execution_count": null,
   "metadata": {},
   "outputs": [],
   "source": []
  }
 ],
 "metadata": {
  "kernelspec": {
   "display_name": "Python 3",
   "language": "python",
   "name": "python3"
  },
  "language_info": {
   "codemirror_mode": {
    "name": "ipython",
    "version": 3
   },
   "file_extension": ".py",
   "mimetype": "text/x-python",
   "name": "python",
   "nbconvert_exporter": "python",
   "pygments_lexer": "ipython3",
   "version": "3.6.2"
  }
 },
 "nbformat": 4,
 "nbformat_minor": 2
}
